{
 "cells": [
  {
   "cell_type": "markdown",
   "id": "904e237d-65a0-4c65-95a9-25d833a8e0d9",
   "metadata": {},
   "source": [
    "## Python output\n",
    "#### Python is a case sensitivew language "
   ]
  },
  {
   "cell_type": "code",
   "execution_count": 4,
   "id": "1439f070-b6ae-4e77-ba0a-aaa595b3813b",
   "metadata": {},
   "outputs": [
    {
     "name": "stdout",
     "output_type": "stream",
     "text": [
      "Hello World\n"
     ]
    }
   ],
   "source": [
    "# if somethuing is like x(), it is supposed to be a fun\n",
    "print(\"Hello World\")"
   ]
  },
  {
   "cell_type": "code",
   "execution_count": 5,
   "id": "c62d6456-f2ba-4939-8d01-358d293ffefd",
   "metadata": {},
   "outputs": [
    {
     "name": "stdout",
     "output_type": "stream",
     "text": [
      "harshit Kumar \n"
     ]
    }
   ],
   "source": [
    "print(\"harshit Kumar \")"
   ]
  },
  {
   "cell_type": "code",
   "execution_count": 6,
   "id": "b81617f9-2312-474f-a7b2-469242c9ba8e",
   "metadata": {},
   "outputs": [
    {
     "name": "stdout",
     "output_type": "stream",
     "text": [
      "7\n"
     ]
    }
   ],
   "source": [
    "print(7)"
   ]
  },
  {
   "cell_type": "code",
   "execution_count": 7,
   "id": "57f10177-e6ba-47cf-8313-4fc98392495b",
   "metadata": {},
   "outputs": [
    {
     "name": "stdout",
     "output_type": "stream",
     "text": [
      "True\n"
     ]
    }
   ],
   "source": [
    "print(True)"
   ]
  },
  {
   "cell_type": "code",
   "execution_count": 8,
   "id": "d62cf566-8a12-4f74-bed1-5107d36dfeea",
   "metadata": {},
   "outputs": [
    {
     "name": "stdout",
     "output_type": "stream",
     "text": [
      "hello 1 2 3 4 True\n"
     ]
    }
   ],
   "source": [
    "print('hello',1,2,3,4,True)   # There is space in output bcz there is also a sep opton and its dafault value is space "
   ]
  },
  {
   "cell_type": "code",
   "execution_count": 9,
   "id": "f40bb90f-6cbc-4f57-bc32-8104ee3ee48c",
   "metadata": {},
   "outputs": [
    {
     "name": "stdout",
     "output_type": "stream",
     "text": [
      "hello:1:2:3:4:True\n"
     ]
    }
   ],
   "source": [
    "print('hello',1,2,3,4,True ,sep=':')   # There is space in output bcz there is also a sep opton and its dafault value is space "
   ]
  },
  {
   "cell_type": "code",
   "execution_count": 11,
   "id": "422d3c0e-7bf1-4537-9658-8e07347d0731",
   "metadata": {},
   "outputs": [
    {
     "name": "stdout",
     "output_type": "stream",
     "text": [
      "Hello\n",
      "Hie\n"
     ]
    }
   ],
   "source": [
    "print(\"Hello\")\n",
    "print(\"Hie\")   # why the the both output is in different lines \n",
    "# as print fun has als option of end and its default value is end='/n'"
   ]
  },
  {
   "cell_type": "code",
   "execution_count": 12,
   "id": "5ff4990e-63b1-421e-af3b-07acbaa1649c",
   "metadata": {},
   "outputs": [
    {
     "name": "stdout",
     "output_type": "stream",
     "text": [
      "hello-world\n"
     ]
    }
   ],
   "source": [
    "# lets change it \n",
    "print(\"hello\" , end='-')\n",
    "print(\"world\")\n"
   ]
  },
  {
   "cell_type": "markdown",
   "id": "e7066b13-4a0b-48b2-90f5-9820cccbfbaa",
   "metadata": {},
   "source": [
    "## Data Types\n",
    "\n"
   ]
  },
  {
   "cell_type": "code",
   "execution_count": 15,
   "id": "ce1de36d-45b1-4e17-9798-bc7efce52c6e",
   "metadata": {},
   "outputs": [
    {
     "name": "stdout",
     "output_type": "stream",
     "text": [
      "76\n",
      "1e+20\n"
     ]
    }
   ],
   "source": [
    "# integer \n",
    "print(76)\n",
    "print(1e20)   # ths means 10 to power 20  max that python can handle is 1.7e309"
   ]
  },
  {
   "cell_type": "code",
   "execution_count": 16,
   "id": "ab5792a5-dde5-4818-befc-0d19cc67ed15",
   "metadata": {},
   "outputs": [
    {
     "name": "stdout",
     "output_type": "stream",
     "text": [
      "4.55\n"
     ]
    }
   ],
   "source": [
    "# Decimal/Float\n",
    "print(4.55)"
   ]
  },
  {
   "cell_type": "code",
   "execution_count": 17,
   "id": "eb9acfe7-d5ec-4227-b14a-d0742c700998",
   "metadata": {},
   "outputs": [
    {
     "name": "stdout",
     "output_type": "stream",
     "text": [
      "True\n",
      "False\n"
     ]
    }
   ],
   "source": [
    "# Bollean\n",
    "print(True)\n",
    "print(False)"
   ]
  },
  {
   "cell_type": "code",
   "execution_count": null,
   "id": "dbfd86dd-b494-42ba-938d-2b4b8cce7804",
   "metadata": {},
   "outputs": [],
   "source": [
    "# Text /Strings\n",
    "print(\"hell world \")\n",
    "# python dooes not have char type data type as c or cpp"
   ]
  },
  {
   "cell_type": "code",
   "execution_count": 18,
   "id": "f6ecf9a3-616f-4edd-acc8-47780fb18009",
   "metadata": {},
   "outputs": [
    {
     "name": "stdout",
     "output_type": "stream",
     "text": [
      "(45+9j)\n"
     ]
    }
   ],
   "source": [
    "# Comples imaginary type\n",
    "print(45+9j)"
   ]
  },
  {
   "cell_type": "code",
   "execution_count": 19,
   "id": "122b0bb8-d148-4e56-9e8f-4fcece124ffb",
   "metadata": {},
   "outputs": [
    {
     "name": "stdout",
     "output_type": "stream",
     "text": [
      "[2, 3, 5, 7, 89]\n"
     ]
    }
   ],
   "source": [
    "# lists SSimilar as Array in c\n",
    "print([2,3,5,7,89])"
   ]
  },
  {
   "cell_type": "code",
   "execution_count": 20,
   "id": "ba253dc9-f3f1-48a0-a762-5a3b1161d6a3",
   "metadata": {},
   "outputs": [
    {
     "name": "stdout",
     "output_type": "stream",
     "text": [
      "(3, 3, 4, 65, 6)\n"
     ]
    }
   ],
   "source": [
    "# tuple  Sab kuchh same as list bas square bracket ke jagah round bracket use hote hain \n",
    "print((3,3,4,65,6))"
   ]
  },
  {
   "cell_type": "code",
   "execution_count": 21,
   "id": "28f90812-802e-4784-bc05-c6eae233b092",
   "metadata": {},
   "outputs": [
    {
     "name": "stdout",
     "output_type": "stream",
     "text": [
      "{1, 2, 4, 6, 7}\n"
     ]
    }
   ],
   "source": [
    "# Sets\n",
    "# use curly braces \n",
    "print({1,2,4,6,7})"
   ]
  },
  {
   "cell_type": "code",
   "execution_count": 22,
   "id": "9b8da421-cbf5-4180-ba35-2a85c38e68ae",
   "metadata": {},
   "outputs": [
    {
     "name": "stdout",
     "output_type": "stream",
     "text": [
      "{'name': 'Harshit', 'age': 20, 'Subject': 'Data_Science'}\n"
     ]
    }
   ],
   "source": [
    "# Dictionary\n",
    "# ye bhi cyurly braces ke andar hota hai \n",
    "# aur hamesha pair mein hota ha \n",
    "print({'name':'Harshit', 'age':20,'Subject':'Data_Science'})\n"
   ]
  },
  {
   "cell_type": "code",
   "execution_count": 24,
   "id": "e70bb9b2-99b2-459b-8f9e-fd7f51a4461b",
   "metadata": {},
   "outputs": [
    {
     "data": {
      "text/plain": [
       "int"
      ]
     },
     "execution_count": 24,
     "metadata": {},
     "output_type": "execute_result"
    }
   ],
   "source": [
    "# Type\n",
    "type(9)\n",
    "# it can dtect the type of data "
   ]
  },
  {
   "cell_type": "code",
   "execution_count": 25,
   "id": "88477bf9-4048-46d7-859c-ce3b9d8252c0",
   "metadata": {},
   "outputs": [
    {
     "data": {
      "text/plain": [
       "list"
      ]
     },
     "execution_count": 25,
     "metadata": {},
     "output_type": "execute_result"
    }
   ],
   "source": [
    "type([3,5,7,9])"
   ]
  },
  {
   "cell_type": "markdown",
   "id": "bcac1900-2245-408d-a306-33d8e17df98c",
   "metadata": {},
   "source": [
    "## Variables\n",
    "### Varianle are just a container that can hold some values that can used in future \n"
   ]
  },
  {
   "cell_type": "code",
   "execution_count": 26,
   "id": "c72d07d4-6ce8-44d9-8ffd-dde0a6261aa8",
   "metadata": {},
   "outputs": [
    {
     "name": "stdout",
     "output_type": "stream",
     "text": [
      "Harshit\n"
     ]
    }
   ],
   "source": [
    "# in c and cpp it was del as int name=\"harshit'\n",
    "# in python not need to tell it the data type it can idfentify by itself \n",
    "name=\"Harshit\"\n",
    "print(name)"
   ]
  },
  {
   "cell_type": "code",
   "execution_count": 27,
   "id": "dd720202-ff9d-4f28-8884-749866826c83",
   "metadata": {},
   "outputs": [
    {
     "name": "stdout",
     "output_type": "stream",
     "text": [
      "14\n"
     ]
    }
   ],
   "source": [
    "a=6\n",
    "b=8\n",
    "print(a+b)   # in python we dont need to declare the variable from starting we can create anytime "
   ]
  },
  {
   "cell_type": "code",
   "execution_count": 28,
   "id": "f85dc4ae-0444-4977-8e70-5423f67f79ed",
   "metadata": {},
   "outputs": [
    {
     "name": "stdout",
     "output_type": "stream",
     "text": [
      "13\n",
      "42\n"
     ]
    }
   ],
   "source": [
    "# Dynamic typing \n",
    "# we dont need to note the data type of the variabble trhat we are creating \n",
    "\n",
    "# static type \n",
    " # just like in C we need to note the data type of varibakle to \n",
    "\n",
    "\n",
    "# Dynamic binding \n",
    "# in python no vcariabe has fixed data type we can change according to oure need  \n",
    "# for eexample\n",
    "a=6\n",
    "b=7\n",
    "c=(a+b)\n",
    "print(c)\n",
    "c=(a*b)\n",
    "print(c)   # here bothj print(c) had giev n fdifferent vales \n",
    "# This thing is not possiible in the case of or cpp\n"
   ]
  },
  {
   "cell_type": "code",
   "execution_count": 30,
   "id": "61001544-8194-4c83-a0f0-97c9eef9e5f1",
   "metadata": {},
   "outputs": [
    {
     "name": "stdout",
     "output_type": "stream",
     "text": [
      "1 2 3\n",
      "1 2 3\n"
     ]
    }
   ],
   "source": [
    "# different methods of creatingf variables\n",
    "a=1\n",
    "b=2\n",
    "c=3\n",
    "print(a,b,c)\n",
    "# or\n",
    "a,b,c=1,2,3\n",
    "print(a,b,c)"
   ]
  },
  {
   "cell_type": "code",
   "execution_count": 31,
   "id": "b29d3bb3-3099-4658-876b-2b1e38cb58c1",
   "metadata": {},
   "outputs": [
    {
     "name": "stdout",
     "output_type": "stream",
     "text": [
      "5 5 5\n"
     ]
    }
   ],
   "source": [
    "# if we want to five sam vales to different cvariable than \n",
    "a=b=c=5\n",
    "print(a,b,c)"
   ]
  },
  {
   "cell_type": "markdown",
   "id": "0dc2467b-a7c4-4d6d-b89a-e77974094753",
   "metadata": {},
   "source": [
    "### snoppet means a small code of 3-4 lines. Snippet is a programming term for a small region of re-usable source code, machine code, or text."
   ]
  },
  {
   "cell_type": "markdown",
   "id": "cf8142b8-c716-4906-8b53-dd4ef2113056",
   "metadata": {},
   "source": [
    "### Comments - for single lime use # And for multiple lines use Python does not support multiple line comments but there are some jugaad .\n"
   ]
  },
  {
   "cell_type": "markdown",
   "id": "5af2a6d1-7ab2-4f59-8e48-37c5c95e2663",
   "metadata": {},
   "source": [
    "## Keywords and identiiers"
   ]
  },
  {
   "cell_type": "code",
   "execution_count": null,
   "id": "d1b0dc2b-bddc-41bf-939a-55634d91031d",
   "metadata": {},
   "outputs": [],
   "source": [
    "# Keywords  - In python there are 32 keywords , Python iterpreter had reserved these keyword for itself to understand the code . \n",
    "# so this cant be used a variable . \n",
    "#Ex- False , None , del , if , import , for , in ,is , with , yield , not , pass , global , and , as ,\n",
    "#break , continuye , from , else , lembda , or , whilw , return and so on .\n",
    "\n",
    "# what is a compiler?\n",
    "# Compilation is a process which cvonverts codes into binary language . Conversion in 1 or 0 .\n",
    "\n",
    "# There are two types of language \n",
    "# compiled language - which complies all the code at a single time like java , cpp - Fast \n",
    "# interpreted language - which compiles the codes line by line not as a whole like python , java script  - Slow  \n",
    "# scripted languages are generally inter preted language \n"
   ]
  },
  {
   "cell_type": "code",
   "execution_count": null,
   "id": "1d56eb39-cca2-4c6c-bfe2-4e0dfa969064",
   "metadata": {},
   "outputs": [],
   "source": [
    "# high level code - now a days in english \n",
    "# low level code - in binary language 0 and 1 \n"
   ]
  },
  {
   "cell_type": "code",
   "execution_count": 33,
   "id": "400d09dd-b430-4247-8131-2531ef00a2f4",
   "metadata": {},
   "outputs": [
    {
     "name": "stdout",
     "output_type": "stream",
     "text": [
      "Harshit\n",
      "27\n"
     ]
    }
   ],
   "source": [
    "# identifier - jo khud ka name bna rhe variabel bna rhe claSS BNA RTHE , UNHE IDENTIFIER KEHTE HAIN \n",
    "# 1 - We cant start identifier with digits . \n",
    "# 2 - We ccan use upper case , lower case , numbers but in special case only (\"_\") only underscores Example\n",
    "my_name=\"Harshit\"\n",
    "print(my_name)\n",
    "_ = 27\n",
    "print(_)\n",
    "# 3 - identifier can not be keywords."
   ]
  },
  {
   "cell_type": "markdown",
   "id": "7988fb70-8509-467d-8763-16c9371adae7",
   "metadata": {},
   "source": [
    "## User Input\n"
   ]
  },
  {
   "cell_type": "code",
   "execution_count": 34,
   "id": "9e8848c0-c68d-4d31-accc-e180f161038f",
   "metadata": {},
   "outputs": [
    {
     "name": "stdin",
     "output_type": "stream",
     "text": [
      " HARSHIT KUMAR \n"
     ]
    },
    {
     "data": {
      "text/plain": [
       "'HARSHIT KUMAR '"
      ]
     },
     "execution_count": 34,
     "metadata": {},
     "output_type": "execute_result"
    }
   ],
   "source": [
    "# there are two types of sorfweres\n",
    "# 1. Static  - Calander , Clock , Vlog we cant give input we just have to take output , user cant talk.\n",
    "# 2. Dynamic --user can talk . user can prvide input . We can put input in search bar , comment box etc - Youtube and most pof the \n",
    "# softweres rn -  Zomato , yt , chrome , swiggy , ola , uber . etc\n",
    "\n",
    "input()"
   ]
  },
  {
   "cell_type": "code",
   "execution_count": 35,
   "id": "ff5cc330-e42c-41d0-9bf9-12b21abc4351",
   "metadata": {},
   "outputs": [
    {
     "name": "stdin",
     "output_type": "stream",
     "text": [
      "What is your name ?  harshit\n"
     ]
    },
    {
     "data": {
      "text/plain": [
       "'harshit'"
      ]
     },
     "execution_count": 35,
     "metadata": {},
     "output_type": "execute_result"
    }
   ],
   "source": [
    "# BUT FOR MORE DETAILED INFORMATION WE USED TO TYPE STRING INSIDE INPUT FUNS\n",
    "input(\"What is your name ? \")"
   ]
  },
  {
   "cell_type": "code",
   "execution_count": 37,
   "id": "c9fff03d-d803-4a2a-8683-0a978360605b",
   "metadata": {},
   "outputs": [
    {
     "name": "stdin",
     "output_type": "stream",
     "text": [
      "Enter first number 25\n",
      "Enter second number 25\n"
     ]
    },
    {
     "name": "stdout",
     "output_type": "stream",
     "text": [
      "2525\n"
     ]
    }
   ],
   "source": [
    "# take 2 input from user and add it  # We got wrong number because \n",
    "a = input(\"Enter first number\")   # default our int had been stored as str \n",
    "b = input(\"Enter second number\")\n",
    "c=a+b    # and sum of str wil be just two sting \n",
    "print(c)\n",
    "# default stored data type in python is tsring because , all others data types vcan be stored as a tring but , \n",
    "# string can not be stor3ed as other data type like int . String is a universal data type ."
   ]
  },
  {
   "cell_type": "markdown",
   "id": "81b605d3-9310-494c-bf1d-2faba11d9b21",
   "metadata": {},
   "source": [
    "## type conversion"
   ]
  },
  {
   "cell_type": "code",
   "execution_count": 38,
   "id": "f480d047-0e23-4f88-bf15-3534d7332748",
   "metadata": {},
   "outputs": [
    {
     "name": "stdout",
     "output_type": "stream",
     "text": [
      "10.5\n",
      "<class 'int'> <class 'float'>\n"
     ]
    }
   ],
   "source": [
    "# implicit and eplicit \n",
    "print(4 + 6.5)                         # implicit \n",
    "print(type(5), type(6.5))              # python automatically understood "
   ]
  },
  {
   "cell_type": "code",
   "execution_count": 42,
   "id": "f067a52c-a96f-4097-94e2-61a33d7b9419",
   "metadata": {},
   "outputs": [
    {
     "name": "stdout",
     "output_type": "stream",
     "text": [
      "4\n"
     ]
    }
   ],
   "source": [
    "# explicit\n",
    "int('4')   # string to int \n",
    "\n",
    "str(5)   # int to strig \n",
    "float(4)  # int to float "
   ]
  },
  {
   "cell_type": "code",
   "execution_count": 51,
   "id": "00b1244d-ff50-4627-8f8b-2a7d59942deb",
   "metadata": {},
   "outputs": [
    {
     "name": "stdin",
     "output_type": "stream",
     "text": [
      "Enter f no :  45\n",
      "enter sec  number :  55\n"
     ]
    },
    {
     "name": "stdout",
     "output_type": "stream",
     "text": [
      "100\n"
     ]
    },
    {
     "data": {
      "text/plain": [
       "str"
      ]
     },
     "execution_count": 51,
     "metadata": {},
     "output_type": "execute_result"
    }
   ],
   "source": [
    "# take two no fro user and add them \n",
    "a = input(\"Enter f no : \")\n",
    "b = input(\"enter sec  number : \")\n",
    "c = (int(a) + int(b))\n",
    "print(c)\n",
    "\n",
    "type(a)      # still a will be str "
   ]
  },
  {
   "cell_type": "code",
   "execution_count": 53,
   "id": "b732caea-aff8-4f6c-8090-bd55ef522729",
   "metadata": {},
   "outputs": [
    {
     "name": "stdin",
     "output_type": "stream",
     "text": [
      "enter no.  45\n",
      "enter no   55\n"
     ]
    },
    {
     "name": "stdout",
     "output_type": "stream",
     "text": [
      "100\n"
     ]
    },
    {
     "data": {
      "text/plain": [
       "int"
      ]
     },
     "execution_count": 53,
     "metadata": {},
     "output_type": "execute_result"
    }
   ],
   "source": [
    "# or\n",
    "a = int(input(\"enter no. \"))\n",
    "b = int(input(\"enter no  \"))\n",
    "c = a + b\n",
    "print(c) \n",
    "\n",
    "type(a)     # now its int not str "
   ]
  },
  {
   "cell_type": "markdown",
   "id": "03169ebd-97cc-483c-8671-1d7e9eb23f13",
   "metadata": {},
   "source": [
    "## Literals \n",
    "### The raw vales stored in variable are called as literals "
   ]
  },
  {
   "cell_type": "code",
   "execution_count": 56,
   "id": "d70da73e-f253-477a-8709-d0fcbb8bc663",
   "metadata": {},
   "outputs": [
    {
     "name": "stdout",
     "output_type": "stream",
     "text": [
      "10\n",
      "100\n",
      "200\n"
     ]
    }
   ],
   "source": [
    "\n",
    "a = 0b1010   # Binary\n",
    "print(a)\n",
    "b= 100  # decimal \n",
    "print(b)\n",
    "c=0o310  # octal \n",
    "print(c)\n",
    "# d=0*12c   # Hexadecimal \n",
    "# print(d)"
   ]
  },
  {
   "cell_type": "code",
   "execution_count": null,
   "id": "1d127a70-dd18-4f88-8269-63ed3f5f2b6d",
   "metadata": {},
   "outputs": [],
   "source": [
    "# Float literals \n",
    "float_1 = 10.5\n",
    "float_2 = 1.5e2  # 1.5 into ten to power 2\n",
    "float_3 = 1.5e-3  # 1.5 into 10 to the power minus 3"
   ]
  },
  {
   "cell_type": "code",
   "execution_count": 57,
   "id": "574d0a13-b94f-47b5-9cff-d3911d11a03c",
   "metadata": {},
   "outputs": [
    {
     "name": "stdout",
     "output_type": "stream",
     "text": [
      "0.0 3.14\n"
     ]
    }
   ],
   "source": [
    "# complex\n",
    "a= 3.14j\n",
    "print(a.real , a.imag)"
   ]
  },
  {
   "cell_type": "code",
   "execution_count": null,
   "id": "f51f02c4-9a05-465e-b8dd-bde408a39485",
   "metadata": {},
   "outputs": [],
   "source": [
    "# Strngs \n",
    "str='harshit'   # single inverted comma allowed \n",
    "str=\"harshit\"   # double inverted comma is also allowed\n",
    "str=\"\"\"harshit\"\"\"   # multipleinverted comma is also allowed \n",
    "unicode = u\"\\8379ss\\342r56t4\\432tv\" # is we want to represnent emojis or other symbols . newly used \n",
    "raw_string = r\"raw\\n string \"    # detal baad mein , for line chamge and similar things "
   ]
  },
  {
   "cell_type": "code",
   "execution_count": 58,
   "id": "fd9fc677-d2cc-4d1f-837d-dbc7b59472c4",
   "metadata": {},
   "outputs": [
    {
     "name": "stdout",
     "output_type": "stream",
     "text": [
      "a is equal to  2\n",
      "b is equal to  1\n"
     ]
    }
   ],
   "source": [
    "# True = 1\n",
    "# False = 0 \n",
    "a= True + 1 \n",
    "b = False + 1\n",
    "\n",
    "print(\"a is equal to \" , a)\n",
    "print(\"b is equal to \" , b )"
   ]
  },
  {
   "cell_type": "code",
   "execution_count": 59,
   "id": "b1c9fad7-d3eb-45f8-9d52-bf3e4c528e4e",
   "metadata": {},
   "outputs": [
    {
     "name": "stdout",
     "output_type": "stream",
     "text": [
      "None\n"
     ]
    }
   ],
   "source": [
    "# None \n",
    "a = None \n",
    "print (a)"
   ]
  },
  {
   "cell_type": "code",
   "execution_count": 61,
   "id": "ca43a558-a9b1-4ad9-b023-cdf523e84e22",
   "metadata": {},
   "outputs": [
    {
     "name": "stdout",
     "output_type": "stream",
     "text": [
      "harshit\n"
     ]
    }
   ],
   "source": [
    "# use of none \n",
    "a=None\n",
    "b=5\n",
    "c=6\n",
    "print('harshit')   # no error if we let bvalue of a empty it will show erroe , if we need to use variabler a in future  "
   ]
  },
  {
   "cell_type": "markdown",
   "id": "d1df92fb-8193-487d-8baf-2ff07b2becff",
   "metadata": {},
   "source": [
    "# Operators in python \n",
    "#### things that we use to operate bw two operants "
   ]
  },
  {
   "cell_type": "code",
   "execution_count": 63,
   "id": "65a30587-fd20-4b35-85bb-0cbac42ab4c6",
   "metadata": {},
   "outputs": [
    {
     "name": "stdout",
     "output_type": "stream",
     "text": [
      "9\n",
      "1\n",
      "30\n",
      "1.2\n",
      "1\n",
      "1\n",
      "25\n"
     ]
    }
   ],
   "source": [
    "# arithmatic Operators\n",
    "print(5+4)\n",
    "print(6-5)\n",
    "print(5*6)\n",
    "print(6/5)\n",
    "print(6//5)    # INTEGER OPERATOR  decimar part ko ignore karta hai int ands deta hai .\n",
    "print(6%5)     # Modulus operator  gives remainder \n",
    "print(5**2)    # Power of operator   gives power"
   ]
  },
  {
   "cell_type": "code",
   "execution_count": 64,
   "id": "c28740bb-2cde-489d-9df9-2a8a8d2a5a0f",
   "metadata": {},
   "outputs": [
    {
     "name": "stdout",
     "output_type": "stream",
     "text": [
      "True\n",
      "False\n",
      "False\n",
      "True\n",
      "True\n",
      "False\n"
     ]
    }
   ],
   "source": [
    "# Relational operators    to compare two things \n",
    "print(4<5)   # samller than\n",
    "print(4>5)   # greater than \n",
    "print(4>=5)  # greater than equal to \n",
    "print(4<=5)  # smaller than equal to \n",
    "print(4==4)  # equal to \n",
    "print(4!=4)  # not equal to\n"
   ]
  },
  {
   "cell_type": "code",
   "execution_count": 66,
   "id": "38f19f02-491e-414e-ab22-293eecc41426",
   "metadata": {},
   "outputs": [
    {
     "name": "stdout",
     "output_type": "stream",
     "text": [
      "False\n",
      "0\n",
      "True\n",
      "1\n",
      "False\n",
      "False\n"
     ]
    }
   ],
   "source": [
    "# Logical Operators   ( AND OR NOT )\n",
    "# AND dono  ke dono hone chahiye tab hi true \n",
    "# OR  koi ek bhi toh bhi true\n",
    "# NOT True ko false bna dega and false ko true\n",
    "print( True and False )\n",
    "print( 1 and 0 )\n",
    "\n",
    "print( True or False )\n",
    "print( 1 or 0 )\n",
    "\n",
    "print( not True )\n",
    "print( not 1 )"
   ]
  },
  {
   "cell_type": "code",
   "execution_count": 67,
   "id": "90a69aa9-a1ea-4ebd-b2fa-e38cd32c9702",
   "metadata": {},
   "outputs": [
    {
     "name": "stdout",
     "output_type": "stream",
     "text": [
      "2\n"
     ]
    }
   ],
   "source": [
    "# Bitwise operators    operators on binary values \n",
    "# BITWISE AND OPERATOR\n",
    "print( 2 & 3 )   # ity had given 2 because binary code of 2 is 010 and 3 is 110 when we use and operator\n",
    "# 2 - 010\n",
    "# 3 - 110 \n",
    "# and operator \n",
    "#    0 1 0  - Binary code of two so ans is two "
   ]
  },
  {
   "cell_type": "code",
   "execution_count": 68,
   "id": "7519852c-87da-46c6-96f0-8e7fe58498a0",
   "metadata": {},
   "outputs": [
    {
     "name": "stdout",
     "output_type": "stream",
     "text": [
      "3\n"
     ]
    }
   ],
   "source": [
    "# BITWISE OR OPERATORS\n",
    "print( 2 | 3 )       # explanation same as above "
   ]
  },
  {
   "cell_type": "code",
   "execution_count": 69,
   "id": "e7afa859-20c4-4b25-a969-d7f66cee46cc",
   "metadata": {},
   "outputs": [
    {
     "name": "stdout",
     "output_type": "stream",
     "text": [
      "1\n"
     ]
    }
   ],
   "source": [
    "# BITWISE XOR       OR + NOT \n",
    "print(2^3)     # dono same hain to 0 hoga , dono alag honge to 1 hoga \n",
    "# 2 - 010\n",
    "# 3 - 110 \n",
    "# or- 110\n",
    "#xor- 001\n",
    "#ans 1 "
   ]
  },
  {
   "cell_type": "code",
   "execution_count": 75,
   "id": "8c68d28e-f8d3-4242-8ed0-42e708a75573",
   "metadata": {},
   "outputs": [
    {
     "name": "stdout",
     "output_type": "stream",
     "text": [
      "4\n",
      "2\n",
      "4\n",
      "2.0\n"
     ]
    }
   ],
   "source": [
    "# Assignment Operators \n",
    "a = 2\n",
    "a += 2      # a = a + 2 \n",
    "print(a)\n",
    "a -= 2      # nhi samjha \n",
    "print(a)\n",
    "a *=2\n",
    "print(a)\n",
    "a/=2\n",
    "print(a)"
   ]
  },
  {
   "cell_type": "code",
   "execution_count": null,
   "id": "81bdb25d-eecb-4dca-8e06-56f67a6991df",
   "metadata": {},
   "outputs": [],
   "source": [
    "# python mein a++ ua ++a nhi hota hai \n"
   ]
  },
  {
   "cell_type": "code",
   "execution_count": 80,
   "id": "e0347c5f-afcb-44be-babc-2eb3fe43796f",
   "metadata": {},
   "outputs": [
    {
     "name": "stdout",
     "output_type": "stream",
     "text": [
      "True\n",
      "False\n",
      "True\n"
     ]
    }
   ],
   "source": [
    "# Membersip Operator      Given code mein ek particular cheez hai ya nhi .\n",
    "# 1 - in\n",
    "# 2 - not in\n",
    "# for example Delhi ke andar D hai ya nhi\n",
    "print('D' in 'Delhi')\n",
    "print('5' in '9472960400')\n",
    "print(1 in [2,3,6,5,1,6])\n",
    "                                 #IMPORTANT"
   ]
  },
  {
   "cell_type": "code",
   "execution_count": 91,
   "id": "874cfceb-929c-485e-8abc-47a8ad9a892b",
   "metadata": {},
   "outputs": [
    {
     "name": "stdin",
     "output_type": "stream",
     "text": [
      "Enter noo of 3 digits -  234\n"
     ]
    },
    {
     "name": "stdout",
     "output_type": "stream",
     "text": [
      "9\n",
      "9\n"
     ]
    }
   ],
   "source": [
    "# FIND THE SUM OF 3 DIGIT NUMBER ENTERED BY THE USER .\n",
    "num = int(input(\"Enter noo of 3 digits - \"))   # taking input lets chech for 234\n",
    "a=num%10           # making 4 out \n",
    "b=num//10          # new no is 23\n",
    "c=b%10             # making 3 out \n",
    "d=b//10            # new no is 2\n",
    "e=d%10             # making 2 out \n",
    "print(a+c+e)\n",
    "print(a+c+d)"
   ]
  },
  {
   "cell_type": "markdown",
   "id": "f31095ac-16db-4f7b-8210-57775774e590",
   "metadata": {},
   "source": [
    "# If Else statement "
   ]
  },
  {
   "cell_type": "code",
   "execution_count": 96,
   "id": "4d86e3dc-73f7-48e2-9d0a-6c4aa38a8682",
   "metadata": {},
   "outputs": [
    {
     "name": "stdin",
     "output_type": "stream",
     "text": [
      " Enter your email -  kharshit4870@gmail.com\n",
      "Enter your password -  4870\n"
     ]
    },
    {
     "name": "stdout",
     "output_type": "stream",
     "text": [
      "Welcome\n"
     ]
    }
   ],
   "source": [
    "# lets starert with an example \n",
    "# making loginpage \n",
    "# taking true mail  id -  kharshit4870@gmail.com\n",
    "# and password - 4870\n",
    "\n",
    "email = input(\" Enter your email - \")\n",
    "password = input(\"Enter your password - \")\n",
    "\n",
    "if email =='kharshit4870@gmail.com' and password =='4870':\n",
    "    print(\"Welcome\")\n",
    "else:\n",
    "    print(\"Register\")\n"
   ]
  },
  {
   "cell_type": "code",
   "execution_count": 104,
   "id": "cbd00510-a424-43fd-9e1d-60864c162fec",
   "metadata": {},
   "outputs": [
    {
     "name": "stdin",
     "output_type": "stream",
     "text": [
      "Enter your email-  kharshit4870@gmail.com\n",
      "Enter your password-  658\n"
     ]
    },
    {
     "name": "stdout",
     "output_type": "stream",
     "text": [
      "Wrong password\n"
     ]
    },
    {
     "name": "stdin",
     "output_type": "stream",
     "text": [
      "Enter password again-  4870\n"
     ]
    },
    {
     "name": "stdout",
     "output_type": "stream",
     "text": [
      "its correct now welcome\n"
     ]
    }
   ],
   "source": [
    "# if there are only two con then if else \n",
    "# if there are more than 2 possibilities then elif \n",
    "email=input(\"Enter your email- \")\n",
    "password=input(\"Enter your password- \")\n",
    "\n",
    "if email=='kharshit4870@gmail.com' and password=='4870':\n",
    "    print(\"welcome\")\n",
    "elif email=='kharshit4870@gmail.com' and password !='4870':\n",
    "     print(\"Wrong password\")\n",
    "     password=input(\"Enter password again- \")\n",
    "     if password=='4870':\n",
    "         print(\"its correct now welcome\")    # nested if-else\n",
    "     else :\n",
    "         print(\"phir se galat hai \")\n",
    "\n",
    "else :\n",
    "    print(\"sab ka sab galat hai \")"
   ]
  },
  {
   "cell_type": "code",
   "execution_count": 138,
   "id": "7eab07a8-0ae1-460d-afd6-93d5867cd6b7",
   "metadata": {},
   "outputs": [
    {
     "name": "stdin",
     "output_type": "stream",
     "text": [
      " Enter f no =-  4\n",
      "Enter sec no -  67\n",
      "Enter thrd -  8\n"
     ]
    },
    {
     "name": "stdout",
     "output_type": "stream",
     "text": [
      "smallest no is  4\n"
     ]
    }
   ],
   "source": [
    "# taj=ke user input foe 3 no and print the miun \n",
    "a=int(input(\" Enter f no =- \"))\n",
    "b=int(input(\"Enter sec no - \"))\n",
    "c=int(input(\"Enter thrd - \"))\n",
    "if a<b and a<c:\n",
    "    print(\"smallest no is \" ,a )\n",
    "\n",
    "elif a<b and a>c:\n",
    "    print(\"smallest no is \" , c)\n",
    "\n",
    "else:\n",
    "    print(\"snallest no is \" , b)"
   ]
  },
  {
   "cell_type": "code",
   "execution_count": 153,
   "id": "6389467f-3b81-4370-8ea2-0adf364ff327",
   "metadata": {},
   "outputs": [
    {
     "name": "stdin",
     "output_type": "stream",
     "text": [
      "enter f no -  5\n",
      "enter s no --  6\n",
      "what to do ?  jodo\n"
     ]
    },
    {
     "name": "stdout",
     "output_type": "stream",
     "text": [
      "the sum is  11\n"
     ]
    }
   ],
   "source": [
    "# menu driven calculator \n",
    "a=int(input(\"enter f no - \"))\n",
    "b= int(input(\"enter s no -- \"))\n",
    "operation=input(\"what to do ? \")\n",
    "\n",
    "if operation=='jodo':\n",
    "    print('the sum is ' , a+b)\n",
    "\n",
    "elif operation=='ghatao':\n",
    "    print('sub  is ' , a-b)\n",
    "\n",
    "elif operation=='guna':\n",
    "    print(\"mil is \" , a*b)\n",
    "\n",
    "elif operation=='bhaga':\n",
    "    print(\"dividion is \" ,a/b)\n",
    "\n",
    "else:\n",
    "    print(\" not a valid operator \")"
   ]
  },
  {
   "cell_type": "code",
   "execution_count": null,
   "id": "aff5bf3a-42fc-4663-93f6-b5de52e901ac",
   "metadata": {},
   "outputs": [],
   "source": [
    "# menu driven atm banan homework "
   ]
  },
  {
   "cell_type": "markdown",
   "id": "fdae01cf-a381-4177-a7b8-fb15fa424d6d",
   "metadata": {},
   "source": [
    " # Modules in python \n",
    " 1. math\n",
    " 2. keyword\n",
    " 3. random\n",
    " 4. datetime"
   ]
  },
  {
   "cell_type": "code",
   "execution_count": null,
   "id": "1dcca960-2786-459e-b340-dbad989b3c1a",
   "metadata": {},
   "outputs": [],
   "source": [
    "# module is a pre build python file which we can import and uyse \n",
    "#  It has many fnsd already written that we can use ."
   ]
  },
  {
   "cell_type": "code",
   "execution_count": 155,
   "id": "5629edf5-983a-4edc-af64-26dc5a2ee6e7",
   "metadata": {},
   "outputs": [
    {
     "data": {
      "text/plain": [
       "120"
      ]
     },
     "execution_count": 155,
     "metadata": {},
     "output_type": "execute_result"
    }
   ],
   "source": [
    "# Math\n",
    "import math\n",
    "math.factorial(5)\n"
   ]
  },
  {
   "cell_type": "code",
   "execution_count": 156,
   "id": "c44b740f-d7a0-41c9-b3c6-15c2aa3cd03e",
   "metadata": {},
   "outputs": [
    {
     "data": {
      "text/plain": [
       "6"
      ]
     },
     "execution_count": 156,
     "metadata": {},
     "output_type": "execute_result"
    }
   ],
   "source": [
    "math.floor(6.8)"
   ]
  },
  {
   "cell_type": "code",
   "execution_count": 157,
   "id": "1a966865-589b-4e94-9785-e6ab3a396c39",
   "metadata": {},
   "outputs": [
    {
     "data": {
      "text/plain": [
       "15.0"
      ]
     },
     "execution_count": 157,
     "metadata": {},
     "output_type": "execute_result"
    }
   ],
   "source": [
    "math.sqrt(225)"
   ]
  },
  {
   "cell_type": "code",
   "execution_count": 158,
   "id": "d378a9a1-c976-46bf-9489-661964e8888c",
   "metadata": {},
   "outputs": [
    {
     "name": "stdout",
     "output_type": "stream",
     "text": [
      "['False', 'None', 'True', 'and', 'as', 'assert', 'async', 'await', 'break', 'class', 'continue', 'def', 'del', 'elif', 'else', 'except', 'finally', 'for', 'from', 'global', 'if', 'import', 'in', 'is', 'lambda', 'nonlocal', 'not', 'or', 'pass', 'raise', 'return', 'try', 'while', 'with', 'yield']\n"
     ]
    }
   ],
   "source": [
    "# keyword\n",
    "import keyword\n",
    "print(keyword.kwlist)"
   ]
  },
  {
   "cell_type": "code",
   "execution_count": 169,
   "id": "854c1b74-8c45-4875-ab51-6e4c91b754e1",
   "metadata": {},
   "outputs": [
    {
     "name": "stdout",
     "output_type": "stream",
     "text": [
      "41\n"
     ]
    }
   ],
   "source": [
    "# Random\n",
    "import random\n",
    "print(random.randint(0,100))"
   ]
  },
  {
   "cell_type": "code",
   "execution_count": 170,
   "id": "657b661c-d8fb-4606-b090-eb7c56e6dde0",
   "metadata": {},
   "outputs": [
    {
     "name": "stdout",
     "output_type": "stream",
     "text": [
      "2024-06-09 15:49:08.246434\n"
     ]
    }
   ],
   "source": [
    "# datetime\n",
    "import datetime\n",
    "print(datetime.datetime.now())    # time rn "
   ]
  },
  {
   "cell_type": "code",
   "execution_count": 174,
   "id": "a43256c3-3859-4828-ad5b-7575b857cac3",
   "metadata": {},
   "outputs": [
    {
     "name": "stdout",
     "output_type": "stream",
     "text": [
      "\n",
      "Please wait a moment while I gather a list of all available modules...\n",
      "\n",
      "6c7190bc8b55ffe67f57__mypyc compileall          mdit_py_plugins     smtpd\n",
      "IPython             concurrent          mdurl               smtplib\n",
      "OpenSSL             conda               menuinst            snappy\n",
      "PIL                 conda_build         mimetypes           sndhdr\n",
      "PyQt5               conda_content_trust mistune             sniffio\n",
      "__future__          conda_env           mkl                 snowballstemmer\n",
      "__hello__           conda_index         mkl_fft             socket\n",
      "__phello__          conda_libmamba_solver mmap                socketserver\n",
      "_abc                conda_pack          mmapfile            socks\n",
      "_aix_support        conda_package_handling mmsystem            sockshandler\n",
      "_argon2_cffi_bindings conda_package_streaming modulefinder        sortedcontainers\n",
      "_ast                conda_token         more_itertools      soupsieve\n",
      "_asyncio            conda_verify        mpmath              sphinx\n",
      "_bisect             conf                msgpack             sphinxify\n",
      "_black_version      configparser        msilib              sphinxthread\n",
      "_blake2             constantly          msvcrt              spyder\n",
      "_bootsubprocess     contextlib          multidict           spyder_kernels\n",
      "_brotli             contextvars         multipledispatch    sqlalchemy\n",
      "_bz2                contourpy           multiprocessing     sqlite3\n",
      "_cffi_backend       cookiecutter        munkres             sre_compile\n",
      "_codecs             copy                mypy                sre_constants\n",
      "_codecs_cn          copyreg             mypy_extensions     sre_parse\n",
      "_codecs_hk          cpuinfo             mypyc               ssl\n",
      "_codecs_iso2022     crypt               nacl                sspi\n",
      "_codecs_jp          cryptography        navigator_updater   sspicon\n",
      "_codecs_kr          cssselect           nbclient            stack_data\n",
      "_codecs_tw          csv                 nbconvert           stat\n",
      "_collections        ctypes              nbformat            statistics\n",
      "_collections_abc    curl                nest_asyncio        statsmodels\n",
      "_compat_pickle      curses              netbios             streamlit\n",
      "_compression        cwp                 netrc               string\n",
      "_contextvars        cycler              networkx            stringprep\n",
      "_csv                cytoolz             nltk                struct\n",
      "_ctypes             dask                nntplib             subprocess\n",
      "_ctypes_test        dataclasses         notebook            sunau\n",
      "_datetime           datashader          notebook_shim       sympy\n",
      "_decimal            datetime            nt                  symtable\n",
      "_distutils_hack     dateutil            ntpath              sys\n",
      "_elementtree        dbi                 ntsecuritycon       sysconfig\n",
      "_functools          dbm                 nturl2path          tables\n",
      "_hashlib            dde                 numba               tabnanny\n",
      "_heapq              debugpy             numbergen           tabulate\n",
      "_imp                decimal             numbers             tarfile\n",
      "_io                 decorator           numexpr             tblib\n",
      "_json               defusedxml          numpy               telnetlib\n",
      "_locale             diff_match_patch    numpydoc            tempfile\n",
      "_lsprof             difflib             odbc                tenacity\n",
      "_lzma               dill                opcode              terminado\n",
      "_markupbase         dis                 openpyxl            test\n",
      "_md5                distributed         operator            test_pycosat\n",
      "_msi                distro              optparse            text_unidecode\n",
      "_multibytecodec     distutils           os                  textdistance\n",
      "_multiprocessing    docstring_to_markdown overrides           textwrap\n",
      "_nsis               doctest             packaging           this\n",
      "_opcode             docutils            pandas              threading\n",
      "_operator           dotenv              pandocfilters       threadpoolctl\n",
      "_osx_support        email               panel               three_merge\n",
      "_overlapped         encodings           param               tifffile\n",
      "_pickle             ensurepip           paramiko            time\n",
      "_plotly_future_     entrypoints         parsel              timeit\n",
      "_plotly_utils       enum                parso               timer\n",
      "_py_abc             erfa                partd               tinycss2\n",
      "_pydecimal          errno               past                tkinter\n",
      "_pyio               et_xmlfile          pathlib             tldextract\n",
      "_pytest             executing           pathspec            tlz\n",
      "_queue              fastjsonschema      patsy               token\n",
      "_random             faulthandler        pdb                 tokenize\n",
      "_sha1               filecmp             perfmon             toml\n",
      "_sha256             fileinput           pexpect             tomlkit\n",
      "_sha3               filelock            pickle              tomllib\n",
      "_sha512             flake8              pickleshare         toolz\n",
      "_signal             flask               pickletools         tornado\n",
      "_sitebuiltins       fnmatch             pip                 tqdm\n",
      "_socket             fontTools           pipes               trace\n",
      "_sqlite3            fractions           pkce                traceback\n",
      "_sre                frozenlist          pkg_resources       tracemalloc\n",
      "_ssl                fsspec              pkginfo             traitlets\n",
      "_stat               ftplib              pkgutil             truststore\n",
      "_statistics         functools           platform            tty\n",
      "_string             future              platformdirs        turtle\n",
      "_strptime           gc                  plistlib            turtledemo\n",
      "_struct             genericpath         plotly              twisted\n",
      "_symtable           gensim              pluggy              types\n",
      "_system_path        getopt              ply                 typing\n",
      "_testbuffer         getpass             poplib              typing_extensions\n",
      "_testcapi           gettext             posixpath           tzdata\n",
      "_testconsole        git                 pprint              tzlocal\n",
      "_testimportmultiple gitdb               profile             uc_micro\n",
      "_testinternalcapi   glob                prometheus_client   ujson\n",
      "_testmultiphase     gmpy2               prompt_toolkit      unicodedata\n",
      "_thread             graphlib            protego             unidecode\n",
      "_threading_local    greenlet            pstats              unittest\n",
      "_tkinter            gzip                psutil              urllib\n",
      "_tokenize           h5py                pty                 urllib3\n",
      "_tracemalloc        hashlib             ptyprocess          uu\n",
      "_typing             heapdict            pure_eval           uuid\n",
      "_uuid               heapq               py                  validators\n",
      "_warnings           hmac                py_compile          venv\n",
      "_weakref            holoviews           pyarrow             w3lib\n",
      "_weakrefset         html                pyasn1              warnings\n",
      "_win32sysloader     http                pyasn1_modules      watchdog\n",
      "_winapi             hvplot              pyclbr              wave\n",
      "_winxptheme         hyperlink           pycodestyle         wcwidth\n",
      "_xxsubinterpreters  idlelib             pycosat             weakref\n",
      "_yaml               idna                pycparser           webbrowser\n",
      "_zoneinfo           imagecodecs         pyct                webencodings\n",
      "abc                 imageio             pycurl              websocket\n",
      "adodbapi            imagesize           pydantic            werkzeug\n",
      "afxres              imaplib             pydeck              whatthepatch\n",
      "aifc                imblearn            pydispatch          wheel\n",
      "aiobotocore         imghdr              pydoc               widgetsnbextension\n",
      "aiohttp             imp                 pydoc_data          win2kras\n",
      "aioitertools        importlib           pydocstyle          win32api\n",
      "aiosignal           importlib_metadata  pyexpat             win32clipboard\n",
      "alabaster           incremental         pyflakes            win32com\n",
      "altair              inflection          pygments            win32con\n",
      "anaconda_anon_usage iniconfig           pylab               win32console\n",
      "anaconda_catalogs   inspect             pylint              win32cred\n",
      "anaconda_cloud_auth intake              pylint_venv         win32crypt\n",
      "anaconda_navigator  intervaltree        pyls_spyder         win32cryptcon\n",
      "anaconda_project    io                  pylsp               win32ctypes\n",
      "antigravity         ipaddress           pylsp_black         win32event\n",
      "anyio               ipykernel           pylsp_jsonrpc       win32evtlog\n",
      "appdirs             ipykernel_launcher  pyodbc              win32evtlogutil\n",
      "archspec            ipython_genutils    pyparsing           win32file\n",
      "argon2              ipywidgets          pytest              win32gui\n",
      "argparse            isapi               pythoncom           win32gui_struct\n",
      "array               isort               pythonjsonlogger    win32help\n",
      "arrow               isympy              pytoolconfig        win32inet\n",
      "ast                 itemadapter         pytz                win32inetcon\n",
      "astroid             itemloaders         pyviz_comms         win32job\n",
      "astropy             itertools           pywin               win32lz\n",
      "asttokens           itsdangerous        pywin32_bootstrap   win32net\n",
      "async_lru           jedi                pywin32_testutil    win32netcon\n",
      "asynchat            jellyfish           pywintypes          win32pdh\n",
      "asyncio             jinja2              pywt                win32pdhquery\n",
      "asyncore            jmespath            qdarkstyle          win32pdhutil\n",
      "atexit              joblib              qstylizer           win32pipe\n",
      "atomicwrites        json                qtawesome           win32print\n",
      "attr                json5               qtconsole           win32process\n",
      "attrs               jsonpatch           qtpy                win32profile\n",
      "audioop             jsonpointer         queue               win32ras\n",
      "automat             jsonschema          queuelib            win32rcparser\n",
      "autopep8            jsonschema_specifications quopri              win32security\n",
      "babel               jupyter             random              win32service\n",
      "backports           jupyter_client      rasutil             win32serviceutil\n",
      "base64              jupyter_console     re                  win32timezone\n",
      "bcrypt              jupyter_core        referencing         win32trace\n",
      "bdb                 jupyter_events      regcheck            win32traceutil\n",
      "binaryornot         jupyter_lsp         regex               win32transaction\n",
      "binascii            jupyter_server      regutil             win32ts\n",
      "binstar_client      jupyter_server_terminals repo_cli            win32ui\n",
      "bisect              jupyterlab          reprlib             win32uiole\n",
      "black               jupyterlab_plotly   requests            win32verstamp\n",
      "blackd              jupyterlab_pygments requests_file       win32wnet\n",
      "bleach              jupyterlab_server   requests_toolbelt   win_inet_pton\n",
      "blib2to3            jupyterlab_widgets  rfc3339_validator   winerror\n",
      "blinker             jwt                 rfc3986_validator   winioctlcon\n",
      "bokeh               keyring             rich                winnt\n",
      "boltons             keyword             rlcompleter         winperf\n",
      "botocore            kiwisolver          rope                winpty\n",
      "bottleneck          lazy_loader         rpds                winreg\n",
      "brotli              lazy_object_proxy   rtree               winsound\n",
      "bs4                 lckr_jupyterlab_variableinspector ruamel_yaml         winxpgui\n",
      "builtins            lib2to3             runpy               winxptheme\n",
      "bz2                 libarchive          s3fs                wrapt\n",
      "cProfile            libfuturize         sched               wsgiref\n",
      "cachetools          libmambapy          scipy               xarray\n",
      "calendar            libpasteurize       scrapy              xdrlib\n",
      "certifi             lief                seaborn             xlwings\n",
      "cffi                linecache           secrets             xml\n",
      "cgi                 linkify_it          select              xmlrpc\n",
      "cgitb               llvmlite            selectors           xxlimited\n",
      "chardet             lmdb                semver              xxlimited_35\n",
      "charset_normalizer  locale              send2trash          xxsubtype\n",
      "chunk               locket              service_identity    xyzservices\n",
      "click               logging             servicemanager      yaml\n",
      "cloudpickle         lxml                setuptools          yapf\n",
      "clyent              lz4                 shelve              yapftests\n",
      "cmath               lzma                shlex               yarl\n",
      "cmd                 mailbox             shutil              zict\n",
      "code                mailcap             signal              zipapp\n",
      "codecs              markdown            sipbuild            zipfile\n",
      "codeop              markdown_it         site                zipimport\n",
      "collections         markupsafe          six                 zipp\n",
      "colorama            marshal             skimage             zlib\n",
      "colorcet            math                sklearn             zmq\n",
      "colorsys            matplotlib          slugify             zoneinfo\n",
      "comm                matplotlib_inline   smart_open          zope\n",
      "commctrl            mccabe              smmap               zstandard\n",
      "\n",
      "Enter any module name to get more help.  Or, type \"modules spam\" to search\n",
      "for modules whose name or summary contain the string \"spam\".\n",
      "\n"
     ]
    }
   ],
   "source": [
    "help('modules')"
   ]
  },
  {
   "cell_type": "markdown",
   "id": "38ed8f47-665b-49c0-8226-bcb9fac58ac0",
   "metadata": {},
   "source": [
    "# Loops in Python\n",
    "1. Need for loops\n",
    "2. While loop\n",
    "3. for loop"
   ]
  },
  {
   "cell_type": "code",
   "execution_count": null,
   "id": "5cd1b26a-0b39-4ef0-9e1f-6d0f9edb2141",
   "metadata": {},
   "outputs": [],
   "source": [
    "# uses \n",
    "# used like in flipkart they have made one container only and those run on loops and display different thngs \n"
   ]
  },
  {
   "cell_type": "code",
   "execution_count": null,
   "id": "cbc2d1cf-e270-471c-beaa-79779b786def",
   "metadata": {},
   "outputs": [],
   "source": [
    "# 1. While loop example - program to print a table \n",
    "# program - sum of all the digits of given no \n",
    "# program - keep accepting numbers from users till he/dhe enters a 0 then find avg "
   ]
  },
  {
   "cell_type": "code",
   "execution_count": 3,
   "id": "10ebedf5-5a37-444d-a165-fcffe706434a",
   "metadata": {},
   "outputs": [
    {
     "name": "stdin",
     "output_type": "stream",
     "text": [
      "Enter the number -  10\n"
     ]
    },
    {
     "name": "stdout",
     "output_type": "stream",
     "text": [
      "10\n",
      "20\n",
      "30\n",
      "40\n",
      "50\n",
      "60\n",
      "70\n",
      "80\n",
      "90\n",
      "100\n"
     ]
    }
   ],
   "source": [
    "num = int(input(\"Enter the number - \"))\n",
    "\n",
    "i=1\n",
    "while i<11:\n",
    "    print(num*i)\n",
    "    i = i+1"
   ]
  },
  {
   "cell_type": "code",
   "execution_count": 6,
   "id": "5e3f934b-f8d7-4c22-a4a2-f8fae6cf0c41",
   "metadata": {},
   "outputs": [
    {
     "name": "stdin",
     "output_type": "stream",
     "text": [
      "Enter the number -  19\n"
     ]
    },
    {
     "name": "stdout",
     "output_type": "stream",
     "text": [
      "19 * 1 = 19\n",
      "19 * 2 = 38\n",
      "19 * 3 = 57\n",
      "19 * 4 = 76\n",
      "19 * 5 = 95\n",
      "19 * 6 = 114\n",
      "19 * 7 = 133\n",
      "19 * 8 = 152\n",
      "19 * 9 = 171\n",
      "19 * 10 = 190\n"
     ]
    }
   ],
   "source": [
    "num = int(input(\"Enter the number - \"))\n",
    "\n",
    "i=1\n",
    "while i<11:\n",
    "    print(num,'*',i,'=',num*i)\n",
    "    i = i+1"
   ]
  },
  {
   "cell_type": "code",
   "execution_count": 7,
   "id": "376d12b0-3560-47c1-aa28-54fa2f253224",
   "metadata": {},
   "outputs": [
    {
     "name": "stdout",
     "output_type": "stream",
     "text": [
      "1\n",
      "2\n",
      "3\n",
      "4\n",
      "5\n",
      "6\n",
      "7\n",
      "limit exceed\n"
     ]
    }
   ],
   "source": [
    "# While loop with else \n",
    "x=1\n",
    "\n",
    "while x<8:\n",
    "    print(x)\n",
    "    x=x+1\n",
    "\n",
    "else:\n",
    "    print(\"limit exceed\")"
   ]
  },
  {
   "cell_type": "code",
   "execution_count": 22,
   "id": "10a6f9f7-ecc4-4c87-9f54-2acfba711de9",
   "metadata": {},
   "outputs": [
    {
     "name": "stdin",
     "output_type": "stream",
     "text": [
      "Enter the number =  5\n",
      "Enter another number -  6\n"
     ]
    },
    {
     "name": "stdout",
     "output_type": "stream",
     "text": [
      "6\n"
     ]
    },
    {
     "name": "stdin",
     "output_type": "stream",
     "text": [
      "Enter another number -  7\n"
     ]
    },
    {
     "name": "stdout",
     "output_type": "stream",
     "text": [
      "13\n"
     ]
    },
    {
     "name": "stdin",
     "output_type": "stream",
     "text": [
      "Enter another number -  4\n"
     ]
    },
    {
     "name": "stdout",
     "output_type": "stream",
     "text": [
      "17\n"
     ]
    },
    {
     "name": "stdin",
     "output_type": "stream",
     "text": [
      "Enter another number -  0\n"
     ]
    },
    {
     "name": "stdout",
     "output_type": "stream",
     "text": [
      "17\n",
      "18\n"
     ]
    }
   ],
   "source": [
    "# Not a right answer \n",
    "num=int(input(\"Enter the number = \"))\n",
    "sum=1\n",
    "while num!=0:\n",
    "   \n",
    "    num=int(input(\"Enter another number - \"))\n",
    "    sum=sum+num\n",
    "    print(sum-1)\n",
    "\n",
    "print(sum+num)\n",
    "\n",
    "    "
   ]
  },
  {
   "cell_type": "code",
   "execution_count": 25,
   "id": "41c48ec2-9fab-421b-a4c5-65b4e5b5e4cb",
   "metadata": {},
   "outputs": [
    {
     "name": "stdin",
     "output_type": "stream",
     "text": [
      "Enter the number =  4\n",
      "Enter another number -  5\n"
     ]
    },
    {
     "name": "stdout",
     "output_type": "stream",
     "text": [
      "5\n"
     ]
    },
    {
     "name": "stdin",
     "output_type": "stream",
     "text": [
      "Enter another number -  6\n"
     ]
    },
    {
     "name": "stdout",
     "output_type": "stream",
     "text": [
      "11\n"
     ]
    },
    {
     "name": "stdin",
     "output_type": "stream",
     "text": [
      "Enter another number -  7\n"
     ]
    },
    {
     "name": "stdout",
     "output_type": "stream",
     "text": [
      "18\n"
     ]
    },
    {
     "name": "stdin",
     "output_type": "stream",
     "text": [
      "Enter another number -  8\n"
     ]
    },
    {
     "name": "stdout",
     "output_type": "stream",
     "text": [
      "26\n"
     ]
    },
    {
     "name": "stdin",
     "output_type": "stream",
     "text": [
      "Enter another number -  0\n"
     ]
    },
    {
     "name": "stdout",
     "output_type": "stream",
     "text": [
      "26\n",
      "30\n"
     ]
    }
   ],
   "source": [
    "# not a right answer try 2\n",
    "num=int(input(\"Enter the number = \"))\n",
    "fnum=num\n",
    "sum=1\n",
    "while num!=0:\n",
    "   \n",
    "    num=int(input(\"Enter another number - \"))\n",
    "    sum=sum+num\n",
    "    print(sum-1)\n",
    "\n",
    "print(fnum+sum-1)"
   ]
  },
  {
   "cell_type": "code",
   "execution_count": 5,
   "id": "ee3c4b60-d696-4083-b00e-5eabb30a4c79",
   "metadata": {},
   "outputs": [
    {
     "name": "stdin",
     "output_type": "stream",
     "text": [
      "enter no -  5\n"
     ]
    }
   ],
   "source": [
    "#try 3 not a rright answer\n",
    "n=int(input(\"enter no - \"))\n",
    "a=\"2\"\n",
    "num=b\n",
    "\n",
    "while b==n:\n",
    "    print('a'+'2')\n",
    "    "
   ]
  },
  {
   "cell_type": "code",
   "execution_count": 11,
   "id": "25be6e77-0ed1-4958-96a1-ad506f9b53d0",
   "metadata": {},
   "outputs": [
    {
     "name": "stdin",
     "output_type": "stream",
     "text": [
      "enter n - 5\n"
     ]
    },
    {
     "name": "stdout",
     "output_type": "stream",
     "text": [
      "22\n",
      "22\n",
      "22\n",
      "22\n",
      "22\n"
     ]
    }
   ],
   "source": [
    "# Q2 try 1 not a right and \n",
    "n=int(input(\"enter n -\"))\n",
    "a=\"2\"\n",
    "for i in range(0,n):\n",
    "    sum=a+\"2\"\n",
    "    print(sum)"
   ]
  },
  {
   "cell_type": "code",
   "execution_count": 19,
   "id": "93e6b297-906b-4667-bda6-f737653d378c",
   "metadata": {},
   "outputs": [
    {
     "name": "stdin",
     "output_type": "stream",
     "text": [
      "enter no = 5\n"
     ]
    },
    {
     "name": "stdout",
     "output_type": "stream",
     "text": [
      ",2,22,222,2222,"
     ]
    }
   ],
   "source": [
    "# to print a series 2,22,222,2222.... upto n and n is taken by user . \n",
    "j=int(input('enter no ='))\n",
    "for i in range (0,j,1):\n",
    "     print('2'*i ,end=',')"
   ]
  },
  {
   "cell_type": "code",
   "execution_count": 49,
   "id": "260f6fcb-caf0-46e3-9404-8acc28b68455",
   "metadata": {},
   "outputs": [
    {
     "name": "stdin",
     "output_type": "stream",
     "text": [
      "enter no- 4\n",
      "enter another no -  5\n",
      "enter another no -  6\n",
      "enter another no -  0\n"
     ]
    },
    {
     "name": "stdout",
     "output_type": "stream",
     "text": [
      "sum of nos is  15\n"
     ]
    }
   ],
   "source": [
    "# Write a program to take input by user u\n",
    "i=num=int(input(\"enter no-\"))\n",
    "\n",
    "sum=0\n",
    "while  i!=0:\n",
    "     i=int(input(\"enter another no - \"))\n",
    "     sum=sum+i\n",
    "        \n",
    "        \n",
    "print(\"sum of nos is \",sum+num)\n",
    "     "
   ]
  },
  {
   "cell_type": "code",
   "execution_count": 32,
   "id": "14b71fc7-9a3d-421f-a0a7-3c824638aee1",
   "metadata": {},
   "outputs": [
    {
     "name": "stdin",
     "output_type": "stream",
     "text": [
      "enter no- 8\n"
     ]
    }
   ],
   "source": [
    "i=int(input(\"enter no-\"))\n",
    "i=num\n",
    "sum=0\n",
    "while i>1:\n",
    "    if i!=0:\n",
    "        i=int(input(\"enter another no - \"))\n",
    "        sum=sum+i\n",
    "        print(sum)"
   ]
  },
  {
   "cell_type": "code",
   "execution_count": 19,
   "id": "290e5609-1531-40fa-a3e5-5d771925b472",
   "metadata": {},
   "outputs": [
    {
     "name": "stdin",
     "output_type": "stream",
     "text": [
      "Guess number-  45\n"
     ]
    },
    {
     "name": "stdout",
     "output_type": "stream",
     "text": [
      "Guess heigher\n"
     ]
    },
    {
     "name": "stdin",
     "output_type": "stream",
     "text": [
      " guess gain  55\n"
     ]
    },
    {
     "name": "stdout",
     "output_type": "stream",
     "text": [
      "Guess heigher\n"
     ]
    },
    {
     "name": "stdin",
     "output_type": "stream",
     "text": [
      " guess gain  89\n"
     ]
    },
    {
     "name": "stdout",
     "output_type": "stream",
     "text": [
      "Guess lower\n"
     ]
    },
    {
     "name": "stdin",
     "output_type": "stream",
     "text": [
      " guess gain  70\n"
     ]
    },
    {
     "name": "stdout",
     "output_type": "stream",
     "text": [
      "Guess heigher\n"
     ]
    },
    {
     "name": "stdin",
     "output_type": "stream",
     "text": [
      " guess gain  80\n"
     ]
    },
    {
     "name": "stdout",
     "output_type": "stream",
     "text": [
      "Guess heigher\n"
     ]
    },
    {
     "name": "stdin",
     "output_type": "stream",
     "text": [
      " guess gain  85\n"
     ]
    },
    {
     "name": "stdout",
     "output_type": "stream",
     "text": [
      "Guess lower\n"
     ]
    },
    {
     "name": "stdin",
     "output_type": "stream",
     "text": [
      " guess gain  82\n"
     ]
    },
    {
     "name": "stdout",
     "output_type": "stream",
     "text": [
      "Guess heigher\n"
     ]
    },
    {
     "name": "stdin",
     "output_type": "stream",
     "text": [
      " guess gain  83\n"
     ]
    },
    {
     "name": "stdout",
     "output_type": "stream",
     "text": [
      "Guess heigher\n"
     ]
    },
    {
     "name": "stdin",
     "output_type": "stream",
     "text": [
      " guess gain  84\n"
     ]
    },
    {
     "name": "stdout",
     "output_type": "stream",
     "text": [
      "Correct yehh , You won jackpot\n",
      "No of attemps=  9\n"
     ]
    }
   ],
   "source": [
    "# Guessing game\n",
    "import random \n",
    "jackpot=random.randint(0,100)\n",
    "\n",
    "guess= int(input(\"Guess number- \"))\n",
    "\n",
    "counts=1\n",
    "while guess!=jackpot :\n",
    "    if guess>jackpot:\n",
    "        print(\"Guess lower\")\n",
    "    else :\n",
    "        guess<jackpot\n",
    "        print(\"Guess heigher\")\n",
    "    guess=int(input(\" guess gain \"))   \n",
    "    counts=counts+1\n",
    "else:\n",
    "    print(\"Correct yehh , You won jackpot\")\n",
    "    print(\"No of attemps= \",counts)"
   ]
  },
  {
   "cell_type": "code",
   "execution_count": null,
   "id": "68216144-f4d3-44c7-a5ed-e7fb32e9a8cf",
   "metadata": {},
   "outputs": [
    {
     "name": "stdin",
     "output_type": "stream",
     "text": [
      "Guess number-  5\n"
     ]
    },
    {
     "name": "stdout",
     "output_type": "stream",
     "text": [
      "Guess heigher\n"
     ]
    },
    {
     "name": "stdin",
     "output_type": "stream",
     "text": [
      " guess gain  7\n"
     ]
    },
    {
     "name": "stdout",
     "output_type": "stream",
     "text": [
      "Guess heigher\n"
     ]
    },
    {
     "name": "stdin",
     "output_type": "stream",
     "text": [
      " guess gain  5\n"
     ]
    },
    {
     "name": "stdout",
     "output_type": "stream",
     "text": [
      "Guess heigher\n"
     ]
    },
    {
     "name": "stdin",
     "output_type": "stream",
     "text": [
      " guess gain  3\n"
     ]
    },
    {
     "name": "stdout",
     "output_type": "stream",
     "text": [
      "Guess heigher\n"
     ]
    },
    {
     "name": "stdin",
     "output_type": "stream",
     "text": [
      " guess gain  87\n"
     ]
    },
    {
     "name": "stdout",
     "output_type": "stream",
     "text": [
      "Guess lower\n"
     ]
    }
   ],
   "source": [
    "import random \n",
    "jackpot=random.randint(0,100)\n",
    "\n",
    "guess= int(input(\"Guess number- \"))\n",
    "\n",
    "counts=1\n",
    "while guess!=jackpot :\n",
    "    if guess>jackpot:\n",
    "        print(\"Guess lower\")\n",
    "      \n",
    "       \n",
    "    else :\n",
    "        #guess<jackpot\n",
    "        print(\"Guess heigher\")\n",
    "       \n",
    "    guess=int(input(\" guess gain \"))   \n",
    "   # counts=counts+1\n",
    "#else:\n",
    " #   print(\"Correct yehh , You won jackpot\")\n",
    "  #  print(\"No of attemps= \",counts)"
   ]
  },
  {
   "cell_type": "markdown",
   "id": "88bcfce5-c09f-486d-9a14-7b959a282259",
   "metadata": {},
   "source": [
    "#### For loop"
   ]
  },
  {
   "cell_type": "code",
   "execution_count": 22,
   "id": "b2315c1c-4693-4802-814c-f7e7b0013c1f",
   "metadata": {},
   "outputs": [
    {
     "name": "stdout",
     "output_type": "stream",
     "text": [
      "1\n",
      "2\n",
      "3\n",
      "4\n",
      "5\n",
      "6\n",
      "7\n",
      "8\n",
      "9\n",
      "10\n"
     ]
    }
   ],
   "source": [
    "for i in range(1,11):  # range ek fun hai range(1,11) menas 1,2,3,4,5,6,7,8,9,10  # last digit is not ncluded as always \n",
    "   print(i)"
   ]
  },
  {
   "cell_type": "code",
   "execution_count": 23,
   "id": "89d0f348-5b23-4b7d-b605-74cdf83ab770",
   "metadata": {},
   "outputs": [
    {
     "name": "stdout",
     "output_type": "stream",
     "text": [
      "0\n",
      "2\n",
      "4\n",
      "6\n",
      "8\n"
     ]
    }
   ],
   "source": [
    "# step size \n",
    "for i in range(0,10,2):\n",
    "    print(i)"
   ]
  },
  {
   "cell_type": "code",
   "execution_count": 24,
   "id": "009348a0-321d-420d-8fdd-e1d8f6facd2e",
   "metadata": {},
   "outputs": [
    {
     "name": "stdout",
     "output_type": "stream",
     "text": [
      "10\n",
      "9\n",
      "8\n",
      "7\n",
      "6\n",
      "5\n",
      "4\n",
      "3\n",
      "2\n",
      "1\n"
     ]
    }
   ],
   "source": [
    "# ulti print\n",
    "for i in range(10,0,-1):\n",
    "    print(i)"
   ]
  },
  {
   "cell_type": "code",
   "execution_count": 25,
   "id": "d7ecddf1-9800-493c-8a9b-1ae46712a6b7",
   "metadata": {},
   "outputs": [
    {
     "name": "stdout",
     "output_type": "stream",
     "text": [
      "H\n",
      "a\n",
      "r\n",
      "s\n",
      "h\n",
      "i\n",
      "t\n"
     ]
    }
   ],
   "source": [
    "for i in 'Harshit':\n",
    "    print(i)"
   ]
  },
  {
   "cell_type": "code",
   "execution_count": 26,
   "id": "fb3673f2-fc8b-450e-8405-e7e32528d7be",
   "metadata": {},
   "outputs": [
    {
     "name": "stdout",
     "output_type": "stream",
     "text": [
      "2\n",
      "3\n",
      "4\n",
      "5\n",
      "6\n"
     ]
    }
   ],
   "source": [
    "for i in [2,3,4,5,6]:\n",
    "    print(i)"
   ]
  },
  {
   "cell_type": "markdown",
   "id": "56ced088-35b5-4711-87a7-cee95950762c",
   "metadata": {},
   "source": [
    " Q). The current population of a town is 10000. The population of town is increasing at the rate of 10 [percent per year . We need to wwrite a programe to find out the population at the end of all 10 years."
   ]
  },
  {
   "cell_type": "code",
   "execution_count": 1,
   "id": "9daf2731-ee88-404e-87c9-beff130d2f1a",
   "metadata": {},
   "outputs": [
    {
     "name": "stdout",
     "output_type": "stream",
     "text": [
      "10 10000\n",
      "9 9000.0\n",
      "8 8100.0\n",
      "7 7290.0\n",
      "6 6561.0\n",
      "5 5904.9\n",
      "4 5314.41\n",
      "3 4782.969\n",
      "2 4304.6721\n",
      "1 3874.20489\n"
     ]
    }
   ],
   "source": [
    "# wrong code \n",
    "curr_po=10000\n",
    "\n",
    "for i in range(10,0,-1):\n",
    "    print(i,curr_po)\n",
    "    curr_po=curr_po-0.1*curr_po\n"
   ]
  },
  {
   "cell_type": "markdown",
   "id": "e2e93f77-ba00-4de6-b0f7-9861552e5ffe",
   "metadata": {},
   "source": [
    "## Lec 3"
   ]
  },
  {
   "cell_type": "code",
   "execution_count": 1,
   "id": "84a65f2b-8664-4d62-9f27-7a3cb7485eb9",
   "metadata": {},
   "outputs": [
    {
     "name": "stdout",
     "output_type": "stream",
     "text": [
      "10 10000\n",
      "9 9090.90909090909\n",
      "8 8264.462809917353\n",
      "7 7513.148009015775\n",
      "6 6830.134553650703\n",
      "5 6209.213230591548\n",
      "4 5644.739300537771\n",
      "3 5131.5811823070635\n",
      "2 4665.07380209733\n",
      "1 4240.976183724845\n"
     ]
    }
   ],
   "source": [
    "# same privious ques\n",
    "# har saal10 percent se kam nhi ho rha , har saal 10 percent se badh rha \n",
    "# so agar 9 year ka pop x tha toh x plus 10 percent of x should be equal to 10000  that is population of 10th year \n",
    "#  X + 0.1X = 100000\n",
    "# 1.1 X =10000\n",
    "# X =10000/1.1\n",
    "# Means piche year ka pop = Current year ka pop / 1.1\n",
    "\n",
    "curr_pop=10000\n",
    "\n",
    "for i in range(10,0,-1):\n",
    "    print(i,curr_pop)\n",
    "    curr_pop=curr_pop/1.1"
   ]
  },
  {
   "cell_type": "markdown",
   "id": "31ba3ed1-8b4c-4d53-8ecf-3ba7332509a7",
   "metadata": {},
   "source": [
    "## Sequence calculaton\n"
   ]
  },
  {
   "cell_type": "code",
   "execution_count": 3,
   "id": "3f8da7d9-5751-45da-9fc6-4abcf81de164",
   "metadata": {},
   "outputs": [
    {
     "name": "stdin",
     "output_type": "stream",
     "text": [
      "Enter value of n-  10\n"
     ]
    },
    {
     "name": "stdout",
     "output_type": "stream",
     "text": [
      "1\n",
      "2\n",
      "3\n",
      "4\n",
      "5\n",
      "6\n",
      "7\n",
      "8\n",
      "9\n",
      "10\n"
     ]
    }
   ],
   "source": [
    "# 1+2+3+4+5+6.....n\n",
    "\n",
    "n=int(input(\"Enter value of n- \"))\n",
    "\n",
    "result=0\n",
    "for i in range(1,n+1):\n",
    "    result = result + 1\n",
    "    print(result)"
   ]
  },
  {
   "cell_type": "markdown",
   "id": "79c8b024-53c7-4616-b685-8b0bf2d627ca",
   "metadata": {},
   "source": [
    "## Print the sum of 1/1! +2/2! +3/3!... and so on upto n taken by user "
   ]
  },
  {
   "cell_type": "code",
   "execution_count": 2,
   "id": "b6618383-ebfc-49bf-872b-3975fc8766ec",
   "metadata": {},
   "outputs": [
    {
     "name": "stdin",
     "output_type": "stream",
     "text": [
      "Enter value of n-  5\n"
     ]
    },
    {
     "name": "stdout",
     "output_type": "stream",
     "text": [
      "2.708333333333333\n"
     ]
    }
   ],
   "source": [
    "n=int(input(\"Enter value of n- \"))\n",
    "fact = 1\n",
    "sum = 0\n",
    "\n",
    "for i in range(1,n+1):    # not 0 bcs cant be divided by 0\n",
    "    fact=fact*i\n",
    "    sum=sum+i/fact\n",
    "print(sum)    \n",
    "    "
   ]
  },
  {
   "cell_type": "markdown",
   "id": "a4558757-eef9-41fe-95bb-943ae064e470",
   "metadata": {},
   "source": [
    "# Nested loop "
   ]
  },
  {
   "cell_type": "markdown",
   "id": "c803f612-840d-4008-a684-542d226a1264",
   "metadata": {},
   "source": [
    "print\n",
    "*\n",
    "**\n",
    "***\n",
    "****"
   ]
  },
  {
   "cell_type": "code",
   "execution_count": 7,
   "id": "05b67ae0-10ec-4ff0-88ef-a7c7adbd0569",
   "metadata": {},
   "outputs": [
    {
     "name": "stdin",
     "output_type": "stream",
     "text": [
      "enter no of rows -  5\n"
     ]
    },
    {
     "name": "stdout",
     "output_type": "stream",
     "text": [
      "* \n",
      "* * \n",
      "* * * \n",
      "* * * * \n",
      "* * * * * \n"
     ]
    }
   ],
   "source": [
    "n=int(input(\"enter no of rows - \"))\n",
    "\n",
    "\n",
    "for i in range(1,n+1):\n",
    "    for j in range(1,i+1):\n",
    "        print(\"*\" , end=\" \")\n",
    "    print()   "
   ]
  },
  {
   "cell_type": "markdown",
   "id": "50bbd6fc-b772-4950-bb31-01ec28578490",
   "metadata": {},
   "source": [
    "print\n",
    "1\n",
    "121\n",
    "12321\n",
    "1234321\n"
   ]
  },
  {
   "cell_type": "code",
   "execution_count": 16,
   "id": "4464cbec-23c6-460b-b0bc-ce4582a38010",
   "metadata": {},
   "outputs": [
    {
     "name": "stdin",
     "output_type": "stream",
     "text": [
      "enter no of rows=  4\n"
     ]
    },
    {
     "name": "stdout",
     "output_type": "stream",
     "text": [
      "1 \n",
      "1 2 1 \n",
      "1 2 3 2 1 \n",
      "1 2 3 4 3 2 1 \n",
      "1 2 3 4 5 4 3 2 1 \n"
     ]
    }
   ],
   "source": [
    "rows=int(input(\"enter no of rows= \"))\n",
    "\n",
    "for i in range(1,n+1):\n",
    "    for j in range(1,i+1):\n",
    "        print(j,end=\" \")\n",
    "    for k in range(j-1,0,-1):\n",
    "        print(k,end=\" \" )\n",
    "        \n",
    "    print()"
   ]
  },
  {
   "cell_type": "markdown",
   "id": "6c557ec5-ea87-43ce-bea9-cb83ba258fce",
   "metadata": {},
   "source": [
    "## Loop control  statement \n",
    "## 1. Break\n",
    "## 2. Continue\n",
    "## 3. Pass"
   ]
  },
  {
   "cell_type": "code",
   "execution_count": 20,
   "id": "94320c70-d01b-4979-8257-581dfb559697",
   "metadata": {},
   "outputs": [
    {
     "name": "stdin",
     "output_type": "stream",
     "text": [
      "enter n-  8\n"
     ]
    },
    {
     "name": "stdout",
     "output_type": "stream",
     "text": [
      "0\n",
      "1\n",
      "2\n",
      "3\n",
      "4\n"
     ]
    }
   ],
   "source": [
    "# Break - jahan pe loop ko break karna ho like\n",
    "n=int(input(\"enter n- \"))\n",
    "\n",
    "for i in range(0,n+1):\n",
    "    if i==5:\n",
    "        break\n",
    "    print(i)"
   ]
  },
  {
   "cell_type": "markdown",
   "id": "f0891226-ad7b-4636-83b4-01655c1c6328",
   "metadata": {},
   "source": [
    " write a program to print all the prime  bw the lower limit and upper limit taken by user."
   ]
  },
  {
   "cell_type": "code",
   "execution_count": 26,
   "id": "d6d02f88-7a26-4109-a321-fa669515da6c",
   "metadata": {},
   "outputs": [
    {
     "name": "stdin",
     "output_type": "stream",
     "text": [
      "enter lower limit=  1\n",
      "enter upper limit=  100\n"
     ]
    },
    {
     "name": "stdout",
     "output_type": "stream",
     "text": [
      "1\n",
      "2\n",
      "3\n",
      "5\n",
      "7\n",
      "11\n",
      "13\n",
      "17\n",
      "19\n",
      "23\n",
      "29\n",
      "31\n",
      "37\n",
      "41\n",
      "43\n",
      "47\n",
      "53\n",
      "59\n",
      "61\n",
      "67\n",
      "71\n",
      "73\n",
      "79\n",
      "83\n",
      "89\n",
      "97\n"
     ]
    }
   ],
   "source": [
    "low=int(input(\"enter lower limit= \"))\n",
    "upp= int(input(\"enter upper limit= \"))\n",
    "\n",
    "for i in range(low,upp+1):\n",
    "    for j in range(2,i):\n",
    "        if i%j==0:\n",
    "            break\n",
    "\n",
    "    else:\n",
    "          print(i)"
   ]
  },
  {
   "cell_type": "markdown",
   "id": "e53d3ad1-209d-4153-ae02-9822d5ea2e4b",
   "metadata": {},
   "source": [
    "Continue means to skip"
   ]
  },
  {
   "cell_type": "code",
   "execution_count": 27,
   "id": "5b129bdf-739c-44ca-8929-88afecbdbb93",
   "metadata": {},
   "outputs": [
    {
     "name": "stdout",
     "output_type": "stream",
     "text": [
      "1\n",
      "2\n",
      "3\n",
      "4\n",
      "5\n",
      "7\n",
      "8\n",
      "9\n"
     ]
    }
   ],
   "source": [
    "for i in range(1,10):\n",
    "    if i==6:\n",
    "        continue\n",
    "    print(i)    "
   ]
  },
  {
   "cell_type": "markdown",
   "id": "e2235344-19ec-45fa-ac32-20bee808f3e7",
   "metadata": {},
   "source": [
    "Pass"
   ]
  },
  {
   "cell_type": "code",
   "execution_count": 28,
   "id": "efc8edd3-a11a-463c-8ba1-9aa1b4b2045c",
   "metadata": {},
   "outputs": [],
   "source": [
    "# It will not show erroe in code which is not used at tha ttime \n",
    "for i in range(1,100):\n",
    "    pass\n",
    "    "
   ]
  },
  {
   "cell_type": "markdown",
   "id": "4c0fb140-96c9-4b59-9ce9-ce594579240b",
   "metadata": {},
   "source": [
    "# Strings "
   ]
  },
  {
   "cell_type": "code",
   "execution_count": 32,
   "id": "819a5a13-758b-4ad7-ad91-78df2c2370bc",
   "metadata": {},
   "outputs": [
    {
     "name": "stdout",
     "output_type": "stream",
     "text": [
      "'its' raining outside\n"
     ]
    }
   ],
   "source": [
    "str=\"'its' raining outside\"\n",
    "print(str)"
   ]
  },
  {
   "cell_type": "code",
   "execution_count": 37,
   "id": "800f6191-41a0-45e8-b6fa-8168aad8d717",
   "metadata": {},
   "outputs": [
    {
     "name": "stdout",
     "output_type": "stream",
     "text": [
      "h\n",
      "hello\n",
      " world\n",
      "hello\n",
      "hlo\n",
      "dlrow olleh\n",
      "world\n"
     ]
    }
   ],
   "source": [
    "# SLICING\n",
    "s=\"hello world\"\n",
    "print(s[0])\n",
    "print(s[0:5])\n",
    "print(s[5: ])\n",
    "print(s[ :5])\n",
    "print(s[0:5:2])  # 2 ka jump \n",
    "print(s[: :-1])  # ulta print karega \n",
    "print(s[-5: ])   # negative dirn "
   ]
  },
  {
   "cell_type": "code",
   "execution_count": null,
   "id": "385bfbc5-2630-4382-b4b6-0144d1ff43b9",
   "metadata": {},
   "outputs": [],
   "source": [
    "# EDITING \n",
    "str=\"hello world\"\n",
    "# python strings are immutabele \n",
    "# ek baar banane ke baad change nh kiya jaa skata hai"
   ]
  },
  {
   "cell_type": "code",
   "execution_count": null,
   "id": "6282e363-6db8-4d06-9160-f06245f5e1aa",
   "metadata": {},
   "outputs": [],
   "source": [
    "# deleting \n",
    "s=\"hello world\"\n",
    "del s\n",
    "# del can be used to dlt wholw string "
   ]
  },
  {
   "cell_type": "markdown",
   "id": "24b2a1cb-4ae2-4fe9-8f9c-9a7437faa05f",
   "metadata": {},
   "source": [
    "Operations on strings -->\n",
    "aritrhmatic opereations \n",
    "realtional operators \n",
    "logical operators \n",
    "loops in strin g \n",
    "membership operatiuons \n"
   ]
  },
  {
   "cell_type": "code",
   "execution_count": 38,
   "id": "528dda9d-5490-43c8-ada0-5e161f0f0f53",
   "metadata": {},
   "outputs": [
    {
     "name": "stdout",
     "output_type": "stream",
     "text": [
      "Harshit Good\n"
     ]
    }
   ],
   "source": [
    "# airthmartic operators \n",
    "print(\"Harshit\" + \" \" + \"Good\")"
   ]
  },
  {
   "cell_type": "code",
   "execution_count": 41,
   "id": "532dad9a-0bea-43b7-b9e1-413df4074675",
   "metadata": {},
   "outputs": [
    {
     "name": "stdout",
     "output_type": "stream",
     "text": [
      "jai shree ram , jai shree ram , jai shree ram , jai shree ram , jai shree ram , \n"
     ]
    }
   ],
   "source": [
    "print(\"jai shree ram , \"*5)"
   ]
  },
  {
   "cell_type": "code",
   "execution_count": 42,
   "id": "8651569d-6639-4fca-871d-0d28f8fff285",
   "metadata": {},
   "outputs": [
    {
     "data": {
      "text/plain": [
       "False"
      ]
     },
     "execution_count": 42,
     "metadata": {},
     "output_type": "execute_result"
    }
   ],
   "source": [
    "# realational operator\n",
    "'delhi'=='bihar'"
   ]
  },
  {
   "cell_type": "code",
   "execution_count": 43,
   "id": "6525e1cd-4d76-4896-ac3a-62ced601269c",
   "metadata": {},
   "outputs": [
    {
     "data": {
      "text/plain": [
       "False"
      ]
     },
     "execution_count": 43,
     "metadata": {},
     "output_type": "execute_result"
    }
   ],
   "source": [
    "\"Mumbai\">\"Pune\"   #  it doesnot compare by no of char in trhe word , it compares with the help of ascai values ."
   ]
  },
  {
   "cell_type": "code",
   "execution_count": 44,
   "id": "2c8c8bee-3a69-4887-8354-a8ab79ff9add",
   "metadata": {},
   "outputs": [
    {
     "data": {
      "text/plain": [
       "False"
      ]
     },
     "execution_count": 44,
     "metadata": {},
     "output_type": "execute_result"
    }
   ],
   "source": [
    "\"pune\">\"pune\"   # smaller alphabet has amller ascai values "
   ]
  },
  {
   "cell_type": "markdown",
   "id": "154be7de-18a8-47da-97ee-6af916967607",
   "metadata": {},
   "source": [
    "Agar string meein ko bhi characters hain wop wo true value dega aur agar wo string khali hai toh false dega "
   ]
  },
  {
   "cell_type": "code",
   "execution_count": 14,
   "id": "875f285c-fb10-4486-b8ea-ab5fd6ad5132",
   "metadata": {},
   "outputs": [
    {
     "data": {
      "text/plain": [
       "False"
      ]
     },
     "execution_count": 14,
     "metadata": {},
     "output_type": "execute_result"
    }
   ],
   "source": [
    "# example\n",
    "\"harshit\"==1      # int is not equal to string  "
   ]
  },
  {
   "cell_type": "code",
   "execution_count": 1,
   "id": "24e61494-f60a-4bb3-9120-761d5fc6b4c9",
   "metadata": {},
   "outputs": [
    {
     "data": {
      "text/plain": [
       "True"
      ]
     },
     "execution_count": 1,
     "metadata": {},
     "output_type": "execute_result"
    }
   ],
   "source": [
    "\"Harshit\"!=1        # int is equal to string "
   ]
  },
  {
   "cell_type": "code",
   "execution_count": 16,
   "id": "6b31bc9d-8839-421a-97e3-910b8aff84e1",
   "metadata": {},
   "outputs": [
    {
     "data": {
      "text/plain": [
       "False"
      ]
     },
     "execution_count": 16,
     "metadata": {},
     "output_type": "execute_result"
    }
   ],
   "source": [
    "\" \"==0"
   ]
  },
  {
   "cell_type": "code",
   "execution_count": 49,
   "id": "97c15778-570c-4bb0-abcc-a694f4b10667",
   "metadata": {},
   "outputs": [
    {
     "data": {
      "text/plain": [
       "'mohit'"
      ]
     },
     "execution_count": 49,
     "metadata": {},
     "output_type": "execute_result"
    }
   ],
   "source": [
    "\"harshit\" and \"mohit\"   # mohit issliye print hua kyoki harshit is true so and kek aaran wo next check karne gya so mohit is \n",
    "# is also true so usne last wal;a print kar diya .*"
   ]
  },
  {
   "cell_type": "code",
   "execution_count": 48,
   "id": "08c484db-f541-4fe0-9be8-4bdef87d9cec",
   "metadata": {},
   "outputs": [
    {
     "data": {
      "text/plain": [
       "'harshit'"
      ]
     },
     "execution_count": 48,
     "metadata": {},
     "output_type": "execute_result"
    }
   ],
   "source": [
    "\"harshit\" or \"mohit\"   # harshit issliye print hua kyoki first wala harshit is a true vcalue so harshity is print h ogya \n",
    "# no need to check doosra "
   ]
  },
  {
   "cell_type": "markdown",
   "id": "34ee5857-7353-44b1-aa91-3f8dcf760c2c",
   "metadata": {},
   "source": [
    "loops in string "
   ]
  },
  {
   "cell_type": "code",
   "execution_count": 50,
   "id": "a33169f3-dbc0-4a6f-8bb7-4cb777b2e848",
   "metadata": {},
   "outputs": [
    {
     "name": "stdout",
     "output_type": "stream",
     "text": [
      "h\n",
      "a\n",
      "r\n",
      "s\n",
      "h\n",
      "i\n",
      "t\n"
     ]
    }
   ],
   "source": [
    "for i in 'harshit':\n",
    "    print(i)"
   ]
  },
  {
   "cell_type": "code",
   "execution_count": 51,
   "id": "b4f0f196-86bc-46f9-b438-b3f67ec320b0",
   "metadata": {},
   "outputs": [
    {
     "name": "stdout",
     "output_type": "stream",
     "text": [
      "mohit\n",
      "mohit\n",
      "mohit\n",
      "mohit\n",
      "mohit\n",
      "mohit\n",
      "mohit\n"
     ]
    }
   ],
   "source": [
    "for i in \"harshit\":\n",
    "    print(\"mohit\")     # unique ques "
   ]
  },
  {
   "cell_type": "code",
   "execution_count": 52,
   "id": "817918f9-68f3-48c1-88e7-c82013aaed8c",
   "metadata": {},
   "outputs": [
    {
     "data": {
      "text/plain": [
       "True"
      ]
     },
     "execution_count": 52,
     "metadata": {},
     "output_type": "execute_result"
    }
   ],
   "source": [
    "'H' in \"Harshit\""
   ]
  },
  {
   "cell_type": "code",
   "execution_count": 53,
   "id": "6f53fbaf-682a-4769-ba16-83f1367992e1",
   "metadata": {},
   "outputs": [
    {
     "data": {
      "text/plain": [
       "False"
      ]
     },
     "execution_count": 53,
     "metadata": {},
     "output_type": "execute_result"
    }
   ],
   "source": [
    "\"H\" not in \"Harshit\""
   ]
  },
  {
   "cell_type": "markdown",
   "id": "f51562c7-23a1-477b-b61c-b5570731c181",
   "metadata": {},
   "source": [
    "# String funs"
   ]
  },
  {
   "cell_type": "markdown",
   "id": "b5850b32-8508-4b2d-a163-d530a251d592",
   "metadata": {},
   "source": [
    "common funs jo har data types pe kaqam karte \n"
   ]
  },
  {
   "cell_type": "code",
   "execution_count": 54,
   "id": "45a59a8d-3ff1-4825-8d6c-c9e1290b25f3",
   "metadata": {},
   "outputs": [
    {
     "data": {
      "text/plain": [
       "11"
      ]
     },
     "execution_count": 54,
     "metadata": {},
     "output_type": "execute_result"
    }
   ],
   "source": [
    "len(\"hello world\")"
   ]
  },
  {
   "cell_type": "code",
   "execution_count": 55,
   "id": "b4c2d92e-88a4-4781-8108-480ec2b3ba7b",
   "metadata": {},
   "outputs": [
    {
     "data": {
      "text/plain": [
       "'w'"
      ]
     },
     "execution_count": 55,
     "metadata": {},
     "output_type": "execute_result"
    }
   ],
   "source": [
    "max(\"hello world\")"
   ]
  },
  {
   "cell_type": "code",
   "execution_count": 56,
   "id": "eb5a764a-1e51-4057-87fd-f6cc86e55c56",
   "metadata": {},
   "outputs": [
    {
     "data": {
      "text/plain": [
       "' '"
      ]
     },
     "execution_count": 56,
     "metadata": {},
     "output_type": "execute_result"
    }
   ],
   "source": [
    "min(\"hello world\")"
   ]
  },
  {
   "cell_type": "code",
   "execution_count": 57,
   "id": "42437420-f992-4a0e-882d-0f7824218fa9",
   "metadata": {},
   "outputs": [
    {
     "data": {
      "text/plain": [
       "[' ',\n",
       " ' ',\n",
       " ' ',\n",
       " ' ',\n",
       " 'a',\n",
       " 'a',\n",
       " 'b',\n",
       " 'd',\n",
       " 'g',\n",
       " 'h',\n",
       " 'h',\n",
       " 'i',\n",
       " 'i',\n",
       " 'o',\n",
       " 'o',\n",
       " 'o',\n",
       " 'r',\n",
       " 's',\n",
       " 's',\n",
       " 't',\n",
       " 'y']"
      ]
     },
     "execution_count": 57,
     "metadata": {},
     "output_type": "execute_result"
    }
   ],
   "source": [
    "sorted(\"harshit is a good boy\")"
   ]
  },
  {
   "cell_type": "markdown",
   "id": "4493d300-31e2-42b5-a942-bc1e85b2ec32",
   "metadata": {},
   "source": [
    "Only for string type datatyte"
   ]
  },
  {
   "cell_type": "code",
   "execution_count": 27,
   "id": "68cbd292-5777-414b-93d9-dccece7aa0ae",
   "metadata": {},
   "outputs": [
    {
     "data": {
      "text/plain": [
       "'Hello world'"
      ]
     },
     "execution_count": 27,
     "metadata": {},
     "output_type": "execute_result"
    }
   ],
   "source": [
    "s=\"hello world\"\n",
    "s.capitalize()    # pehla letter ko capital karega "
   ]
  },
  {
   "cell_type": "code",
   "execution_count": 41,
   "id": "ce2b5bfe-57fe-46bb-849a-33c70440496c",
   "metadata": {},
   "outputs": [
    {
     "data": {
      "text/plain": [
       "'Hello World'"
      ]
     },
     "execution_count": 41,
     "metadata": {},
     "output_type": "execute_result"
    }
   ],
   "source": [
    "s.title()         # har word ke first letter ko capital kar dega "
   ]
  },
  {
   "cell_type": "code",
   "execution_count": 28,
   "id": "6e4a2b98-7c8a-4d55-8665-d27ec3c8f112",
   "metadata": {},
   "outputs": [
    {
     "data": {
      "text/plain": [
       "'HELLO WORLD'"
      ]
     },
     "execution_count": 28,
     "metadata": {},
     "output_type": "execute_result"
    }
   ],
   "source": [
    "s.upper()     # saare ke saare letter ko capital kar dega"
   ]
  },
  {
   "cell_type": "code",
   "execution_count": 43,
   "id": "5652e70d-c1e4-4dd7-861b-2304570c6404",
   "metadata": {},
   "outputs": [
    {
     "name": "stdout",
     "output_type": "stream",
     "text": [
      "hello world\n",
      "HeLLo WoRld\n"
     ]
    }
   ],
   "source": [
    "print(s.lower())    # sab ke sabko lower kar dega \n",
    "print(s)       # strings are immutabel , nye string bnna ke usme change kiya jaa rha original kabhi chnage nhi ho sakta "
   ]
  },
  {
   "cell_type": "code",
   "execution_count": 30,
   "id": "68ddeb12-f38d-4dd0-a492-47502f279834",
   "metadata": {},
   "outputs": [
    {
     "data": {
      "text/plain": [
       "'hEllO wOrLD'"
      ]
     },
     "execution_count": 30,
     "metadata": {},
     "output_type": "execute_result"
    }
   ],
   "source": [
    "s=\"HeLLo WoRld\"\n",
    "s.swapcase()            # ulta pulta"
   ]
  },
  {
   "cell_type": "code",
   "execution_count": 31,
   "id": "d86ea74d-a9c6-4822-85c6-3de5de113cf7",
   "metadata": {},
   "outputs": [
    {
     "data": {
      "text/plain": [
       "2"
      ]
     },
     "execution_count": 31,
     "metadata": {},
     "output_type": "execute_result"
    }
   ],
   "source": [
    "\"my name is harshit\".count('i')"
   ]
  },
  {
   "cell_type": "code",
   "execution_count": 32,
   "id": "c96ce226-f6f9-4bc3-aa45-e376a490d623",
   "metadata": {},
   "outputs": [
    {
     "data": {
      "text/plain": [
       "8"
      ]
     },
     "execution_count": 32,
     "metadata": {},
     "output_type": "execute_result"
    }
   ],
   "source": [
    "\"my name is harshit\".find('is')"
   ]
  },
  {
   "cell_type": "code",
   "execution_count": 33,
   "id": "36c2bf34-6b1c-42c7-a8f6-a969927cdb1f",
   "metadata": {},
   "outputs": [
    {
     "data": {
      "text/plain": [
       "-1"
      ]
     },
     "execution_count": 33,
     "metadata": {},
     "output_type": "execute_result"
    }
   ],
   "source": [
    "\"my name is harshit\".find('diwali')"
   ]
  },
  {
   "cell_type": "code",
   "execution_count": 34,
   "id": "eeccc013-2c03-4666-9873-ac2fdfd55b33",
   "metadata": {},
   "outputs": [
    {
     "data": {
      "text/plain": [
       "8"
      ]
     },
     "execution_count": 34,
     "metadata": {},
     "output_type": "execute_result"
    }
   ],
   "source": [
    "\"my name is harshit\".index('is')"
   ]
  },
  {
   "cell_type": "code",
   "execution_count": null,
   "id": "017ec66b-f4e5-4895-929a-265d80808d9a",
   "metadata": {},
   "outputs": [],
   "source": [
    "\"my name is harshit\".index('diwali')     # will throw error"
   ]
  },
  {
   "cell_type": "code",
   "execution_count": 35,
   "id": "acdc490f-3551-4ff5-840c-0f1062dd0a07",
   "metadata": {},
   "outputs": [
    {
     "data": {
      "text/plain": [
       "True"
      ]
     },
     "execution_count": 35,
     "metadata": {},
     "output_type": "execute_result"
    }
   ],
   "source": [
    "\"harshit\".endswith('it')"
   ]
  },
  {
   "cell_type": "code",
   "execution_count": 36,
   "id": "2ac81eb1-6439-464c-b0bc-529dca7cbc1f",
   "metadata": {},
   "outputs": [
    {
     "data": {
      "text/plain": [
       "True"
      ]
     },
     "execution_count": 36,
     "metadata": {},
     "output_type": "execute_result"
    }
   ],
   "source": [
    "\"harshit\".startswith('ha')"
   ]
  },
  {
   "cell_type": "markdown",
   "id": "9c7373b5-3c17-421c-9d5c-001facc475aa",
   "metadata": {},
   "source": [
    "Format"
   ]
  },
  {
   "cell_type": "code",
   "execution_count": 39,
   "id": "853f5cd0-7e6e-4925-abd0-f4f4098b488b",
   "metadata": {},
   "outputs": [
    {
     "data": {
      "text/plain": [
       "'Hie my name is Harshit and my gender is Male'"
      ]
     },
     "execution_count": 39,
     "metadata": {},
     "output_type": "execute_result"
    }
   ],
   "source": [
    "name=\"Harshit\"\n",
    "Gender=\"Male\"\n",
    "\"Hie my name is {} and my gender is {}\".format(name,Gender)"
   ]
  },
  {
   "cell_type": "code",
   "execution_count": 40,
   "id": "cce27f46-6df1-4e25-8197-6026bc296791",
   "metadata": {},
   "outputs": [
    {
     "data": {
      "text/plain": [
       "'Hie my name is Male and my gender is Harshit'"
      ]
     },
     "execution_count": 40,
     "metadata": {},
     "output_type": "execute_result"
    }
   ],
   "source": [
    "name=\"Harshit\"\n",
    "Gender=\"Male\"\n",
    "\"Hie my name is {1} and my gender is {0}\".format(name,Gender)    # imp "
   ]
  },
  {
   "cell_type": "code",
   "execution_count": 44,
   "id": "b4594d76-0723-4f3f-a886-f1076c340c8b",
   "metadata": {},
   "outputs": [
    {
     "data": {
      "text/plain": [
       "True"
      ]
     },
     "execution_count": 44,
     "metadata": {},
     "output_type": "execute_result"
    }
   ],
   "source": [
    "# alnum\n",
    "\"harshit01\".isalnum()"
   ]
  },
  {
   "cell_type": "code",
   "execution_count": 45,
   "id": "cc657b2d-f0db-49a8-ba77-270349f2bbb1",
   "metadata": {},
   "outputs": [
    {
     "data": {
      "text/plain": [
       "True"
      ]
     },
     "execution_count": 45,
     "metadata": {},
     "output_type": "execute_result"
    }
   ],
   "source": [
    "\"harhsit\".isalpha()"
   ]
  },
  {
   "cell_type": "code",
   "execution_count": 46,
   "id": "a55fac3e-80af-4e68-9a97-3246408663bd",
   "metadata": {},
   "outputs": [
    {
     "data": {
      "text/plain": [
       "True"
      ]
     },
     "execution_count": 46,
     "metadata": {},
     "output_type": "execute_result"
    }
   ],
   "source": [
    "\"1720\".isdigit()"
   ]
  },
  {
   "cell_type": "code",
   "execution_count": 47,
   "id": "67386c7b-26b7-4b24-b72e-9c61ccee209c",
   "metadata": {},
   "outputs": [
    {
     "data": {
      "text/plain": [
       "False"
      ]
     },
     "execution_count": 47,
     "metadata": {},
     "output_type": "execute_result"
    }
   ],
   "source": [
    "\"1name\".isidentifier()"
   ]
  },
  {
   "cell_type": "code",
   "execution_count": 48,
   "id": "5271dfa3-83a6-43f9-a84c-afc27248b163",
   "metadata": {},
   "outputs": [
    {
     "data": {
      "text/plain": [
       "True"
      ]
     },
     "execution_count": 48,
     "metadata": {},
     "output_type": "execute_result"
    }
   ],
   "source": [
    "\"harshit12\".isidentifier()"
   ]
  },
  {
   "cell_type": "markdown",
   "id": "b13b6b6a-8eb6-43d8-be94-f3f82cfb36c7",
   "metadata": {},
   "source": [
    "## Split"
   ]
  },
  {
   "cell_type": "code",
   "execution_count": 49,
   "id": "7e20d25e-32f9-412e-b7c7-fb88bd54ec02",
   "metadata": {},
   "outputs": [
    {
     "data": {
      "text/plain": [
       "['my', 'name', 'is', 'harshit', 'kumar']"
      ]
     },
     "execution_count": 49,
     "metadata": {},
     "output_type": "execute_result"
    }
   ],
   "source": [
    "\"my name is harshit kumar\".split()"
   ]
  },
  {
   "cell_type": "code",
   "execution_count": 51,
   "id": "76dcfcb9-9c08-4543-9e7c-2cb3dc403e17",
   "metadata": {},
   "outputs": [
    {
     "data": {
      "text/plain": [
       "['my n', 'me is h', 'rshit kum', 'r']"
      ]
     },
     "execution_count": 51,
     "metadata": {},
     "output_type": "execute_result"
    }
   ],
   "source": [
    "\"my name is harshit kumar\".split('a')   # jahan jahan a aayega wohan se split kar dega "
   ]
  },
  {
   "cell_type": "code",
   "execution_count": 52,
   "id": "36ae175d-e6b7-46cf-9be0-a328e9f4ad5e",
   "metadata": {},
   "outputs": [
    {
     "data": {
      "text/plain": [
       "['i ', ' you ', ' not ', ' good ', ' boy']"
      ]
     },
     "execution_count": 52,
     "metadata": {},
     "output_type": "execute_result"
    }
   ],
   "source": [
    "\"i am you am not am good am boy\".split(\"am\")"
   ]
  },
  {
   "cell_type": "markdown",
   "id": "48a8cef8-4158-4ab3-bad0-4b002f678216",
   "metadata": {},
   "source": [
    "## JOIN"
   ]
  },
  {
   "cell_type": "code",
   "execution_count": 53,
   "id": "6e08cd09-b75d-445c-9cf5-d495d38d6fed",
   "metadata": {},
   "outputs": [
    {
     "data": {
      "text/plain": [
       "'my name is harshit kumar'"
      ]
     },
     "execution_count": 53,
     "metadata": {},
     "output_type": "execute_result"
    }
   ],
   "source": [
    "\" \".join(['my', 'name', 'is', 'harshit', 'kumar'])"
   ]
  },
  {
   "cell_type": "code",
   "execution_count": 54,
   "id": "4e141aa0-d4b6-4a4f-aa66-8179a1e5bf5f",
   "metadata": {},
   "outputs": [
    {
     "data": {
      "text/plain": [
       "'my,name,is,harshit,kumar'"
      ]
     },
     "execution_count": 54,
     "metadata": {},
     "output_type": "execute_result"
    }
   ],
   "source": [
    "\",\".join(['my', 'name', 'is', 'harshit', 'kumar'])"
   ]
  },
  {
   "cell_type": "markdown",
   "id": "76d54480-ce5c-4416-9b2d-bbb16bce3d1f",
   "metadata": {},
   "source": [
    "## Replace"
   ]
  },
  {
   "cell_type": "code",
   "execution_count": 55,
   "id": "86d22a92-18f6-4f70-b0c5-5db778a79db5",
   "metadata": {},
   "outputs": [
    {
     "data": {
      "text/plain": [
       "'his namse is harshit'"
      ]
     },
     "execution_count": 55,
     "metadata": {},
     "output_type": "execute_result"
    }
   ],
   "source": [
    "\"my namse is harshit\".replace(\"my\",\"his\")"
   ]
  },
  {
   "cell_type": "markdown",
   "id": "b7483ae6-4c46-42e6-a279-82a52dcfc6aa",
   "metadata": {},
   "source": [
    "## sTRIP"
   ]
  },
  {
   "cell_type": "code",
   "execution_count": 56,
   "id": "b3f768d9-ebb2-4e50-be75-fe24d18b34ec",
   "metadata": {},
   "outputs": [
    {
     "data": {
      "text/plain": [
       "'Harshit'"
      ]
     },
     "execution_count": 56,
     "metadata": {},
     "output_type": "execute_result"
    }
   ],
   "source": [
    "\"Harshit               \".strip()       #Spaces ko hatata hai "
   ]
  },
  {
   "cell_type": "code",
   "execution_count": 57,
   "id": "43ab0f08-d9ba-48bb-8a4d-baa249f8d67b",
   "metadata": {},
   "outputs": [
    {
     "data": {
      "text/plain": [
       "'Harshit     is    not a   good boy'"
      ]
     },
     "execution_count": 57,
     "metadata": {},
     "output_type": "execute_result"
    }
   ],
   "source": [
    "\"Harshit     is    not a   good boy    \".strip()"
   ]
  },
  {
   "cell_type": "markdown",
   "id": "37973dde-ebc1-49fb-b65a-2afaa3862d31",
   "metadata": {},
   "source": [
    "# Practice"
   ]
  },
  {
   "cell_type": "code",
   "execution_count": 67,
   "id": "14d5552b-3c8c-407a-97f6-fb2e587fca32",
   "metadata": {},
   "outputs": [
    {
     "name": "stdout",
     "output_type": "stream",
     "text": [
      "hit\n"
     ]
    }
   ],
   "source": [
    "n=\"harshit\"\n",
    "print(n[4:8])"
   ]
  },
  {
   "cell_type": "code",
   "execution_count": null,
   "id": "81858aa1-0d9d-4d41-aac7-5d5ce93b18de",
   "metadata": {},
   "outputs": [],
   "source": []
  },
  {
   "cell_type": "code",
   "execution_count": 85,
   "id": "42089ffb-eeae-4e55-8d69-97f5656c9d55",
   "metadata": {},
   "outputs": [],
   "source": [
    "n=\"hello World\"\n",
    "\n",
    "for char in n:\n",
    "    if char==\"hello W\":\n",
    "        pass\n",
    "        print(char)\n",
    "    \n",
    "    "
   ]
  },
  {
   "cell_type": "code",
   "execution_count": null,
   "id": "f32a818a-1e5c-4e2d-8a0b-aca785c43c19",
   "metadata": {},
   "outputs": [],
   "source": [
    "n=4\n",
    "i=0\n",
    "while n<=4:\n",
    "    num=int(\"1\"*n)\n",
    "    n=i+1\n",
    "    print(num**2)"
   ]
  },
  {
   "cell_type": "code",
   "execution_count": 18,
   "id": "282f2380-dfb2-4bbb-80c8-ce6b33a03301",
   "metadata": {},
   "outputs": [
    {
     "name": "stdout",
     "output_type": "stream",
     "text": [
      "h\n",
      "a\n",
      "r\n",
      "s\n",
      "h\n",
      "i\n",
      "t\n"
     ]
    }
   ],
   "source": [
    "str=\"cat\"\n",
    "\n",
    "\n",
    "for char in str:\n",
    "    \n",
    "    \n",
    "    print(char)\n",
    "    "
   ]
  },
  {
   "cell_type": "code",
   "execution_count": 25,
   "id": "8787a7c6-946d-4f6e-983c-c8d072209450",
   "metadata": {},
   "outputs": [
    {
     "name": "stdin",
     "output_type": "stream",
     "text": [
      "enter a no 4\n"
     ]
    },
    {
     "name": "stdout",
     "output_type": "stream",
     "text": [
      "2.5\n"
     ]
    }
   ],
   "source": [
    "N=int(input(\"enter a no\"))\n",
    "fact=1\n",
    "tot=0\n",
    "for i in range(1,N,1):\n",
    "    fact=i*fact\n",
    "    a=i/fact\n",
    "    tot=tot+a\n",
    "    \n",
    "print(tot)"
   ]
  },
  {
   "cell_type": "code",
   "execution_count": null,
   "id": "65b2a11a-4e18-49be-b201-09738acff42d",
   "metadata": {},
   "outputs": [],
   "source": []
  },
  {
   "cell_type": "code",
   "execution_count": null,
   "id": "6b8f62bc-5042-4c34-bceb-c2a8cd98c30f",
   "metadata": {},
   "outputs": [],
   "source": []
  },
  {
   "cell_type": "code",
   "execution_count": null,
   "id": "c790386c-a35c-48b7-a312-f72047c614fd",
   "metadata": {},
   "outputs": [],
   "source": []
  },
  {
   "cell_type": "code",
   "execution_count": null,
   "id": "f2cc1b4a-d3df-45cd-af38-e8ab8bf520d6",
   "metadata": {},
   "outputs": [],
   "source": []
  },
  {
   "cell_type": "markdown",
   "id": "32d4c853-aac9-42b9-a774-f12e384baee9",
   "metadata": {},
   "source": [
    "# eXERCISE"
   ]
  },
  {
   "cell_type": "markdown",
   "id": "11d1cfc4-c9dc-476e-96a6-55ef9de87fe7",
   "metadata": {},
   "source": [
    "Q1 Find the length of a given string without using len() fun \n"
   ]
  },
  {
   "cell_type": "code",
   "execution_count": 63,
   "id": "999b8b26-3555-4129-a2cf-bf3958620dd3",
   "metadata": {},
   "outputs": [
    {
     "name": "stdin",
     "output_type": "stream",
     "text": [
      "Enter the word-  harshit\n"
     ]
    },
    {
     "name": "stdout",
     "output_type": "stream",
     "text": [
      "length of str=  7\n"
     ]
    }
   ],
   "source": [
    "str=input(\"Enter the word- \")\n",
    "counter=0\n",
    "for i in str:\n",
    "    counter +=1\n",
    "\n",
    "print(\"length of str= \",counter)"
   ]
  },
  {
   "cell_type": "code",
   "execution_count": null,
   "id": "67aebb62-28ad-4a80-b75c-c918c8532183",
   "metadata": {},
   "outputs": [],
   "source": []
  },
  {
   "cell_type": "markdown",
   "id": "9748f1e3-3862-4bd7-8472-cf9f79b6b05e",
   "metadata": {},
   "source": [
    "Q2 Extract user name from a given mail\n",
    "Example- harshit22@gmail.com\n",
    "username- harshit22"
   ]
  },
  {
   "cell_type": "code",
   "execution_count": 65,
   "id": "ba1e1182-d222-4561-aa4c-5d499c7fd2c2",
   "metadata": {},
   "outputs": [
    {
     "name": "stdin",
     "output_type": "stream",
     "text": [
      "enter the mail-  harshit@gmail.com\n"
     ]
    },
    {
     "name": "stdout",
     "output_type": "stream",
     "text": [
      "harshit\n"
     ]
    }
   ],
   "source": [
    "s=input(\"enter the mail- \")\n",
    "\n",
    "pos=s.index(\"@\")\n",
    "print(s[ :pos])"
   ]
  },
  {
   "cell_type": "code",
   "execution_count": null,
   "id": "ec98b8eb-6b35-415f-9ee3-4b15312857fe",
   "metadata": {},
   "outputs": [],
   "source": []
  },
  {
   "cell_type": "markdown",
   "id": "b7002a9d-259c-41c8-ab54-73c7f34f2057",
   "metadata": {},
   "source": [
    "Count the frequency of a particular char in provided string.\n",
    "example- \"hello how are you\" is a str , the frequency of h in this string is 2."
   ]
  },
  {
   "cell_type": "code",
   "execution_count": 66,
   "id": "561e59f5-eb2b-46b5-a80c-91348c83b51a",
   "metadata": {},
   "outputs": [
    {
     "data": {
      "text/plain": [
       "3"
      ]
     },
     "execution_count": 66,
     "metadata": {},
     "output_type": "execute_result"
    }
   ],
   "source": [
    "str=\"my name is harshit kumar\"\n",
    "lis=s.split(\"a\")\n",
    "len(lis)"
   ]
  },
  {
   "cell_type": "code",
   "execution_count": 67,
   "id": "05aadca3-ce01-4dc2-a3be-6ee78fb9b505",
   "metadata": {},
   "outputs": [
    {
     "name": "stdin",
     "output_type": "stream",
     "text": [
      "enter a sen-  my name is harshit kumar \n",
      "which term are you searching for-  a\n"
     ]
    },
    {
     "name": "stdout",
     "output_type": "stream",
     "text": [
      "frequency=  3\n"
     ]
    }
   ],
   "source": [
    "# 2nd method \n",
    "s=input(\"enter a sen- \")\n",
    "term=input(\"which term are you searching for- \")\n",
    "\n",
    "counter=0\n",
    "for i in s:\n",
    "    if i==term:\n",
    "        counter=counter+1\n",
    "\n",
    "print(\"frequency= \",counter)"
   ]
  },
  {
   "cell_type": "code",
   "execution_count": null,
   "id": "f8d82e6d-a0ed-4778-bc08-9f32f62c71f8",
   "metadata": {},
   "outputs": [],
   "source": []
  },
  {
   "cell_type": "markdown",
   "id": "2e51323c-3226-4587-b12c-950c1d3ccb65",
   "metadata": {},
   "source": [
    "Write a program whch can remove a particular char from a stg"
   ]
  },
  {
   "cell_type": "code",
   "execution_count": 75,
   "id": "010755c4-25ba-4e6d-a2f6-a47958ae8642",
   "metadata": {},
   "outputs": [
    {
     "name": "stdin",
     "output_type": "stream",
     "text": [
      "enter a sen-  harshit\n",
      "what do you want to remove-  a\n"
     ]
    },
    {
     "name": "stdout",
     "output_type": "stream",
     "text": [
      "hrshit\n"
     ]
    }
   ],
   "source": [
    "s=input(\"enter a sen- \")\n",
    "term=input(\"what do you want to remove- \")\n",
    "result=\"\"\n",
    "\n",
    "for i in s:\n",
    "    if i!=term:\n",
    "        result=result+i\n",
    "\n",
    "print(result)"
   ]
  },
  {
   "cell_type": "code",
   "execution_count": null,
   "id": "22a84f77-5926-4e75-82f8-68c982937153",
   "metadata": {},
   "outputs": [],
   "source": []
  },
  {
   "cell_type": "markdown",
   "id": "8e64c96f-c46e-4c1a-9544-b1111a48a075",
   "metadata": {},
   "source": [
    "Write a program that can check whether a given str is palindrome or not ."
   ]
  },
  {
   "cell_type": "code",
   "execution_count": 85,
   "id": "b988a3ab-05b3-47e4-af4f-c43aa92dc1f7",
   "metadata": {},
   "outputs": [
    {
     "name": "stdin",
     "output_type": "stream",
     "text": [
      "enter word-  harshit\n"
     ]
    },
    {
     "name": "stdout",
     "output_type": "stream",
     "text": [
      "h\n",
      "a\n",
      "r\n",
      "s\n",
      "h\n",
      "i\n",
      "t\n"
     ]
    },
    {
     "ename": "IndexError",
     "evalue": "string index out of range",
     "output_type": "error",
     "traceback": [
      "\u001b[1;31m---------------------------------------------------------------------------\u001b[0m",
      "\u001b[1;31mIndexError\u001b[0m                                Traceback (most recent call last)",
      "Cell \u001b[1;32mIn[85], line 5\u001b[0m\n\u001b[0;32m      2\u001b[0m j\u001b[38;5;241m=\u001b[39m\u001b[38;5;28mlen\u001b[39m(\u001b[38;5;28mstr\u001b[39m)\n\u001b[0;32m      4\u001b[0m \u001b[38;5;28;01mfor\u001b[39;00m i \u001b[38;5;129;01min\u001b[39;00m \u001b[38;5;28mrange\u001b[39m(\u001b[38;5;241m0\u001b[39m,j\u001b[38;5;241m+\u001b[39m\u001b[38;5;241m1\u001b[39m):\n\u001b[1;32m----> 5\u001b[0m     p\u001b[38;5;241m=\u001b[39m\u001b[38;5;28mprint\u001b[39m(s[i])\n\u001b[0;32m      6\u001b[0m \u001b[38;5;28;01mfor\u001b[39;00m k \u001b[38;5;129;01min\u001b[39;00m \u001b[38;5;28mrange\u001b[39m(\u001b[38;5;241m0\u001b[39m,j\u001b[38;5;241m+\u001b[39m\u001b[38;5;241m1\u001b[39m,\u001b[38;5;241m-\u001b[39m\u001b[38;5;241m1\u001b[39m):\n\u001b[0;32m      7\u001b[0m     s\u001b[38;5;241m=\u001b[39m\u001b[38;5;28mprint\u001b[39m(s[k])\n",
      "\u001b[1;31mIndexError\u001b[0m: string index out of range"
     ]
    }
   ],
   "source": [
    "str=input(\"enter word- \")               # will t5r54y it later \n",
    "j=len(str)\n",
    "\n",
    "for i in range(0,j+1):\n",
    "    p=print(s[i])\n",
    "for k in range(0,j+1,-1):\n",
    "    s=print(s[k])\n",
    "    if p==s:\n",
    "        print(\"yes\")\n",
    "\n",
    "else:\n",
    "    print(\"no\")"
   ]
  },
  {
   "cell_type": "code",
   "execution_count": null,
   "id": "422bf23a-d4c3-47b3-96e7-fc57501da722",
   "metadata": {},
   "outputs": [],
   "source": []
  },
  {
   "cell_type": "code",
   "execution_count": 85,
   "id": "6eb1c058-8f8f-4893-8592-bd24faab9fe0",
   "metadata": {},
   "outputs": [
    {
     "name": "stdin",
     "output_type": "stream",
     "text": [
      "enter word-  harshit\n"
     ]
    },
    {
     "name": "stdout",
     "output_type": "stream",
     "text": [
      "h\n",
      "a\n",
      "r\n",
      "s\n",
      "h\n",
      "i\n",
      "t\n"
     ]
    },
    {
     "ename": "IndexError",
     "evalue": "string index out of range",
     "output_type": "error",
     "traceback": [
      "\u001b[1;31m---------------------------------------------------------------------------\u001b[0m",
      "\u001b[1;31mIndexError\u001b[0m                                Traceback (most recent call last)",
      "Cell \u001b[1;32mIn[85], line 5\u001b[0m\n\u001b[0;32m      2\u001b[0m j\u001b[38;5;241m=\u001b[39m\u001b[38;5;28mlen\u001b[39m(\u001b[38;5;28mstr\u001b[39m)\n\u001b[0;32m      4\u001b[0m \u001b[38;5;28;01mfor\u001b[39;00m i \u001b[38;5;129;01min\u001b[39;00m \u001b[38;5;28mrange\u001b[39m(\u001b[38;5;241m0\u001b[39m,j\u001b[38;5;241m+\u001b[39m\u001b[38;5;241m1\u001b[39m):\n\u001b[1;32m----> 5\u001b[0m     p\u001b[38;5;241m=\u001b[39m\u001b[38;5;28mprint\u001b[39m(s[i])\n\u001b[0;32m      6\u001b[0m \u001b[38;5;28;01mfor\u001b[39;00m k \u001b[38;5;129;01min\u001b[39;00m \u001b[38;5;28mrange\u001b[39m(\u001b[38;5;241m0\u001b[39m,j\u001b[38;5;241m+\u001b[39m\u001b[38;5;241m1\u001b[39m,\u001b[38;5;241m-\u001b[39m\u001b[38;5;241m1\u001b[39m):\n\u001b[0;32m      7\u001b[0m     s\u001b[38;5;241m=\u001b[39m\u001b[38;5;28mprint\u001b[39m(s[k])\n",
      "\u001b[1;31mIndexError\u001b[0m: string index out of range"
     ]
    }
   ],
   "source": [
    "str=input(\"enter word- \")               # will t5r54y it later \n",
    "j=len(str)\n",
    "\n",
    "for i in range(0,j+1):\n",
    "    p=print(s[i])\n",
    "for k in range(0,j+1,-1):\n",
    "    s=print(s[k])\n",
    "    if p==s:\n",
    "        print(\"yes\")\n",
    "\n",
    "else:\n",
    "    print(\"no\")"
   ]
  },
  {
   "cell_type": "code",
   "execution_count": 8,
   "id": "b51d1ad6-8683-4c5d-ac6f-314e29ebc7ed",
   "metadata": {},
   "outputs": [
    {
     "name": "stdin",
     "output_type": "stream",
     "text": [
      "enter the string-  level\n"
     ]
    },
    {
     "ename": "IndexError",
     "evalue": "string index out of range",
     "output_type": "error",
     "traceback": [
      "\u001b[1;31m---------------------------------------------------------------------------\u001b[0m",
      "\u001b[1;31mIndexError\u001b[0m                                Traceback (most recent call last)",
      "Cell \u001b[1;32mIn[8], line 5\u001b[0m\n\u001b[0;32m      2\u001b[0m p\u001b[38;5;241m=\u001b[39m\u001b[38;5;28mlen\u001b[39m(s)\n\u001b[0;32m      4\u001b[0m \u001b[38;5;28;01mfor\u001b[39;00m i \u001b[38;5;129;01min\u001b[39;00m \u001b[38;5;28mrange\u001b[39m(\u001b[38;5;241m0\u001b[39m,p\u001b[38;5;241m/\u001b[39m\u001b[38;5;241m/\u001b[39m\u001b[38;5;241m2\u001b[39m\u001b[38;5;241m+\u001b[39m\u001b[38;5;241m1\u001b[39m):\n\u001b[1;32m----> 5\u001b[0m     \u001b[38;5;28;01mif\u001b[39;00m s[i]\u001b[38;5;241m==\u001b[39ms[p\u001b[38;5;241m-\u001b[39mi]:\n\u001b[0;32m      6\u001b[0m         \u001b[38;5;28mprint\u001b[39m(\u001b[38;5;124m\"\u001b[39m\u001b[38;5;124mits palindrome\u001b[39m\u001b[38;5;124m\"\u001b[39m)\n",
      "\u001b[1;31mIndexError\u001b[0m: string index out of range"
     ]
    }
   ],
   "source": [
    "s=input(\"enter the string- \")\n",
    "p=len(s)\n",
    "\n",
    "for i in range(0,p//2+1):\n",
    "    if s[i]==s[p-i]:\n",
    "        print(\"its palindrome\")\n",
    "\n",
    "              "
   ]
  },
  {
   "cell_type": "code",
   "execution_count": null,
   "id": "6ab63383-7928-497f-9371-07b700035911",
   "metadata": {},
   "outputs": [],
   "source": []
  },
  {
   "cell_type": "markdown",
   "id": "747c0ab0-916d-4f03-85b3-c289e1a88a77",
   "metadata": {},
   "source": [
    "Write a program to count the number of words in a string without split()"
   ]
  },
  {
   "cell_type": "code",
   "execution_count": 12,
   "id": "5149dbef-42eb-4e4e-8040-6539b0614d57",
   "metadata": {},
   "outputs": [
    {
     "name": "stdin",
     "output_type": "stream",
     "text": [
      "enter the string-  harshit is very very good boy.\n"
     ]
    },
    {
     "name": "stdout",
     "output_type": "stream",
     "text": [
      "no of words-  6\n"
     ]
    }
   ],
   "source": [
    "s=input(\"enter the string- \")\n",
    "count=1\n",
    "\n",
    "for i in s:\n",
    "    if i==\" \":\n",
    "        count=count+1\n",
    "\n",
    "print(\"no of words- \",count)"
   ]
  },
  {
   "cell_type": "code",
   "execution_count": 11,
   "id": "6c97fc7f-fe0a-4814-92a1-c62d8d31d442",
   "metadata": {},
   "outputs": [
    {
     "name": "stdin",
     "output_type": "stream",
     "text": [
      "enter the string-  harshit is a good boy.\n"
     ]
    },
    {
     "data": {
      "text/plain": [
       "5"
      ]
     },
     "execution_count": 11,
     "metadata": {},
     "output_type": "execute_result"
    }
   ],
   "source": [
    "#or\n",
    "s=input(\"enter the string- \")\n",
    "p=s.split()\n",
    "len(p)"
   ]
  },
  {
   "cell_type": "code",
   "execution_count": 14,
   "id": "b2cba970-18cb-4dc2-9065-1a3fdd70f09a",
   "metadata": {},
   "outputs": [
    {
     "name": "stdin",
     "output_type": "stream",
     "text": [
      "enter the string-  harshit is very very good boy.\n"
     ]
    },
    {
     "name": "stdout",
     "output_type": "stream",
     "text": [
      "no of words-  25\n"
     ]
    }
   ],
   "source": [
    "#or  this will count no of letters except space\n",
    "\n",
    "s=input(\"enter the string- \")\n",
    "count=0\n",
    "\n",
    "for i in s:\n",
    "    if i!=\" \":\n",
    "        count=count+1\n",
    "\n",
    "print(\"no of words- \",count)"
   ]
  },
  {
   "cell_type": "code",
   "execution_count": null,
   "id": "5583ca03-db02-406f-bc30-81eb31f39b47",
   "metadata": {},
   "outputs": [],
   "source": []
  },
  {
   "cell_type": "code",
   "execution_count": null,
   "id": "3ca5860e-3e60-49eb-83f2-eb5c5aef7a2a",
   "metadata": {},
   "outputs": [],
   "source": []
  },
  {
   "cell_type": "code",
   "execution_count": null,
   "id": "20c45874-b77b-4a63-b436-ed365e7e2be1",
   "metadata": {},
   "outputs": [],
   "source": []
  },
  {
   "cell_type": "code",
   "execution_count": null,
   "id": "17024a07-b094-476d-b0d0-dd8c0a7fb331",
   "metadata": {},
   "outputs": [],
   "source": []
  },
  {
   "cell_type": "code",
   "execution_count": null,
   "id": "331c993d-527f-4b64-98cc-98aa7e169767",
   "metadata": {},
   "outputs": [],
   "source": []
  },
  {
   "cell_type": "code",
   "execution_count": null,
   "id": "c8d97a63-91b8-4f83-8fb1-8a88d25f1c54",
   "metadata": {},
   "outputs": [],
   "source": []
  },
  {
   "cell_type": "code",
   "execution_count": null,
   "id": "136aec19-5385-418e-9261-939dbf73b91d",
   "metadata": {},
   "outputs": [],
   "source": []
  },
  {
   "cell_type": "code",
   "execution_count": null,
   "id": "1286990f-ac97-42d5-9370-e94b14d2e8e0",
   "metadata": {},
   "outputs": [],
   "source": []
  },
  {
   "cell_type": "code",
   "execution_count": null,
   "id": "c1ea70e7-c9ab-46f7-b967-12a92078351a",
   "metadata": {},
   "outputs": [],
   "source": []
  },
  {
   "cell_type": "code",
   "execution_count": null,
   "id": "aab97811-9813-4417-8d36-2dc331ffb06d",
   "metadata": {},
   "outputs": [],
   "source": []
  },
  {
   "cell_type": "code",
   "execution_count": null,
   "id": "4291c14a-348d-42e5-b0bd-4de77e2fdeca",
   "metadata": {},
   "outputs": [],
   "source": []
  },
  {
   "cell_type": "code",
   "execution_count": null,
   "id": "a72f132f-2323-4979-b8f1-da3dc4e83ae5",
   "metadata": {},
   "outputs": [],
   "source": []
  },
  {
   "cell_type": "code",
   "execution_count": null,
   "id": "b108bf95-5238-4c1f-a457-6a1aea82d9bc",
   "metadata": {},
   "outputs": [],
   "source": []
  },
  {
   "cell_type": "markdown",
   "id": "4bc1c271-1f2e-4977-85a0-1b4455d61d93",
   "metadata": {},
   "source": [
    "# Lists\n"
   ]
  },
  {
   "cell_type": "markdown",
   "id": "9230a9ba-9324-4a3d-a290-e155a21a118d",
   "metadata": {},
   "source": [
    "Lists is a data type where we can stre multiple items under 1 name . More technically lists act like dynamic arrays which means you can add more items to the fly."
   ]
  },
  {
   "cell_type": "markdown",
   "id": "e2c7d0e6-b9c5-4c0e-a971-d5b90ca993e3",
   "metadata": {},
   "source": [
    "stores simar type of datas"
   ]
  },
  {
   "cell_type": "markdown",
   "id": "30ee191a-9895-4663-a096-93658633f35b",
   "metadata": {},
   "source": [
    "Arrays vs Lists\n",
    "fixed vs dynamic \n",
    "convenince(homogeneous dtype) vas heterigeneous\n",
    "Array exxcute more fast than list \n",
    "array occupy less space than list"
   ]
  },
  {
   "cell_type": "markdown",
   "id": "0f11700c-d3d8-4036-88aa-737214a171eb",
   "metadata": {},
   "source": [
    "How a array stors in memory?\n",
    "-> it sotes actual items \n",
    "\n",
    "How lists stores in memory ?\n",
    "->Refferential array , we stores adress of items in that list not the items . so it takes  muchh more space as compared to array."
   ]
  },
  {
   "cell_type": "code",
   "execution_count": 15,
   "id": "0c6334c2-d4c0-4e12-acbe-82705261de6c",
   "metadata": {},
   "outputs": [
    {
     "name": "stdout",
     "output_type": "stream",
     "text": [
      "140720148235080\n"
     ]
    }
   ],
   "source": [
    "a=2\n",
    "print(id(2))           # id()--> prints memory adress"
   ]
  },
  {
   "cell_type": "code",
   "execution_count": 16,
   "id": "1df304b2-0ec1-4532-886d-6f64dd57356b",
   "metadata": {},
   "outputs": [
    {
     "name": "stdout",
     "output_type": "stream",
     "text": [
      "140720148235048\n",
      "140720148235720\n",
      "2221123877936\n"
     ]
    }
   ],
   "source": [
    "lis=[1,22,\"harshit\"]\n",
    "print(id(lis[0]))\n",
    "print(id(lis[1]))\n",
    "print(id(lis[2]))    # the adrees of all the items are different"
   ]
  },
  {
   "cell_type": "markdown",
   "id": "5a8b761f-96d7-48a9-8c23-1b19e213dc43",
   "metadata": {},
   "source": [
    "List takes extra time and extra spaces . Dynamic array--> we make new arrays(generally 2x) ac to data and its no . \n",
    "Speed of excusion kam hota hai kyoki , array ko change karna padd rha , aur items ka location alag alag hota hai toh fun ko uske tak jaane mein time lagta hai.\n",
    "Memory bhi waste hota hai as agar hamne dounle kiya aurjham usklo use nh kar paa rhe to waste hi jayega . so takes more spacew."
   ]
  },
  {
   "cell_type": "markdown",
   "id": "6c9bd4c3-a89b-449b-9447-d6226f18b45f",
   "metadata": {},
   "source": [
    "List ka order matter karta hai\n",
    "Example \n",
    "L1=[1,2,3]\n",
    "L2=[3,2,1]\n",
    "so L1 and L2 are nbot the same "
   ]
  },
  {
   "cell_type": "markdown",
   "id": "4c124ae8-df3b-4f52-b67a-5a1a84c6636d",
   "metadata": {},
   "source": [
    "Lists are heterogeneous\n",
    "List can have duplicate items \n",
    "Can be nested --> list ke ander ek aur llistr daal sakte hain\n",
    "Items can be accesed .\n",
    "Can contain any kind of objects in python."
   ]
  },
  {
   "cell_type": "code",
   "execution_count": null,
   "id": "a5367318-cd0e-4de3-83af-0ad852546451",
   "metadata": {},
   "outputs": [],
   "source": []
  },
  {
   "cell_type": "markdown",
   "id": "46328218-b258-410a-8a54-5bffb92c1b27",
   "metadata": {},
   "source": [
    "Create a list"
   ]
  },
  {
   "cell_type": "markdown",
   "id": "2b34cc04-9ab6-4bac-b40c-a38c89493849",
   "metadata": {},
   "source": [
    "Aseending items from a list "
   ]
  },
  {
   "cell_type": "code",
   "execution_count": 19,
   "id": "57181657-e0ef-412d-8cdc-cefd89effadb",
   "metadata": {},
   "outputs": [
    {
     "name": "stdout",
     "output_type": "stream",
     "text": [
      "1\n",
      "5\n"
     ]
    }
   ],
   "source": [
    "# indexing \n",
    "l=[1,2,3,4,5]\n",
    "print(l[0])  # positive indexing \n",
    "print(l[-1])  # negative indexing "
   ]
  },
  {
   "cell_type": "code",
   "execution_count": 23,
   "id": "ad77b253-01fe-41de-8488-df73f0cd601b",
   "metadata": {},
   "outputs": [
    {
     "name": "stdout",
     "output_type": "stream",
     "text": [
      "4\n",
      "4\n",
      "4\n"
     ]
    }
   ],
   "source": [
    "# ind3e4xing in 2D list \n",
    "l=[1,2,3,[4,5]]\n",
    "# if we want to print 4\n",
    "print(l[-1][0])\n",
    "#or\n",
    "print(l[-1][-2])              #IMPORTANT\n",
    "#or\n",
    "print(l[3][-2])"
   ]
  },
  {
   "cell_type": "code",
   "execution_count": 27,
   "id": "184b3601-7e9d-468b-979e-0ccffefd81e5",
   "metadata": {},
   "outputs": [
    {
     "name": "stdout",
     "output_type": "stream",
     "text": [
      "3\n",
      "5\n"
     ]
    }
   ],
   "source": [
    "lis=([[[1,2],[3,4]],[[5,6],[7,8]]])\n",
    "#print 3 and 5\n",
    "print(lis[0][1][-2])\n",
    "print(lis[1][0][0])"
   ]
  },
  {
   "cell_type": "code",
   "execution_count": 30,
   "id": "585a2b7a-7d1f-44ff-a03e-dd6b56e3a6ca",
   "metadata": {},
   "outputs": [
    {
     "name": "stdout",
     "output_type": "stream",
     "text": [
      "[1, 2]\n",
      "[3, 4, 5]\n",
      "[1, 3, 5]\n",
      "[5, 4, 3, 2, 1]\n"
     ]
    }
   ],
   "source": [
    "# slicing\n",
    "lis=[1,2,3,4,5]\n",
    "print(lis[0:2])\n",
    "print(lis[-3: ])\n",
    "print(lis[ : :2])   # alternate items \n",
    "print(lis[ : :-1])  # list reverse"
   ]
  },
  {
   "cell_type": "code",
   "execution_count": null,
   "id": "8c91caee-eaf1-4ff7-b1c3-04ad22742969",
   "metadata": {},
   "outputs": [],
   "source": []
  },
  {
   "cell_type": "markdown",
   "id": "b4e8e67f-ba4b-475c-963c-ad79bd79b752",
   "metadata": {},
   "source": [
    "Adding items to list "
   ]
  },
  {
   "cell_type": "code",
   "execution_count": 31,
   "id": "33f76c59-6142-423c-8666-2f5a353fe324",
   "metadata": {},
   "outputs": [
    {
     "name": "stdout",
     "output_type": "stream",
     "text": [
      "[1, 2, 3, 4, 5, 'harshit']\n"
     ]
    }
   ],
   "source": [
    "# append \n",
    "# ek baar main ek item kist ke last mein add kar sakt6e hain \n",
    "l=[1,2,3,4,5]\n",
    "l.append(\"harshit\")\n",
    "print(l)"
   ]
  },
  {
   "cell_type": "code",
   "execution_count": 33,
   "id": "2fe29ae7-caf9-4486-ad90-c371d515e502",
   "metadata": {},
   "outputs": [
    {
     "name": "stdout",
     "output_type": "stream",
     "text": [
      "[1, 2, 3, 4, 5, [6, 7, 8]]\n"
     ]
    }
   ],
   "source": [
    "l=[1,2,3,4,5]\n",
    "l.append([6,7,8])\n",
    "print(l)"
   ]
  },
  {
   "cell_type": "code",
   "execution_count": 32,
   "id": "5e884098-0413-4d21-93a5-25bc2330727c",
   "metadata": {},
   "outputs": [
    {
     "name": "stdout",
     "output_type": "stream",
     "text": [
      "[1, 2, 3, 4, 5, 6, 7, 8, 9, 10]\n"
     ]
    }
   ],
   "source": [
    "# extend\n",
    "l=[1,2,3,4,5]\n",
    "l.extend([6,7,8,9,10])     3 for adding multiple items \n",
    "print(l)"
   ]
  },
  {
   "cell_type": "code",
   "execution_count": 36,
   "id": "f4e475cc-f105-4549-9354-482d0834f6f2",
   "metadata": {},
   "outputs": [
    {
     "name": "stdout",
     "output_type": "stream",
     "text": [
      "[1, 2, 3, 4, 5, 'harshit']\n",
      "[1, 2, 3, 4, 5, 'harshit', 'h', 'a', 'r', 's', 'h', 'i', 't']\n"
     ]
    }
   ],
   "source": [
    "l=[1,2,3,4,5]\n",
    "l.extend([\"harshit\"])\n",
    "print(l)\n",
    "l.extend(\"harshit\")\n",
    "print(l)"
   ]
  },
  {
   "cell_type": "code",
   "execution_count": 37,
   "id": "ec023cc4-7f1d-48b3-b172-adfaefab9fb2",
   "metadata": {},
   "outputs": [
    {
     "name": "stdout",
     "output_type": "stream",
     "text": [
      "[1, 20, 2, 3, 4, 5]\n"
     ]
    }
   ],
   "source": [
    "# insert    add on dizired location\n",
    "l=[1,2,3,4,5]\n",
    "# l.inser(kahan, kya )\n",
    "l.insert(1,20)\n",
    "print(l)\n"
   ]
  },
  {
   "cell_type": "code",
   "execution_count": null,
   "id": "2621848b-5d1f-45a4-a18f-9ab33d97dcd3",
   "metadata": {},
   "outputs": [],
   "source": []
  },
  {
   "cell_type": "markdown",
   "id": "2cfd7b6c-6a4e-4a06-9c92-450f5c286890",
   "metadata": {},
   "source": [
    "Editing items in list "
   ]
  },
  {
   "cell_type": "code",
   "execution_count": 38,
   "id": "50d71663-2cf7-40f6-9b0b-2fde7a2503e1",
   "metadata": {},
   "outputs": [
    {
     "name": "stdout",
     "output_type": "stream",
     "text": [
      "[1, 2, 3, 600, 5]\n"
     ]
    }
   ],
   "source": [
    "# editing from indexing\n",
    "l=[1,2,3,4,5]\n",
    "l[-2]=600\n",
    "print(l)"
   ]
  },
  {
   "cell_type": "code",
   "execution_count": 40,
   "id": "016c48d7-4f5a-4b5b-ac68-d8de0447fe00",
   "metadata": {},
   "outputs": [
    {
     "name": "stdout",
     "output_type": "stream",
     "text": [
      "['harshit', 'mohit', 'Ganesh', 3, 4, 5]\n"
     ]
    }
   ],
   "source": [
    "# editing from slicing \n",
    "l=[1,2,3,4,5]\n",
    "l[0:2]=[\"harshit\",\"mohit\",\"Ganesh\"]\n",
    "print(l)\n"
   ]
  },
  {
   "cell_type": "code",
   "execution_count": null,
   "id": "fe0614b5-695e-463c-9185-7d373101d996",
   "metadata": {},
   "outputs": [],
   "source": []
  },
  {
   "cell_type": "markdown",
   "id": "22b3491f-8d4c-419c-b3e0-ad2119395d9b",
   "metadata": {},
   "source": [
    "Deliting from a list "
   ]
  },
  {
   "cell_type": "code",
   "execution_count": 41,
   "id": "c05d29a7-95fd-4422-b26a-9904a0c7f32a",
   "metadata": {},
   "outputs": [
    {
     "name": "stdout",
     "output_type": "stream",
     "text": [
      "[1, 2, 3, 4]\n"
     ]
    }
   ],
   "source": [
    "# del \n",
    "l=[1,2,3,4,5]\n",
    "del(l[-1])\n",
    "print(l)"
   ]
  },
  {
   "cell_type": "code",
   "execution_count": 42,
   "id": "aeca3361-c368-44c6-86cb-5fe89297755f",
   "metadata": {},
   "outputs": [
    {
     "name": "stdout",
     "output_type": "stream",
     "text": [
      "[3, 4, 5]\n"
     ]
    }
   ],
   "source": [
    "l=[1,2,3,4,5]\n",
    "del(l[0:2])\n",
    "print(l)"
   ]
  },
  {
   "cell_type": "code",
   "execution_count": 43,
   "id": "086677f3-1181-4101-9924-f42790af12c8",
   "metadata": {},
   "outputs": [
    {
     "name": "stdout",
     "output_type": "stream",
     "text": [
      "[1, 2, 3, 5]\n"
     ]
    }
   ],
   "source": [
    "# remove \n",
    "# we can dly by value \n",
    "l=[1,2,3,4,5]\n",
    "l.remove(4)\n",
    "print(l)"
   ]
  },
  {
   "cell_type": "code",
   "execution_count": 48,
   "id": "bfd064cc-2b22-474e-8b74-1a733a034ec4",
   "metadata": {},
   "outputs": [
    {
     "name": "stdout",
     "output_type": "stream",
     "text": [
      "[2, 3, 4, 5]\n"
     ]
    }
   ],
   "source": [
    "# pop\n",
    "l=[1,2,3,4,5]\n",
    "l.pop(0)\n",
    "print(l)"
   ]
  },
  {
   "cell_type": "code",
   "execution_count": 49,
   "id": "40480a9b-ea2a-46c5-8aa0-4bec94b3594d",
   "metadata": {},
   "outputs": [
    {
     "name": "stdout",
     "output_type": "stream",
     "text": [
      "[1, 2, 3, 4]\n"
     ]
    }
   ],
   "source": [
    "l=[1,2,3,4,5]\n",
    "l.pop()\n",
    "# by deafayult it will dlt the last item \n",
    "print(l)"
   ]
  },
  {
   "cell_type": "code",
   "execution_count": 50,
   "id": "d7fe043b-c1c7-4afc-850b-ea248a630d46",
   "metadata": {},
   "outputs": [
    {
     "name": "stdout",
     "output_type": "stream",
     "text": [
      "[]\n"
     ]
    }
   ],
   "source": [
    "# clear   # empty list , dlt all items \n",
    "l=[1,2,3,4,5]\n",
    "l.clear()\n",
    "print(l)"
   ]
  },
  {
   "cell_type": "code",
   "execution_count": null,
   "id": "9ed07e28-2454-4d8b-a36c-7f2de3fe8a4f",
   "metadata": {},
   "outputs": [],
   "source": []
  },
  {
   "cell_type": "markdown",
   "id": "9732df48-8226-4f62-9fc9-de09747cc04f",
   "metadata": {},
   "source": [
    "## Operators in lists"
   ]
  },
  {
   "cell_type": "code",
   "execution_count": 53,
   "id": "fe17851f-94db-4b5a-9ad2-f2b9eb380eb4",
   "metadata": {},
   "outputs": [
    {
     "name": "stdout",
     "output_type": "stream",
     "text": [
      "[1, 2, 3, 4, 5, 6, 7, 8, 9, 10]\n"
     ]
    }
   ],
   "source": [
    "l1=[1,2,3,4,5]\n",
    "l2=[6,7,8,9,10]\n",
    "print(l1+l2)"
   ]
  },
  {
   "cell_type": "code",
   "execution_count": 52,
   "id": "93895cfa-cc7d-4b88-af94-f14b549dad87",
   "metadata": {},
   "outputs": [
    {
     "name": "stdout",
     "output_type": "stream",
     "text": [
      "[1, 2, 3, 4, 5, 1, 2, 3, 4, 5, 1, 2, 3, 4, 5]\n"
     ]
    }
   ],
   "source": [
    "print(l1*3)"
   ]
  },
  {
   "cell_type": "code",
   "execution_count": null,
   "id": "bc741760-541c-48e8-b030-db1c545f9c3e",
   "metadata": {},
   "outputs": [],
   "source": []
  },
  {
   "cell_type": "markdown",
   "id": "2ecd1547-3a86-4f12-a58a-3a1f20610a0d",
   "metadata": {},
   "source": [
    "## memebership operator"
   ]
  },
  {
   "cell_type": "code",
   "execution_count": 54,
   "id": "3a11e595-02b8-4241-9121-4fcbecb6ca28",
   "metadata": {},
   "outputs": [
    {
     "name": "stdout",
     "output_type": "stream",
     "text": [
      "True\n",
      "False\n"
     ]
    }
   ],
   "source": [
    "l1=[1,2,3,4,5]\n",
    "l2=[6,7,8,9,10]\n",
    "print(5 in l1)\n",
    "print(5 not in l1)"
   ]
  },
  {
   "cell_type": "code",
   "execution_count": 60,
   "id": "abd67219-460c-4438-a3f3-12fee203b771",
   "metadata": {},
   "outputs": [
    {
     "name": "stdout",
     "output_type": "stream",
     "text": [
      "False\n",
      "True\n"
     ]
    }
   ],
   "source": [
    "l1=[1,2,3,4,[5,6]]\n",
    "print(5 in l1)   # 5 in not in the list \n",
    "print([5,6] in l1)"
   ]
  },
  {
   "cell_type": "code",
   "execution_count": 61,
   "id": "2461b417-3826-45ee-ae43-3f17a1a96d37",
   "metadata": {},
   "outputs": [
    {
     "name": "stdout",
     "output_type": "stream",
     "text": [
      "1\n",
      "2\n",
      "3\n",
      "4\n",
      "5\n"
     ]
    }
   ],
   "source": [
    "l1=[1,2,3,4,5]\n",
    "l2=[6,7,8,9,10]\n",
    "\n",
    "for i in l1:\n",
    "    print(i)"
   ]
  },
  {
   "cell_type": "code",
   "execution_count": 62,
   "id": "a29fca9a-0371-401f-8a42-674a90580128",
   "metadata": {},
   "outputs": [
    {
     "name": "stdout",
     "output_type": "stream",
     "text": [
      "1\n",
      "2\n",
      "3\n",
      "4\n",
      "[5, 6]\n"
     ]
    }
   ],
   "source": [
    "l2=[1,2,3,4,[5,6]]\n",
    "\n",
    "for i in l2:\n",
    "    print(i)\n",
    "    "
   ]
  },
  {
   "cell_type": "code",
   "execution_count": 63,
   "id": "a71a0bc2-9f2c-43c1-8ec3-8ab9c2bf015b",
   "metadata": {},
   "outputs": [
    {
     "name": "stdout",
     "output_type": "stream",
     "text": [
      "[[1, 2], [3, 4]]\n",
      "[[4, 5], [5, 6]]\n"
     ]
    }
   ],
   "source": [
    "l3=[[[1,2],[3,4]],[[4,5],[5,6]]]\n",
    "\n",
    "for i in l3:\n",
    "    print(i)"
   ]
  },
  {
   "cell_type": "code",
   "execution_count": null,
   "id": "fa5a9727-a0ec-4238-98f8-d2abf739db9a",
   "metadata": {},
   "outputs": [],
   "source": []
  },
  {
   "cell_type": "markdown",
   "id": "cd656258-b28f-4c6c-922d-65d5ec3e5e27",
   "metadata": {},
   "source": [
    "## List funs()"
   ]
  },
  {
   "cell_type": "code",
   "execution_count": 70,
   "id": "18125563-8e4d-4489-b873-53d455258ffa",
   "metadata": {},
   "outputs": [
    {
     "name": "stdout",
     "output_type": "stream",
     "text": [
      "5\n",
      "1\n",
      "5\n",
      "[1, 2, 3, 4, 5]\n",
      "[5, 4, 3, 2, 1]\n",
      "[3, 6, 2, 4, 2, 3, 2, 1]\n",
      "[1, 2, 2, 2, 3, 3, 4, 6]\n",
      "2221138193664\n",
      "2221138469120\n"
     ]
    }
   ],
   "source": [
    "l1=[1,2,3,4,5]\n",
    "l2=[6,7,8,9,10]\n",
    "print(len(l1))\n",
    "print(min(l1))\n",
    "print(max(l1))\n",
    "print(sorted(l1))\n",
    "print(sorted(l1,reverse=True))\n",
    "\n",
    "l=[1,2,3,2,4,2,6,3]\n",
    "l.count(2)\n",
    "l.index(2)   # ek se jyada hai to 1st batayega \n",
    "l.reverse()  # it permanenet changes the list originally , \n",
    "print(l)\n",
    "l.sort()    # permanently change \n",
    "print(l)\n",
    "print(id(l))\n",
    "l4=l.copy()     # makes a shallow copy at diff location \n",
    "print(id(l4))\n"
   ]
  },
  {
   "cell_type": "code",
   "execution_count": null,
   "id": "fa61c173-b5a6-458b-937d-42c62a6b44d7",
   "metadata": {},
   "outputs": [],
   "source": []
  },
  {
   "cell_type": "markdown",
   "id": "bdec8a52-c237-483f-942e-b0e1e521555b",
   "metadata": {},
   "source": [
    "# List comprehention"
   ]
  },
  {
   "cell_type": "markdown",
   "id": "6cc4d4d6-be54-4659-a901-8282c7410b88",
   "metadata": {},
   "source": [
    "List comprehension provides a concise way of creating lists.\n",
    "More time-efficient and space-efficient than loops \n",
    "Transforms iterative statement into a formula \n",
    "\n",
    "formula == newlist=[expression for item in iterable if con==True]"
   ]
  },
  {
   "cell_type": "code",
   "execution_count": 71,
   "id": "b1bd944c-4ec4-40a9-9132-ab4daf20a49c",
   "metadata": {},
   "outputs": [
    {
     "name": "stdout",
     "output_type": "stream",
     "text": [
      "[1, 2, 3, 4, 5, 6, 7, 8, 9, 10]\n"
     ]
    }
   ],
   "source": [
    "# normal way \n",
    "L=[]\n",
    "for i in range(1,11):\n",
    "    L.append(i)\n",
    "\n",
    "print(L)"
   ]
  },
  {
   "cell_type": "code",
   "execution_count": 72,
   "id": "43aea73b-3052-4270-a829-61d59eecda46",
   "metadata": {},
   "outputs": [
    {
     "name": "stdout",
     "output_type": "stream",
     "text": [
      "[1, 2, 3, 4, 5, 6, 7, 8, 9, 10]\n"
     ]
    }
   ],
   "source": [
    "# lc\n",
    "L=[i for i in range(1,11)]\n",
    "print(L)"
   ]
  },
  {
   "cell_type": "code",
   "execution_count": 73,
   "id": "55b23d78-182b-41de-9786-f6f85024da55",
   "metadata": {},
   "outputs": [
    {
     "name": "stdout",
     "output_type": "stream",
     "text": [
      "[-6, -9, -12]\n"
     ]
    }
   ],
   "source": [
    "# print[2,3,4] with -3 \n",
    "# method 1\n",
    "v=[2,3,4]\n",
    "c=[]\n",
    "\n",
    "for i in v:\n",
    "    c.append(i*-3)\n",
    "\n",
    "print(c)"
   ]
  },
  {
   "cell_type": "code",
   "execution_count": 83,
   "id": "cf4c21d2-00f2-499c-af94-550001a9c8e8",
   "metadata": {},
   "outputs": [
    {
     "name": "stdout",
     "output_type": "stream",
     "text": [
      "[-6, -9, -12]\n"
     ]
    }
   ],
   "source": [
    "# lc\n",
    "v=[2,3,4]\n",
    "n=[i*-3 for i in v]\n",
    "print(n)"
   ]
  },
  {
   "cell_type": "code",
   "execution_count": 84,
   "id": "722d1c70-bfbc-4e21-8557-ac3e9bc6a985",
   "metadata": {},
   "outputs": [
    {
     "data": {
      "text/plain": [
       "[4, 9, 16, 25]"
      ]
     },
     "execution_count": 84,
     "metadata": {},
     "output_type": "execute_result"
    }
   ],
   "source": [
    "# add sqares\n",
    "l=[2,3,4,5]\n",
    "[i**2 for i in l]"
   ]
  },
  {
   "cell_type": "code",
   "execution_count": 86,
   "id": "c855c219-5429-48ba-aca4-86e3145f6418",
   "metadata": {},
   "outputs": [
    {
     "data": {
      "text/plain": [
       "[12, 24, 36, 48, 60, 72, 84, 96, 108]"
      ]
     },
     "execution_count": 86,
     "metadata": {},
     "output_type": "execute_result"
    }
   ],
   "source": [
    "# print all no divisible by 12 bw 1 to 120   # bht shi hai \n",
    "[i for i in range(1,120) if i%12==0]"
   ]
  },
  {
   "cell_type": "code",
   "execution_count": 88,
   "id": "2873be81-c688-4a8f-a8a1-0336a013f5f7",
   "metadata": {},
   "outputs": [
    {
     "data": {
      "text/plain": [
       "['mohan', 'mohit', 'mahesh']"
      ]
     },
     "execution_count": 88,
     "metadata": {},
     "output_type": "execute_result"
    }
   ],
   "source": [
    "# find words that are stating with m in given list \n",
    "l=['mohan', 'mohit' , 'harshit' , 'ganesh', 'mahesh']\n",
    "\n",
    "[i for i in l if i.startswith('m')]"
   ]
  },
  {
   "cell_type": "code",
   "execution_count": null,
   "id": "b18741e4-23fb-4c27-8559-02c4d2de0cbe",
   "metadata": {},
   "outputs": [],
   "source": []
  },
  {
   "cell_type": "markdown",
   "id": "3e6ebd5b-3bd1-4f4b-a774-0a4b2bda92cb",
   "metadata": {},
   "source": [
    "Nested if with list comprehension "
   ]
  },
  {
   "cell_type": "code",
   "execution_count": 89,
   "id": "2bfc079b-3cb4-459d-8f1a-349306020293",
   "metadata": {},
   "outputs": [
    {
     "data": {
      "text/plain": [
       "['pine']"
      ]
     },
     "execution_count": 89,
     "metadata": {},
     "output_type": "execute_result"
    }
   ],
   "source": [
    "basket=[\"apple\",\"banana\",\"papaya\",\"pine\",\"guava\"]\n",
    "new_basket=[\"litchi\",\"watermelon\",\"apple\",\"pine\"]\n",
    "\n",
    "# create is new list in which fruits common in both will be added and fruit starts with p in basket will be added .\n",
    "[i for i in basket if i in new_basket if i.startswith('p')]"
   ]
  },
  {
   "cell_type": "code",
   "execution_count": 90,
   "id": "07cf3245-92ac-4c86-945e-2809af5e2aee",
   "metadata": {},
   "outputs": [
    {
     "data": {
      "text/plain": [
       "[[1, 2, 3], [2, 4, 6], [3, 6, 9]]"
      ]
     },
     "execution_count": 90,
     "metadata": {},
     "output_type": "execute_result"
    }
   ],
   "source": [
    "# printa(3*3) matrix using list comprehension-> Nested list comprehension\n",
    "[[i*j for i in range(1,4)] for j in range(1,4)]"
   ]
  },
  {
   "cell_type": "code",
   "execution_count": 92,
   "id": "b607551a-1358-4879-8dd3-95e41fdebe08",
   "metadata": {},
   "outputs": [
    {
     "data": {
      "text/plain": [
       "[6,\n",
       " 7,\n",
       " 8,\n",
       " 9,\n",
       " 10,\n",
       " 12,\n",
       " 14,\n",
       " 16,\n",
       " 18,\n",
       " 20,\n",
       " 18,\n",
       " 21,\n",
       " 24,\n",
       " 27,\n",
       " 30,\n",
       " 24,\n",
       " 28,\n",
       " 32,\n",
       " 36,\n",
       " 40,\n",
       " 30,\n",
       " 35,\n",
       " 40,\n",
       " 45,\n",
       " 50]"
      ]
     },
     "execution_count": 92,
     "metadata": {},
     "output_type": "execute_result"
    }
   ],
   "source": [
    "# cartesian products--> list comprehension on 2 lists together \n",
    "l1=[1,2,3,4,5]\n",
    "l2=[6,7,8,9,10]\n",
    "[i*j for i in l1 for j in l2]"
   ]
  },
  {
   "cell_type": "code",
   "execution_count": null,
   "id": "513cc1f2-220b-4e43-974a-34bb44117c71",
   "metadata": {},
   "outputs": [],
   "source": []
  },
  {
   "cell_type": "markdown",
   "id": "8ec94ddb-04cf-4a2b-a66b-9d0ee38e70f8",
   "metadata": {},
   "source": [
    "## 2 ways to traverse a list "
   ]
  },
  {
   "cell_type": "markdown",
   "id": "b3d45ddb-0a21-4d8f-845a-9c3e5f1118d9",
   "metadata": {},
   "source": [
    "1. itemwise\n",
    "2. indexwise"
   ]
  },
  {
   "cell_type": "code",
   "execution_count": 93,
   "id": "caf74268-e41b-4f7e-b47c-7b4ec25bb5fb",
   "metadata": {},
   "outputs": [
    {
     "name": "stdout",
     "output_type": "stream",
     "text": [
      "1\n",
      "2\n",
      "3\n",
      "4\n",
      "5\n"
     ]
    }
   ],
   "source": [
    "# itemwise\n",
    "L=[1,2,3,4,5]\n",
    "for i in L:\n",
    "    print(i)"
   ]
  },
  {
   "cell_type": "code",
   "execution_count": 101,
   "id": "a2bc4307-63f1-47b2-861f-40d4242084c3",
   "metadata": {},
   "outputs": [
    {
     "name": "stdout",
     "output_type": "stream",
     "text": [
      "0\n",
      "1\n",
      "1\n",
      "2\n",
      "2\n",
      "3\n",
      "3\n",
      "4\n",
      "4\n",
      "5\n"
     ]
    }
   ],
   "source": [
    "# indexwise\n",
    "L=[1,2,3,4,5]\n",
    "\n",
    "for i in range(0,len(L)):   # printed 0,1,2,3 atr not items those are indec positions \n",
    "    print(i)\n",
    "    print(L[i])   # this will print items "
   ]
  },
  {
   "cell_type": "markdown",
   "id": "4b990dbe-3820-4410-93a8-15aa9ad22189",
   "metadata": {},
   "source": [
    "# zip"
   ]
  },
  {
   "cell_type": "markdown",
   "id": "d297db6c-ff05-4b62-9c54-5bdc157ad56d",
   "metadata": {},
   "source": [
    "The zip fun() returns are zip object , which is an iterator of tuples whwre the first item in each passes iterator is paired together and the the second item in ach passed iterator are paired togeteher .\n",
    "\n",
    "If the passes iterator have diff lengths , the iterator with the least decides the length of the new iterator ."
   ]
  },
  {
   "cell_type": "markdown",
   "id": "bd2101eb-c823-4959-b644-2333ef305721",
   "metadata": {},
   "source": [
    "for example \n",
    "l1=[1,2,3,4,5]\n",
    "l2=[6,7,8,9,10]\n",
    "zip() inn  dono ke index 0 ko ek tuple mein daal dega , index 1 ko agla touple mein and wosie hi sab ko"
   ]
  },
  {
   "cell_type": "code",
   "execution_count": 102,
   "id": "1ad0d1f7-3814-49e0-89ac-6d0cb99ff5fc",
   "metadata": {},
   "outputs": [
    {
     "data": {
      "text/plain": [
       "[(1, 6), (2, 7), (3, 8), (4, 9), (5, 10)]"
      ]
     },
     "execution_count": 102,
     "metadata": {},
     "output_type": "execute_result"
    }
   ],
   "source": [
    "l1=[1,2,3,4,5]\n",
    "l2=[6,7,8,9,10]\n",
    "list(zip(l1,l2))"
   ]
  },
  {
   "cell_type": "code",
   "execution_count": 103,
   "id": "d0174293-476f-4542-bedd-885c893eb2c4",
   "metadata": {},
   "outputs": [
    {
     "data": {
      "text/plain": [
       "[7, 9, 11, 13, 15]"
      ]
     },
     "execution_count": 103,
     "metadata": {},
     "output_type": "execute_result"
    }
   ],
   "source": [
    "# write a program to add items of 2 lists index wise \n",
    "l1=[1,2,3,4,5]\n",
    "l2=[6,7,8,9,10]\n",
    "\n",
    "list(zip(l1,l2))\n",
    "[i+j for i,j in zip(l1,l2)]                 # IMPORTANT"
   ]
  },
  {
   "cell_type": "code",
   "execution_count": null,
   "id": "b8114350-9af4-4696-a64f-0f2f769c5126",
   "metadata": {},
   "outputs": [],
   "source": []
  },
  {
   "cell_type": "code",
   "execution_count": 104,
   "id": "49327bda-69c7-402a-9ce8-ae5de5a442e1",
   "metadata": {},
   "outputs": [
    {
     "name": "stdout",
     "output_type": "stream",
     "text": [
      "[1, 2, 3, <class 'type'>, <bound method Kernel.raw_input of <ipykernel.ipkernel.IPythonKernel object at 0x0000020525483FD0>>, <built-in function print>, 'harshit']\n"
     ]
    }
   ],
   "source": [
    "# WE CAN STORE ANYTHING IN A LIST \n",
    "l =[1,2,3,type,input,print,\"harshit\"]\n",
    "print(l)"
   ]
  },
  {
   "cell_type": "code",
   "execution_count": null,
   "id": "f68e3b8f-2eca-4f6b-918c-19e52864e4d3",
   "metadata": {},
   "outputs": [],
   "source": []
  },
  {
   "cell_type": "markdown",
   "id": "a45e39c7-d46d-4fb4-970d-5acc8822deb3",
   "metadata": {},
   "source": [
    "Disadvanyatges of lists in python\n",
    "1. slow\n",
    "2. risky uses\n",
    "3. eats up more storage "
   ]
  },
  {
   "cell_type": "code",
   "execution_count": null,
   "id": "0dbab75a-9250-478c-aee2-1ee057de5777",
   "metadata": {},
   "outputs": [],
   "source": []
  },
  {
   "cell_type": "markdown",
   "id": "6f6b52ce-f1ee-41f3-92d8-18162c8c0891",
   "metadata": {},
   "source": [
    "Practice ques\n"
   ]
  },
  {
   "cell_type": "code",
   "execution_count": 111,
   "id": "6afac2e0-4f31-4483-a287-b284584f5503",
   "metadata": {},
   "outputs": [
    {
     "name": "stdout",
     "output_type": "stream",
     "text": [
      "[6, 12, 18, 24, 30] [1, 3, 5, 7, 9]\n"
     ]
    }
   ],
   "source": [
    "L=[1,2,3,4,5,6,7,8,9,10]\n",
    "n=[i*3 for i in L if i%2==0]\n",
    "m=[j for j in L if j%2!=0]\n",
    "print(n,m)"
   ]
  },
  {
   "cell_type": "code",
   "execution_count": 119,
   "id": "ee1310dd-8c8d-400e-9733-07a7470cecb7",
   "metadata": {},
   "outputs": [
    {
     "name": "stdin",
     "output_type": "stream",
     "text": [
      " 12345\n"
     ]
    },
    {
     "name": "stdout",
     "output_type": "stream",
     "text": [
      "['1', '2', '3', '4', '5']\n"
     ]
    }
   ],
   "source": [
    "#i=input()\n",
    "#print(list(input()))\n",
    "#list(input())\n",
    "#n=int(input(\"hello \"))\n",
    "m=list(input())\n",
    "print(m)\n"
   ]
  },
  {
   "cell_type": "code",
   "execution_count": null,
   "id": "e1a8237c-aade-4025-870c-c0b38dc84ed1",
   "metadata": {},
   "outputs": [],
   "source": []
  },
  {
   "cell_type": "code",
   "execution_count": 126,
   "id": "23498aa1-213f-4c31-9861-9162f394c666",
   "metadata": {},
   "outputs": [
    {
     "name": "stdin",
     "output_type": "stream",
     "text": [
      "enter the items 123456\n"
     ]
    },
    {
     "data": {
      "text/plain": [
       "[None, None, None, None, None, None]"
      ]
     },
     "execution_count": 126,
     "metadata": {},
     "output_type": "execute_result"
    }
   ],
   "source": [
    "l=[]\n",
    "n=input(\"enter the items\")\n",
    "\n",
    "[l.append(i) for i in n]\n"
   ]
  },
  {
   "cell_type": "code",
   "execution_count": 120,
   "id": "c8fe1f0f-9b22-4b55-b9d9-364f047c9284",
   "metadata": {},
   "outputs": [
    {
     "name": "stdin",
     "output_type": "stream",
     "text": [
      "enter -  1\n"
     ]
    },
    {
     "name": "stdout",
     "output_type": "stream",
     "text": [
      "['1']\n"
     ]
    }
   ],
   "source": [
    "m=[]\n",
    "i=input(\"enter - \")\n",
    "m.append(i)\n",
    "print(m)"
   ]
  },
  {
   "cell_type": "code",
   "execution_count": 3,
   "id": "7c9d8154-3a85-45b6-b220-f85397795538",
   "metadata": {},
   "outputs": [
    {
     "ename": "NameError",
     "evalue": "name 'j' is not defined",
     "output_type": "error",
     "traceback": [
      "\u001b[1;31m---------------------------------------------------------------------------\u001b[0m",
      "\u001b[1;31mNameError\u001b[0m                                 Traceback (most recent call last)",
      "Cell \u001b[1;32mIn[3], line 3\u001b[0m\n\u001b[0;32m      1\u001b[0m l1\u001b[38;5;241m=\u001b[39m[\u001b[38;5;241m1\u001b[39m,\u001b[38;5;241m2\u001b[39m,\u001b[38;5;241m3\u001b[39m,\u001b[38;5;241m4\u001b[39m,\u001b[38;5;241m5\u001b[39m]\n\u001b[0;32m      2\u001b[0m l2\u001b[38;5;241m=\u001b[39m[\u001b[38;5;241m6\u001b[39m,\u001b[38;5;241m7\u001b[39m,\u001b[38;5;241m8\u001b[39m,\u001b[38;5;241m9\u001b[39m,\u001b[38;5;241m10\u001b[39m]\n\u001b[1;32m----> 3\u001b[0m [i\u001b[38;5;241m+\u001b[39mj \u001b[38;5;28;01mfor\u001b[39;00m i \u001b[38;5;129;01min\u001b[39;00m l1 \u001b[38;5;241m&\u001b[39m j \u001b[38;5;28;01mfor\u001b[39;00m j \u001b[38;5;129;01min\u001b[39;00m l2]\n",
      "\u001b[1;31mNameError\u001b[0m: name 'j' is not defined"
     ]
    }
   ],
   "source": [
    "l1=[1,2,3,4,5]\n",
    "l2=[6,7,8,9,10]\n",
    "[(i+j) for i in]"
   ]
  },
  {
   "cell_type": "code",
   "execution_count": null,
   "id": "24df9abc-8c0c-475c-b678-7cd62dbd6115",
   "metadata": {},
   "outputs": [],
   "source": []
  },
  {
   "cell_type": "code",
   "execution_count": 140,
   "id": "0f11f9ee-c55a-45a9-bc9c-b4982b2e9c2c",
   "metadata": {},
   "outputs": [
    {
     "name": "stdout",
     "output_type": "stream",
     "text": [
      "[1, 2, 3, 4, 5, 300]\n",
      "[1, 2, 3, 4, 200, 5]\n"
     ]
    }
   ],
   "source": [
    "L=[1,2,3,4,5,6]\n",
    "L[-1]=300\n",
    "print(L)\n",
    "\n",
    "\n",
    "\n",
    "\n",
    "#del(L[-1])\n",
    "#L.insert(-1,200)\n",
    "\n",
    "print(L)"
   ]
  },
  {
   "cell_type": "code",
   "execution_count": 21,
   "id": "c427fb3e-0965-49c4-b8a5-011d896a5712",
   "metadata": {},
   "outputs": [
    {
     "name": "stdout",
     "output_type": "stream",
     "text": [
      "[1, 2, 3, 4]\n"
     ]
    }
   ],
   "source": [
    "# writye and a priogram to converty 22D list into 1D\n",
    "lst=[1,2,[3,4]]\n",
    "m=[]\n",
    "\n",
    "for j in lst[0:2]:\n",
    "    m.append(j)\n",
    "for i in lst[2]:\n",
    "        m.append(i)\n",
    "    \n",
    "print(m)"
   ]
  },
  {
   "cell_type": "code",
   "execution_count": null,
   "id": "932e9bee-3cc2-4a8b-bd39-c17d9681a79b",
   "metadata": {},
   "outputs": [],
   "source": []
  },
  {
   "cell_type": "code",
   "execution_count": 18,
   "id": "4aa49ee2-28fc-44b6-af38-6ab2a708cc76",
   "metadata": {},
   "outputs": [
    {
     "name": "stdout",
     "output_type": "stream",
     "text": [
      "[1, 2]\n"
     ]
    }
   ],
   "source": [
    "l=[1,2,[3,4]]\n",
    "n=len(l)\n",
    "\n",
    "for i in range(0,n):\n",
    "    for j in range(i):\n",
    "        if j!=0:\n",
    "            del l[i]\n",
    "\n",
    "print(l)"
   ]
  },
  {
   "cell_type": "code",
   "execution_count": null,
   "id": "3524ab95-d887-4981-a2c1-1fc3c7714d46",
   "metadata": {},
   "outputs": [],
   "source": []
  },
  {
   "cell_type": "code",
   "execution_count": 42,
   "id": "b48ab655-ed4a-414d-81fd-72d85778c55f",
   "metadata": {},
   "outputs": [
    {
     "name": "stdout",
     "output_type": "stream",
     "text": [
      "('appke', 'wdedqw', 'cfewr')\n"
     ]
    }
   ],
   "source": [
    "f=('appke','wdedqw')\n",
    "f=f+('cfewr',)\n",
    "print(f)\n"
   ]
  },
  {
   "cell_type": "code",
   "execution_count": 46,
   "id": "946e4071-0cbf-4cd5-b00e-86e0e384e40f",
   "metadata": {},
   "outputs": [
    {
     "name": "stdout",
     "output_type": "stream",
     "text": [
      "['appke', 'wdedqw'] ewdq\n"
     ]
    }
   ],
   "source": [
    "f=('appke','wdedqw','ewdq')\n",
    "*a,b=f\n",
    "print(a,b)"
   ]
  },
  {
   "cell_type": "code",
   "execution_count": 60,
   "id": "252401e8-c20f-4ec3-8bee-9df4646be60f",
   "metadata": {},
   "outputs": [
    {
     "name": "stdout",
     "output_type": "stream",
     "text": [
      "{1, 2, 3, 4, 5}\n",
      "[1, 2, 3, 4, 5]\n"
     ]
    }
   ],
   "source": [
    "# write a program to remove duplicate items from a list.\n",
    "L=[1,2,1,2,3,4,5,3,4]\n",
    "m=set(L)\n",
    "print(m)\n",
    "l=list(m)\n",
    "print(l)       "
   ]
  },
  {
   "cell_type": "code",
   "execution_count": 65,
   "id": "eb34b3de-8a06-4694-8cc6-34e24a9bd8a6",
   "metadata": {},
   "outputs": [
    {
     "data": {
      "text/plain": [
       "[]"
      ]
     },
     "execution_count": 65,
     "metadata": {},
     "output_type": "execute_result"
    }
   ],
   "source": [
    "L=[1,2,3,4,1,2,4]\n",
    "j=set(L)\n",
    "\n",
    "[i for i in L if i not in L]"
   ]
  },
  {
   "cell_type": "code",
   "execution_count": 82,
   "id": "b1810124-0e59-46b4-be22-3d8e118ddea3",
   "metadata": {},
   "outputs": [
    {
     "name": "stdout",
     "output_type": "stream",
     "text": [
      "1\n",
      "1\n",
      "1\n",
      "1\n",
      "1\n",
      "1\n",
      "2\n",
      "2\n",
      "2\n",
      "2\n",
      "2\n",
      "2\n",
      "3\n",
      "3\n",
      "3\n",
      "3\n",
      "3\n",
      "3\n",
      "4\n",
      "4\n",
      "4\n",
      "4\n",
      "4\n",
      "4\n",
      "5\n",
      "5\n",
      "5\n",
      "5\n",
      "5\n",
      "5\n",
      "1\n",
      "1\n",
      "1\n",
      "1\n",
      "1\n",
      "1\n",
      "2\n",
      "2\n",
      "2\n",
      "2\n",
      "2\n",
      "2\n",
      "34\n",
      "34\n",
      "34\n",
      "34\n",
      "34\n",
      "34\n"
     ]
    }
   ],
   "source": [
    "l=[1,2,3,4,5,1,2,34,]\n",
    "\n",
    "for i in l:\n",
    "    for j in range(2,len(l)):\n",
    "        \n",
    "        if i!=j*i:\n",
    "            print(i)"
   ]
  },
  {
   "cell_type": "code",
   "execution_count": null,
   "id": "736886f0-56f6-4fb5-a72d-8e4336901020",
   "metadata": {},
   "outputs": [],
   "source": []
  },
  {
   "cell_type": "code",
   "execution_count": null,
   "id": "aa581f5b-7806-4690-8d76-61e84c3f4e8e",
   "metadata": {},
   "outputs": [],
   "source": []
  },
  {
   "cell_type": "code",
   "execution_count": null,
   "id": "976dfbab-7071-4b54-8f8c-31160013c9e7",
   "metadata": {},
   "outputs": [],
   "source": []
  },
  {
   "cell_type": "code",
   "execution_count": null,
   "id": "ac8d5df2-0f2c-49bb-8ec7-ac062edad330",
   "metadata": {},
   "outputs": [],
   "source": []
  },
  {
   "cell_type": "markdown",
   "id": "c131709e-2559-4bc9-b8db-fec6b80f98e8",
   "metadata": {},
   "source": [
    "# Tuples , Sets , Dictionary "
   ]
  },
  {
   "cell_type": "markdown",
   "id": "a5b9176d-a593-4733-a04d-bafde79c08bb",
   "metadata": {},
   "source": [
    "Tuples \n",
    "Tuples are immutable , we can not change elemnts in a tuple , ones it is assined whereas we can change items in a list.\n",
    "Charaacterstics\n",
    "1. Ordered\n",
    "2. Unchangable\n",
    "3. Allows duplicate "
   ]
  },
  {
   "cell_type": "markdown",
   "id": "e9c6f8ff-a847-409b-98b6-b89ae5c87fd4",
   "metadata": {},
   "source": [
    "Creating a tuple"
   ]
  },
  {
   "cell_type": "code",
   "execution_count": 105,
   "id": "da828ae6-a4cb-45c0-8323-2fc508fa74bb",
   "metadata": {},
   "outputs": [
    {
     "name": "stdout",
     "output_type": "stream",
     "text": [
      "()\n"
     ]
    }
   ],
   "source": [
    "t1=()\n",
    "print(t1)"
   ]
  },
  {
   "cell_type": "code",
   "execution_count": 106,
   "id": "94a2f9a1-ce73-4107-9eef-4909c7ddd139",
   "metadata": {},
   "outputs": [
    {
     "name": "stdout",
     "output_type": "stream",
     "text": [
      "('hello',)\n"
     ]
    }
   ],
   "source": [
    "# crating a single item tuple\n",
    "t1=(\"hello\",)\n",
    "print(t)"
   ]
  },
  {
   "cell_type": "code",
   "execution_count": null,
   "id": "2019b591-0f7a-4921-86d0-d200dab2734a",
   "metadata": {},
   "outputs": [],
   "source": []
  },
  {
   "cell_type": "code",
   "execution_count": null,
   "id": "d7f1f872-03ea-443c-aa71-81703006dfaf",
   "metadata": {},
   "outputs": [],
   "source": []
  },
  {
   "cell_type": "code",
   "execution_count": null,
   "id": "c093d7cb-a7fb-4e8d-903a-44cf2bf62be1",
   "metadata": {},
   "outputs": [],
   "source": []
  },
  {
   "cell_type": "code",
   "execution_count": null,
   "id": "60cd098d-3a39-4a18-8722-42cb9225a8c6",
   "metadata": {},
   "outputs": [],
   "source": []
  },
  {
   "cell_type": "markdown",
   "id": "6a47bd36-f6d5-47e8-b4ca-a28a46e0190b",
   "metadata": {},
   "source": [
    "# SETS"
   ]
  },
  {
   "cell_type": "code",
   "execution_count": null,
   "id": "9620e5d8-62a3-4063-aa6d-779db36fe49b",
   "metadata": {},
   "outputs": [],
   "source": []
  },
  {
   "cell_type": "code",
   "execution_count": null,
   "id": "3d044c02-aa0e-4bfb-b136-2833c0a845e3",
   "metadata": {},
   "outputs": [],
   "source": []
  },
  {
   "cell_type": "code",
   "execution_count": null,
   "id": "a4dc98f0-8a24-4750-a253-d471e23009e1",
   "metadata": {},
   "outputs": [],
   "source": []
  },
  {
   "cell_type": "code",
   "execution_count": null,
   "id": "c42f5a89-eaf0-4b19-942f-7d6b46ba1a65",
   "metadata": {},
   "outputs": [],
   "source": []
  },
  {
   "cell_type": "code",
   "execution_count": null,
   "id": "86c18ff9-e967-4979-9180-96bb8aab1a6b",
   "metadata": {},
   "outputs": [],
   "source": []
  },
  {
   "cell_type": "markdown",
   "id": "ccb5bb36-9a9c-44bb-8c5e-9ea944eb5199",
   "metadata": {},
   "source": [
    "# Dictionary"
   ]
  },
  {
   "cell_type": "markdown",
   "id": "26c0049f-337e-4b2c-84b7-43e5f0f28aa0",
   "metadata": {},
   "source": [
    "Unordered\n",
    "Dictionary mein keys aue values hote hain \n",
    "Dictionary mein keys umnutable hi bna sakte \n",
    "like string ya tuple kop hi key bna ke usme values store kar sakte . "
   ]
  },
  {
   "cell_type": "code",
   "execution_count": 86,
   "id": "652796bf-5edb-4ea2-a432-d0031f61744a",
   "metadata": {},
   "outputs": [
    {
     "data": {
      "text/plain": [
       "{1: 1, 'name': 'ramesh ', 4: 5}"
      ]
     },
     "execution_count": 86,
     "metadata": {},
     "output_type": "execute_result"
    }
   ],
   "source": [
    "# empty dictionary\n",
    "d={}\n",
    "d1={'name':'harshit','gender':'male'}  # 1D dictionary\n",
    "# 2D dictionary -->JSON\n",
    "s={\n",
    "    'name':'harshit',\n",
    "    'clg':'iiser',\n",
    "    'sem':5,\n",
    "    'sub':{\n",
    "        'bio':40,\n",
    "        'che':78,\n",
    "        'maths':90\n",
    "    }\n",
    "}\n",
    "s\n",
    "d4= dict([(1,1),(\"name\",\"ramesh \"),(4,5)])\n",
    "d4\n",
    "\n",
    "d5={\"name\":\"harshit\",\"name\":\"hehehee\"}  # sirf last wala vales lenmge "
   ]
  },
  {
   "cell_type": "code",
   "execution_count": null,
   "id": "ff47016d-ae39-4914-b831-ecffd5daf919",
   "metadata": {},
   "outputs": [],
   "source": []
  },
  {
   "cell_type": "markdown",
   "id": "b0517ccd-637f-48d7-8eaf-da27e34f652b",
   "metadata": {},
   "source": [
    "Acessing items "
   ]
  },
  {
   "cell_type": "code",
   "execution_count": 92,
   "id": "52e466ec-e1a8-4a6f-8fa7-367269a07438",
   "metadata": {},
   "outputs": [
    {
     "name": "stdout",
     "output_type": "stream",
     "text": [
      "20\n",
      "20\n"
     ]
    }
   ],
   "source": [
    "dic={'name':'harshit','age':20,'sub':'data'}\n",
    "print(dic['age'])\n",
    "print(dic.get('age'))"
   ]
  },
  {
   "cell_type": "code",
   "execution_count": 100,
   "id": "8532b551-683f-438f-a474-f44b99d0e72c",
   "metadata": {},
   "outputs": [
    {
     "data": {
      "text/plain": [
       "78"
      ]
     },
     "execution_count": 100,
     "metadata": {},
     "output_type": "execute_result"
    }
   ],
   "source": [
    "# from 2D\n",
    "s={\n",
    "    'name':'harshit',\n",
    "    'clg':'iiser',\n",
    "    'sem':5,\n",
    "    'sub':{\n",
    "        'bio':40,\n",
    "        'che':78,\n",
    "        'maths':90\n",
    "    }\n",
    "}\n",
    "# if we want to fetch marks of che \n",
    "s['sub']['che']"
   ]
  },
  {
   "cell_type": "markdown",
   "id": "66e70483-bafd-4481-af17-111499d13078",
   "metadata": {},
   "source": [
    "Adding a new pair"
   ]
  },
  {
   "cell_type": "code",
   "execution_count": 94,
   "id": "4899e343-5d7a-4e07-a408-cbc148d06f7f",
   "metadata": {},
   "outputs": [
    {
     "data": {
      "text/plain": [
       "{'name': 'harshit', 'age': 20, 'sub': 'data', 'gender': 'male'}"
      ]
     },
     "execution_count": 94,
     "metadata": {},
     "output_type": "execute_result"
    }
   ],
   "source": [
    "dic['gender']='male'\n",
    "dic"
   ]
  },
  {
   "cell_type": "code",
   "execution_count": 101,
   "id": "17d74526-b312-4602-a83c-1df0c92bcdd4",
   "metadata": {},
   "outputs": [
    {
     "data": {
      "text/plain": [
       "{'name': 'harshit',\n",
       " 'clg': 'iiser',\n",
       " 'sem': 5,\n",
       " 'sub': {'bio': 40, 'che': 78, 'maths': 90, 'ds': 75}}"
      ]
     },
     "execution_count": 101,
     "metadata": {},
     "output_type": "execute_result"
    }
   ],
   "source": [
    "# if we want to add new sub\n",
    "s['sub']['ds']=75\n",
    "s"
   ]
  },
  {
   "cell_type": "markdown",
   "id": "1deed52a-a3dd-4513-9535-14a3f4e82cd9",
   "metadata": {},
   "source": [
    "Remove a kay pair "
   ]
  },
  {
   "cell_type": "code",
   "execution_count": 102,
   "id": "aac0e9b1-cac6-4d29-a3cc-13533d50a6c2",
   "metadata": {},
   "outputs": [
    {
     "data": {
      "text/plain": [
       "{'name': 'harshit',\n",
       " 'clg': 'iiser',\n",
       " 'sem': 5,\n",
       " 'sub': {'bio': 40, 'che': 78, 'ds': 75}}"
      ]
     },
     "execution_count": 102,
     "metadata": {},
     "output_type": "execute_result"
    }
   ],
   "source": [
    "d={'name': 'harshit', 'age': 20, 'sub': 'data', 'gender': 'male'}\n",
    "d.pop('age')\n",
    "d\n",
    "d.popitem()   # last wale ko dlt kar deta hai \n",
    "d\n",
    "del d['name']\n",
    "d\n",
    "d.clear()\n",
    "d\n",
    "# dl maths sub\n",
    "del s['sub']['maths']\n",
    "s"
   ]
  },
  {
   "cell_type": "markdown",
   "id": "86d66d76-6491-4e79-aa24-555ab283b494",
   "metadata": {},
   "source": [
    "Editing a key value\n"
   ]
  },
  {
   "cell_type": "code",
   "execution_count": 103,
   "id": "3602ed87-ed23-425e-9af6-3a05f3d263bc",
   "metadata": {},
   "outputs": [
    {
     "data": {
      "text/plain": [
       "{'name': 'harshit',\n",
       " 'clg': 'iiser',\n",
       " 'sem': 56,\n",
       " 'sub': {'bio': 40, 'che': 78, 'ds': 75}}"
      ]
     },
     "execution_count": 103,
     "metadata": {},
     "output_type": "execute_result"
    }
   ],
   "source": [
    "s['sem']=56\n",
    "s"
   ]
  },
  {
   "cell_type": "code",
   "execution_count": 104,
   "id": "3b224015-d453-41f9-b6bd-b65b5dfdbf6b",
   "metadata": {},
   "outputs": [
    {
     "data": {
      "text/plain": [
       "{'name': 'harshit',\n",
       " 'clg': 'iiser',\n",
       " 'sem': 56,\n",
       " 'sub': {'bio': 40, 'che': 78, 'ds': 75, 'maths': 37}}"
      ]
     },
     "execution_count": 104,
     "metadata": {},
     "output_type": "execute_result"
    }
   ],
   "source": [
    "s['sub']['maths']=37\n",
    "s"
   ]
  },
  {
   "cell_type": "code",
   "execution_count": null,
   "id": "441e2577-acab-439f-9485-fddc9400a575",
   "metadata": {},
   "outputs": [],
   "source": []
  },
  {
   "cell_type": "markdown",
   "id": "fedb68fa-67c9-45e7-8bd0-0dda8b871dd2",
   "metadata": {},
   "source": [
    "dectionary operations"
   ]
  },
  {
   "cell_type": "code",
   "execution_count": 107,
   "id": "e779273e-407d-4c56-91b7-de1229ca46ca",
   "metadata": {},
   "outputs": [
    {
     "name": "stdout",
     "output_type": "stream",
     "text": [
      "{'name': 'harshit', 'clg': 'iiser', 'sem': 56, 'sub': {'bio': 40, 'che': 78, 'ds': 75, 'maths': 37}}\n"
     ]
    },
    {
     "data": {
      "text/plain": [
       "True"
      ]
     },
     "execution_count": 107,
     "metadata": {},
     "output_type": "execute_result"
    }
   ],
   "source": [
    "print(s)\n",
    "'harshit' in s  # bc harshit is not a key \n",
    "'age' in s\n",
    "'sem' in s"
   ]
  },
  {
   "cell_type": "code",
   "execution_count": 109,
   "id": "35c2a9c2-4daf-4868-b6a8-fd329cff07a9",
   "metadata": {},
   "outputs": [
    {
     "name": "stdout",
     "output_type": "stream",
     "text": [
      "name harshit\n",
      "clg iiser\n",
      "sem 56\n"
     ]
    }
   ],
   "source": [
    "d={'name': 'harshit', 'clg': 'iiser', 'sem': 56}\n",
    "\n",
    "for i in d:\n",
    "    print(i,d[i])"
   ]
  },
  {
   "cell_type": "code",
   "execution_count": null,
   "id": "d353412d-fd00-4fc3-8f34-8df5ce21e214",
   "metadata": {},
   "outputs": [],
   "source": []
  },
  {
   "cell_type": "markdown",
   "id": "078722d4-c092-4398-b894-8cff313b783b",
   "metadata": {},
   "source": [
    "Dictionary Functions "
   ]
  },
  {
   "cell_type": "code",
   "execution_count": 110,
   "id": "46a4f1b7-95d8-420a-90aa-b85044034dc3",
   "metadata": {},
   "outputs": [
    {
     "data": {
      "text/plain": [
       "3"
      ]
     },
     "execution_count": 110,
     "metadata": {},
     "output_type": "execute_result"
    }
   ],
   "source": [
    "len(d)"
   ]
  },
  {
   "cell_type": "code",
   "execution_count": 112,
   "id": "44bc3e12-e7ef-4ad0-b6df-0057d7e8877f",
   "metadata": {},
   "outputs": [
    {
     "data": {
      "text/plain": [
       "['sem', 'name', 'clg']"
      ]
     },
     "execution_count": 112,
     "metadata": {},
     "output_type": "execute_result"
    }
   ],
   "source": [
    "sorted(d)   # sorted ka output hamesha list hoga \n",
    "# agar reverse karna ho toh \n",
    "sorted(d,reverse=True)"
   ]
  },
  {
   "cell_type": "code",
   "execution_count": 113,
   "id": "69f789ad-b731-4498-8242-e406cbf019ba",
   "metadata": {},
   "outputs": [
    {
     "data": {
      "text/plain": [
       "'clg'"
      ]
     },
     "execution_count": 113,
     "metadata": {},
     "output_type": "execute_result"
    }
   ],
   "source": [
    "min(d)  # on basis of asci \n",
    "max(d)"
   ]
  },
  {
   "cell_type": "code",
   "execution_count": 115,
   "id": "87b9630d-e328-40d6-91e4-4f1e60d2efac",
   "metadata": {},
   "outputs": [
    {
     "name": "stdout",
     "output_type": "stream",
     "text": [
      "dict_items([('name', 'harshit'), ('clg', 'iiser'), ('sem', 56)])\n",
      "dict_keys(['name', 'clg', 'sem'])\n",
      "dict_values(['harshit', 'iiser', 56])\n"
     ]
    }
   ],
   "source": [
    "# items \n",
    "print(d.items())  # output in form of tuples\n",
    "print(d.keys())\n",
    "print(d.values())"
   ]
  },
  {
   "cell_type": "code",
   "execution_count": 116,
   "id": "5b15b51f-97de-42f2-96bb-44824e897017",
   "metadata": {},
   "outputs": [
    {
     "name": "stdout",
     "output_type": "stream",
     "text": [
      "{'asad': 'trbg', 'br': 'hehe', 5: 4, 9: 3}\n"
     ]
    }
   ],
   "source": [
    "# update \n",
    "d1={'asad':'trbg','br':'sa',5:4}\n",
    "d2={'br':\"hehe\",9:3}\n",
    "d1.update(d2)\n",
    "print(d1)"
   ]
  },
  {
   "cell_type": "code",
   "execution_count": null,
   "id": "2d68dd6d-4363-4aa2-8b7c-7617ba7e8b43",
   "metadata": {},
   "outputs": [],
   "source": []
  },
  {
   "cell_type": "markdown",
   "id": "dea92820-3d1d-43a7-9740-eacf07ecc355",
   "metadata": {},
   "source": [
    "## Dictionary Comprehension"
   ]
  },
  {
   "cell_type": "markdown",
   "id": "4b4a75bb-1ac1-4427-ab9f-1571a712cec9",
   "metadata": {},
   "source": [
    "{key:value for vars in iterable}\n"
   ]
  },
  {
   "cell_type": "code",
   "execution_count": 120,
   "id": "84080a36-fbe6-4304-a6ed-053373cb3ff3",
   "metadata": {},
   "outputs": [
    {
     "data": {
      "text/plain": [
       "{1: 1, 2: 4, 3: 9, 4: 16, 5: 25, 6: 36, 7: 49, 8: 64, 9: 81, 10: 100}"
      ]
     },
     "execution_count": 120,
     "metadata": {},
     "output_type": "execute_result"
    }
   ],
   "source": [
    "# create a dict containing !st 10 numbers and their squares in \n",
    "{i:i**2 for i in range(1,11)}"
   ]
  },
  {
   "cell_type": "code",
   "execution_count": 124,
   "id": "3f451473-5294-49d3-809b-a2f493c0d1a5",
   "metadata": {},
   "outputs": [
    {
     "name": "stdout",
     "output_type": "stream",
     "text": [
      "dict_items([('delhi', 4000), ('pune', 9899), ('pata', 100)])\n"
     ]
    },
    {
     "data": {
      "text/plain": [
       "{'delhi': 2400.0, 'pune': 5939.4, 'pata': 60.0}"
      ]
     },
     "execution_count": 124,
     "metadata": {},
     "output_type": "execute_result"
    }
   ],
   "source": [
    "# using existing dist \n",
    "dis={'delhi':4000,'pune':9899,'pata':100}\n",
    "print(dis.items())\n",
    "\n",
    "{key:value*0.6 for (key,value) in dis.items()}"
   ]
  },
  {
   "cell_type": "code",
   "execution_count": 127,
   "id": "3b41c0b4-f985-4c27-8c13-901a99d055d7",
   "metadata": {},
   "outputs": [
    {
     "data": {
      "text/plain": [
       "{'bio': 60, 'che': 98, 'ds': 95, 'maths': 57}"
      ]
     },
     "execution_count": 127,
     "metadata": {},
     "output_type": "execute_result"
    }
   ],
   "source": [
    "dd={'bio': 40, 'che': 78, 'ds': 75, 'maths': 37}\n",
    "{key:value+20 for(key,value) in dd.items()}\n"
   ]
  },
  {
   "cell_type": "code",
   "execution_count": 128,
   "id": "766d04d2-4329-4546-9e93-afb283e5b616",
   "metadata": {},
   "outputs": [
    {
     "ename": "ValueError",
     "evalue": "too many values to unpack (expected 2)",
     "output_type": "error",
     "traceback": [
      "\u001b[1;31m---------------------------------------------------------------------------\u001b[0m",
      "\u001b[1;31mValueError\u001b[0m                                Traceback (most recent call last)",
      "Cell \u001b[1;32mIn[128], line 4\u001b[0m\n\u001b[0;32m      2\u001b[0m days\u001b[38;5;241m=\u001b[39m[\u001b[38;5;124m'\u001b[39m\u001b[38;5;124mmon\u001b[39m\u001b[38;5;124m'\u001b[39m,\u001b[38;5;124m'\u001b[39m\u001b[38;5;124mtue\u001b[39m\u001b[38;5;124m'\u001b[39m,\u001b[38;5;124m'\u001b[39m\u001b[38;5;124mwed\u001b[39m\u001b[38;5;124m'\u001b[39m,\u001b[38;5;124m'\u001b[39m\u001b[38;5;124mthu\u001b[39m\u001b[38;5;124m'\u001b[39m,\u001b[38;5;124m'\u001b[39m\u001b[38;5;124mfri\u001b[39m\u001b[38;5;124m'\u001b[39m,\u001b[38;5;124m'\u001b[39m\u001b[38;5;124msat\u001b[39m\u001b[38;5;124m'\u001b[39m]\n\u001b[0;32m      3\u001b[0m temp\u001b[38;5;241m=\u001b[39m[\u001b[38;5;241m23\u001b[39m,\u001b[38;5;241m43\u001b[39m,\u001b[38;5;241m45\u001b[39m,\u001b[38;5;241m67\u001b[39m,\u001b[38;5;241m54\u001b[39m,\u001b[38;5;241m33\u001b[39m]\n\u001b[1;32m----> 4\u001b[0m {i:j \u001b[38;5;28;01mfor\u001b[39;00m [i,j] \u001b[38;5;129;01min\u001b[39;00m (days,temp)}\n",
      "Cell \u001b[1;32mIn[128], line 4\u001b[0m, in \u001b[0;36m<dictcomp>\u001b[1;34m(.0)\u001b[0m\n\u001b[0;32m      2\u001b[0m days\u001b[38;5;241m=\u001b[39m[\u001b[38;5;124m'\u001b[39m\u001b[38;5;124mmon\u001b[39m\u001b[38;5;124m'\u001b[39m,\u001b[38;5;124m'\u001b[39m\u001b[38;5;124mtue\u001b[39m\u001b[38;5;124m'\u001b[39m,\u001b[38;5;124m'\u001b[39m\u001b[38;5;124mwed\u001b[39m\u001b[38;5;124m'\u001b[39m,\u001b[38;5;124m'\u001b[39m\u001b[38;5;124mthu\u001b[39m\u001b[38;5;124m'\u001b[39m,\u001b[38;5;124m'\u001b[39m\u001b[38;5;124mfri\u001b[39m\u001b[38;5;124m'\u001b[39m,\u001b[38;5;124m'\u001b[39m\u001b[38;5;124msat\u001b[39m\u001b[38;5;124m'\u001b[39m]\n\u001b[0;32m      3\u001b[0m temp\u001b[38;5;241m=\u001b[39m[\u001b[38;5;241m23\u001b[39m,\u001b[38;5;241m43\u001b[39m,\u001b[38;5;241m45\u001b[39m,\u001b[38;5;241m67\u001b[39m,\u001b[38;5;241m54\u001b[39m,\u001b[38;5;241m33\u001b[39m]\n\u001b[1;32m----> 4\u001b[0m {i:j \u001b[38;5;28;01mfor\u001b[39;00m [i,j] \u001b[38;5;129;01min\u001b[39;00m (days,temp)}\n",
      "\u001b[1;31mValueError\u001b[0m: too many values to unpack (expected 2)"
     ]
    }
   ],
   "source": [
    "# using zip\n",
    "days=['mon','tue','wed','thu','fri','sat']\n",
    "temp=[23,43,45,67,54,33]\n",
    "{i:j for [i,j] in (days,temp)}"
   ]
  },
  {
   "cell_type": "code",
   "execution_count": null,
   "id": "ac250f1b-28cb-4335-93e0-af8e96ed55ba",
   "metadata": {},
   "outputs": [],
   "source": []
  },
  {
   "cell_type": "code",
   "execution_count": null,
   "id": "a523a87e-e50d-48b8-afc6-34339f024cb3",
   "metadata": {},
   "outputs": [],
   "source": []
  },
  {
   "cell_type": "code",
   "execution_count": null,
   "id": "e820cdfe-56b7-4986-8a72-4f322c996be7",
   "metadata": {},
   "outputs": [],
   "source": []
  },
  {
   "cell_type": "code",
   "execution_count": null,
   "id": "cdc710f4-8502-4f19-8eb1-abf59adf86c8",
   "metadata": {},
   "outputs": [],
   "source": []
  },
  {
   "cell_type": "markdown",
   "id": "94b43d30-dce9-4402-9fe2-a001d1b8d5ea",
   "metadata": {},
   "source": [
    "Practice questions "
   ]
  },
  {
   "cell_type": "code",
   "execution_count": 132,
   "id": "6160ed03-88fd-4dd8-8c95-9ded10cd4a59",
   "metadata": {},
   "outputs": [
    {
     "ename": "TypeError",
     "evalue": "unhashable type: 'list'",
     "output_type": "error",
     "traceback": [
      "\u001b[1;31m---------------------------------------------------------------------------\u001b[0m",
      "\u001b[1;31mTypeError\u001b[0m                                 Traceback (most recent call last)",
      "Cell \u001b[1;32mIn[132], line 1\u001b[0m\n\u001b[1;32m----> 1\u001b[0m student\u001b[38;5;241m=\u001b[39m{[\u001b[38;5;241m1\u001b[39m,\u001b[38;5;241m2\u001b[39m,\u001b[38;5;241m3\u001b[39m,\u001b[38;5;241m4\u001b[39m]:\u001b[38;5;124m'\u001b[39m\u001b[38;5;124mharshit\u001b[39m\u001b[38;5;124m'\u001b[39m,\u001b[38;5;124m'\u001b[39m\u001b[38;5;124mgender\u001b[39m\u001b[38;5;124m'\u001b[39m:\u001b[38;5;124m'\u001b[39m\u001b[38;5;124mmale\u001b[39m\u001b[38;5;124m'\u001b[39m}\n\u001b[0;32m      2\u001b[0m student[\u001b[38;5;124m\"\u001b[39m\u001b[38;5;124mroll_number\u001b[39m\u001b[38;5;124m\"\u001b[39m]\u001b[38;5;241m=\u001b[39m\u001b[38;5;241m56\u001b[39m\n\u001b[0;32m      3\u001b[0m student\n",
      "\u001b[1;31mTypeError\u001b[0m: unhashable type: 'list'"
     ]
    }
   ],
   "source": [
    "student={[1,2,3,4]:'harshit','gender':'male'}\n",
    "student[\"roll_number\"]=56\n",
    "student"
   ]
  },
  {
   "cell_type": "code",
   "execution_count": 134,
   "id": "14626dcc-19d6-401e-9617-5ad1c3547f7a",
   "metadata": {},
   "outputs": [
    {
     "data": {
      "text/plain": [
       "{(1, 2, 3, 4): 'harshit', 'gender': 'male'}"
      ]
     },
     "execution_count": 134,
     "metadata": {},
     "output_type": "execute_result"
    }
   ],
   "source": [
    "student={(1,2,3,4):'harshit','gender':'male'}\n",
    "student"
   ]
  },
  {
   "cell_type": "code",
   "execution_count": 171,
   "id": "c6c812fe-b92a-40fd-be73-75ed45a26773",
   "metadata": {},
   "outputs": [],
   "source": [
    "def repeat(str,substring):\n",
    "    count=0\n",
    "    for i in str:\n",
    "        if i==substring:\n",
    "            count=count+1\n",
    "            \n",
    "    return \"no of A is\",count\n",
    "            \n",
    "    \n",
    "    "
   ]
  },
  {
   "cell_type": "code",
   "execution_count": 172,
   "id": "a34f0d98-8fbf-451d-bcd3-588d78df7b83",
   "metadata": {},
   "outputs": [
    {
     "data": {
      "text/plain": [
       "('no of A is', 3)"
      ]
     },
     "execution_count": 172,
     "metadata": {},
     "output_type": "execute_result"
    }
   ],
   "source": [
    "repeat(\"ANJAJA\",'A')"
   ]
  },
  {
   "cell_type": "code",
   "execution_count": 33,
   "id": "685e5912-6dfc-40d8-94a4-b4ee6e684af7",
   "metadata": {},
   "outputs": [],
   "source": [
    "def total(first,sec):\n",
    "    sum=0\n",
    "    \n",
    "    for i in first:\n",
    "        print(i)\n",
    "       \n",
    "    for j in sec:\n",
    "             \n",
    "       p=first[i]*sec[j]\n",
    "       sum=sum+p\n",
    "    return sum\n",
    "\n",
    "        "
   ]
  },
  {
   "cell_type": "code",
   "execution_count": 52,
   "id": "c54ed18b-4295-4b0e-acde-abad86b13504",
   "metadata": {},
   "outputs": [],
   "source": [
    "def total(first,sec):\n",
    "    sum=0\n",
    "    [first[i]*sec[j] for i,j in (first,sec)]"
   ]
  },
  {
   "cell_type": "code",
   "execution_count": 53,
   "id": "7f845a99-c872-4dc1-8e99-9f2a6c289484",
   "metadata": {},
   "outputs": [
    {
     "ename": "ValueError",
     "evalue": "too many values to unpack (expected 2)",
     "output_type": "error",
     "traceback": [
      "\u001b[1;31m---------------------------------------------------------------------------\u001b[0m",
      "\u001b[1;31mValueError\u001b[0m                                Traceback (most recent call last)",
      "Cell \u001b[1;32mIn[53], line 1\u001b[0m\n\u001b[1;32m----> 1\u001b[0m total(first\u001b[38;5;241m=\u001b[39m{\u001b[38;5;124m'\u001b[39m\u001b[38;5;124mbanana\u001b[39m\u001b[38;5;124m'\u001b[39m:\u001b[38;5;241m0\u001b[39m,\u001b[38;5;124m'\u001b[39m\u001b[38;5;124mapple\u001b[39m\u001b[38;5;124m'\u001b[39m:\u001b[38;5;241m5\u001b[39m,\u001b[38;5;124m'\u001b[39m\u001b[38;5;124mpapaya\u001b[39m\u001b[38;5;124m'\u001b[39m:\u001b[38;5;241m2\u001b[39m},sec\u001b[38;5;241m=\u001b[39m{\u001b[38;5;124m'\u001b[39m\u001b[38;5;124mbanana\u001b[39m\u001b[38;5;124m'\u001b[39m:\u001b[38;5;241m0\u001b[39m,\u001b[38;5;124m'\u001b[39m\u001b[38;5;124mapple\u001b[39m\u001b[38;5;124m'\u001b[39m:\u001b[38;5;241m4\u001b[39m,\u001b[38;5;124m'\u001b[39m\u001b[38;5;124mpapaya\u001b[39m\u001b[38;5;124m'\u001b[39m:\u001b[38;5;241m8\u001b[39m})\n",
      "Cell \u001b[1;32mIn[52], line 3\u001b[0m, in \u001b[0;36mtotal\u001b[1;34m(first, sec)\u001b[0m\n\u001b[0;32m      1\u001b[0m \u001b[38;5;28;01mdef\u001b[39;00m \u001b[38;5;21mtotal\u001b[39m(first,sec):\n\u001b[0;32m      2\u001b[0m     \u001b[38;5;28msum\u001b[39m\u001b[38;5;241m=\u001b[39m\u001b[38;5;241m0\u001b[39m\n\u001b[1;32m----> 3\u001b[0m     [first[i]\u001b[38;5;241m*\u001b[39msec[j] \u001b[38;5;28;01mfor\u001b[39;00m i,j \u001b[38;5;129;01min\u001b[39;00m (first,sec)]\n",
      "Cell \u001b[1;32mIn[52], line 3\u001b[0m, in \u001b[0;36m<listcomp>\u001b[1;34m(.0)\u001b[0m\n\u001b[0;32m      1\u001b[0m \u001b[38;5;28;01mdef\u001b[39;00m \u001b[38;5;21mtotal\u001b[39m(first,sec):\n\u001b[0;32m      2\u001b[0m     \u001b[38;5;28msum\u001b[39m\u001b[38;5;241m=\u001b[39m\u001b[38;5;241m0\u001b[39m\n\u001b[1;32m----> 3\u001b[0m     [first[i]\u001b[38;5;241m*\u001b[39msec[j] \u001b[38;5;28;01mfor\u001b[39;00m i,j \u001b[38;5;129;01min\u001b[39;00m (first,sec)]\n",
      "\u001b[1;31mValueError\u001b[0m: too many values to unpack (expected 2)"
     ]
    }
   ],
   "source": [
    "total(first={'banana':0,'apple':5,'papaya':2},sec={'banana':0,'apple':4,'papaya':8})"
   ]
  },
  {
   "cell_type": "code",
   "execution_count": 12,
   "id": "2f902e2b-950d-4726-84de-f56a382ffb81",
   "metadata": {},
   "outputs": [
    {
     "name": "stdout",
     "output_type": "stream",
     "text": [
      "dict_values([4, 5, 9]) dict_values([23, 34, 78])\n",
      "dict_values([4, 5, 9])\n",
      "dict_values([4, 5, 9])\n",
      "dict_values([4, 5, 9])\n"
     ]
    }
   ],
   "source": [
    "dic1={'banana':4,'apple':5,'papaya':9}\n",
    "dic2={'banana':23,'apple':34,'papaya':78}\n",
    "\n",
    "p=dic1.values()\n",
    "q=dic2.values()\n",
    "print(p,q)"
   ]
  },
  {
   "cell_type": "code",
   "execution_count": 59,
   "id": "4087e8c6-0ce9-41d7-94ea-936df3557587",
   "metadata": {},
   "outputs": [
    {
     "ename": "ValueError",
     "evalue": "dictionary update sequence element #0 has length 4; 2 is required",
     "output_type": "error",
     "traceback": [
      "\u001b[1;31m---------------------------------------------------------------------------\u001b[0m",
      "\u001b[1;31mValueError\u001b[0m                                Traceback (most recent call last)",
      "Cell \u001b[1;32mIn[59], line 3\u001b[0m\n\u001b[0;32m      1\u001b[0m l\u001b[38;5;241m=\u001b[39m[\u001b[38;5;124m'\u001b[39m\u001b[38;5;124mname\u001b[39m\u001b[38;5;124m'\u001b[39m,\u001b[38;5;124m'\u001b[39m\u001b[38;5;124mgender\u001b[39m\u001b[38;5;124m'\u001b[39m,\u001b[38;5;124m'\u001b[39m\u001b[38;5;124mhehe\u001b[39m\u001b[38;5;124m'\u001b[39m]\n\u001b[0;32m      2\u001b[0m d\u001b[38;5;241m=\u001b[39m{}\n\u001b[1;32m----> 3\u001b[0m \u001b[38;5;28mdict\u001b[39m(l)\n",
      "\u001b[1;31mValueError\u001b[0m: dictionary update sequence element #0 has length 4; 2 is required"
     ]
    }
   ],
   "source": [
    "l=['name','gender','hehe']\n",
    "d={}\n",
    "dict(l)"
   ]
  },
  {
   "cell_type": "code",
   "execution_count": null,
   "id": "49826f84-4097-4ebe-bb08-ab3b7ca4834e",
   "metadata": {},
   "outputs": [],
   "source": []
  },
  {
   "cell_type": "code",
   "execution_count": null,
   "id": "0aa5d4e6-86d2-4db1-b987-35d77066bd03",
   "metadata": {},
   "outputs": [],
   "source": []
  },
  {
   "cell_type": "code",
   "execution_count": null,
   "id": "9fd8eca7-fbe3-4333-8e64-6e505e181893",
   "metadata": {},
   "outputs": [],
   "source": []
  },
  {
   "cell_type": "code",
   "execution_count": null,
   "id": "fc8c7970-b141-4db8-ac91-665e9bb94c41",
   "metadata": {},
   "outputs": [],
   "source": []
  },
  {
   "cell_type": "code",
   "execution_count": null,
   "id": "b56f76cd-ca1a-4aab-b034-42371387b4c5",
   "metadata": {},
   "outputs": [],
   "source": []
  },
  {
   "cell_type": "markdown",
   "id": "da802c56-4923-4743-a7c0-02fc2853afc5",
   "metadata": {},
   "source": [
    "# Functions in python"
   ]
  },
  {
   "cell_type": "markdown",
   "id": "6bb0f268-1241-437a-b218-aab9ab8e3eda",
   "metadata": {},
   "source": [
    "Biltin fun -> print() , count() , type() , etc\n",
    "User Built Function\n",
    "\n",
    "def is_even(input):\n",
    "       \"\"\" doc string , manual\"\"\"\n",
    "      What to do \n",
    "      return()\n",
    "      is something(calling)"
   ]
  },
  {
   "cell_type": "code",
   "execution_count": 31,
   "id": "1a04a07e-bc7c-4416-85bb-75f937ea195c",
   "metadata": {},
   "outputs": [],
   "source": [
    "# creating a function\n",
    "# create a fun that can return a user input as odd or even\n",
    "def is_even(num):                   # num is parameter\n",
    "    \"\"\"\n",
    "    This fun return if a given no is odd or even \n",
    "    input-any integer\n",
    "    output-odd/even\n",
    "    created by-harshit\n",
    "    \"\"\"\n",
    "    if type(num)==int:\n",
    "        \n",
    "     if num%2==0:\n",
    "         return 'even'\n",
    "     else:\n",
    "         return 'odd'\n",
    "    else:\n",
    "        print(\"hehe this data type  is not allowed\")"
   ]
  },
  {
   "cell_type": "code",
   "execution_count": 21,
   "id": "c46f6d9d-9226-4edd-b45e-1bf246bb8532",
   "metadata": {},
   "outputs": [
    {
     "name": "stdout",
     "output_type": "stream",
     "text": [
      "even\n",
      "odd\n",
      "even\n",
      "odd\n",
      "even\n",
      "odd\n",
      "even\n",
      "odd\n",
      "even\n",
      "odd\n",
      "even\n"
     ]
    }
   ],
   "source": [
    "# now we need to call that fun \n",
    "# syn--> function name(input)\n",
    "# We have to define that only int is allowed\n",
    "for i  in range(0,11):\n",
    "    x=is_even(i)\n",
    "    print(x)"
   ]
  },
  {
   "cell_type": "code",
   "execution_count": 32,
   "id": "d1ab6982-9772-41ff-b251-959170b598c9",
   "metadata": {},
   "outputs": [
    {
     "name": "stdout",
     "output_type": "stream",
     "text": [
      "hehe this data type  is not allowed\n"
     ]
    }
   ],
   "source": [
    "is_even(\"hello\")"
   ]
  },
  {
   "cell_type": "code",
   "execution_count": null,
   "id": "79a53bee-17b8-4c68-9ed7-4151f3568706",
   "metadata": {},
   "outputs": [],
   "source": []
  },
  {
   "cell_type": "markdown",
   "id": "a440db3a-5691-4197-ba90-b5f738fccf9c",
   "metadata": {},
   "source": [
    "Types of arguments\n",
    "1. Defult Argument\n",
    "2. Positional Argument\n",
    "3. Keyword argument"
   ]
  },
  {
   "cell_type": "code",
   "execution_count": 35,
   "id": "29f3a166-42d3-4ff9-9459-bac981167747",
   "metadata": {},
   "outputs": [],
   "source": [
    "def harshit(num):\n",
    "    return num**2"
   ]
  },
  {
   "cell_type": "code",
   "execution_count": 36,
   "id": "035310e0-9a32-4ac4-a4ce-fab53d333344",
   "metadata": {},
   "outputs": [
    {
     "data": {
      "text/plain": [
       "144"
      ]
     },
     "execution_count": 36,
     "metadata": {},
     "output_type": "execute_result"
    }
   ],
   "source": [
    "harshit(12)"
   ]
  },
  {
   "cell_type": "code",
   "execution_count": 41,
   "id": "d7378683-01cb-4cc5-909d-e36b23f54f5d",
   "metadata": {},
   "outputs": [],
   "source": [
    "# Default argument\n",
    "\"\"\"value of parameter ia called argument.\n",
    "here we have provided 1,1 as default argument of paramenter a and b \n",
    "\"\"\"\n",
    "def power(a=1,b=1):\n",
    "    return a**b\n"
   ]
  },
  {
   "cell_type": "code",
   "execution_count": 40,
   "id": "a71086e6-e15f-4edb-a706-2c31ea18ff5b",
   "metadata": {},
   "outputs": [
    {
     "name": "stdout",
     "output_type": "stream",
     "text": [
      "2\n",
      "4\n"
     ]
    }
   ],
   "source": [
    "print(power(2))\n",
    "print(power(2,2))"
   ]
  },
  {
   "cell_type": "code",
   "execution_count": null,
   "id": "5041f230-9af0-4546-84eb-5447dd600694",
   "metadata": {},
   "outputs": [],
   "source": []
  },
  {
   "cell_type": "code",
   "execution_count": null,
   "id": "24d7cc73-51c7-4a72-8999-c485f7185249",
   "metadata": {},
   "outputs": [],
   "source": []
  },
  {
   "cell_type": "code",
   "execution_count": null,
   "id": "1f6d0851-dd6e-4a17-856f-e0e20cd34f43",
   "metadata": {},
   "outputs": [],
   "source": []
  }
 ],
 "metadata": {
  "kernelspec": {
   "display_name": "Python 3 (ipykernel)",
   "language": "python",
   "name": "python3"
  },
  "language_info": {
   "codemirror_mode": {
    "name": "ipython",
    "version": 3
   },
   "file_extension": ".py",
   "mimetype": "text/x-python",
   "name": "python",
   "nbconvert_exporter": "python",
   "pygments_lexer": "ipython3",
   "version": "3.11.7"
  },
  "widgets": {
   "application/vnd.jupyter.widget-state+json": {
    "state": {},
    "version_major": 2,
    "version_minor": 0
   }
  }
 },
 "nbformat": 4,
 "nbformat_minor": 5
}
